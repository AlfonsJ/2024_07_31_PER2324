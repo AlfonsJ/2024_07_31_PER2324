{
 "cells": [
  {
   "cell_type": "markdown",
   "metadata": {},
   "source": [
    "# T00 Presentación (grupo 3CO11)"
   ]
  },
  {
   "cell_type": "markdown",
   "metadata": {},
   "source": [
    "## 1. Temario\n",
    "\n",
    "* **Bloque 1 (B1):** $\\;$ [introducción](https://github.com/AlfonsJ/2024_07_31_PER2324/blob/main/T01%20Introducci%C3%B3n.ipynb), [fundamentos](https://github.com/AlfonsJ/2024_07_31_PER2324/blob/main/T02%20Fundamentos.ipynb) y [modelos lineales](https://github.com/AlfonsJ/2024_07_31_PER2324/blob/main/T03%20Modelos%20lineales.ipynb)\n",
    "* **Bloque 2 (B2):** $\\;$ [árboles, bosques, bagging y boosting](https://github.com/AlfonsJ/2024_07_31_PER2324/blob/main/T04%20%C3%81rboles%2C%20bosques%2C%20bagging%20y%20boosting.ipynb) y [modelos basados en ejemplos](https://github.com/AlfonsJ/2024_07_31_PER2324/blob/main/T05%20Modelos%20basados%20en%20ejemplos.ipynb)"
   ]
  },
  {
   "cell_type": "markdown",
   "metadata": {},
   "source": [
    "## 2. Profesorado y bibliografía\n",
    "\n",
    "### Profesorado\n",
    "\n",
    "* **Alfons Juan:** $\\;$ profesor de teoría, [ficha personal](https://www.upv.es/ficha-personal/AJUANCI), [github](https://github.com/AlfonsJ)\n",
    "* **Gerard Mas:** $\\;$ profesor de prácticas (colaborador docente), [ficha personal](https://www.upv.es/ficha-personal/gemamol), [github](https://github.com/TheMuiaio)\n",
    "\n",
    "### Bibliografía\n",
    "\n",
    "* **PML1: Kevin P. Murphy. Probabilistic Machine Learning: An introduction. MIT Press, 2022.** [web](https://probml.github.io/pml-book/book1.html) [pdf](https://github.com/probml/pml-book/releases/latest/download/book1.pdf)\n",
    "* Kevin P. Murphy. Probabilistic Machine Learning: Advanced Topics. MIT Press, 2023. [web](https://probml.github.io/pml-book/book2.html) [pdf](https://github.com/probml/pml2-book/releases/latest/download/book2.pdf)\n",
    "* Simon J.D. Prince. Understanding Deep Learning. MIT Press, 2023. [web](https://udlbook.github.io/udlbook) [pdf](https://github.com/udlbook/udlbook/releases/download/v2.00/UnderstandingDeepLearning_28_01_24_C.pdf)\n",
    "* Chris Bishop, and Hugh Bishop. Deep Learning: Foundations and Concepts. Springer, 2024. [web](https://www.bishopbook.com) (pdf en polibuscador)\n",
    "* Marc Peter Deisenroth, A. Aldo Faisal, and Cheng Soon Ong. Mathematics for Machine Learning. Cambridge University Press, 2020. [web](https://mml-book.github.io) [pdf](https://mml-book.github.io/book/mml-book.pdf)"
   ]
  },
  {
   "cell_type": "markdown",
   "metadata": {},
   "source": [
    "## 3. Evaluación\n",
    "\n",
    "* **A1:** $\\;$ Prueba práctica de laboratorio de B1 (2 puntos)\n",
    "* **A2:** $\\;$ Prueba escrita sobre B1 (3 puntos)\n",
    "* **A3:** $\\;$ Prueba práctica de laboratorio de B2 (2 puntos)\n",
    "* **A4:** $\\;$ Prueba escrita sobre B2 (3 puntos)\n",
    "* **Nota final B1:** $\\;$ NF1 = A1 + ( 1 - A1/5 ) * A2 * 5/3\n",
    "* **Nota final B2:** $\\;$ NF2 = A3 + ( 1 - A3/5 ) * A4 * 5/3\n",
    "* **Nota final:** $\\;$ NF = NF1 + NF2 $\\;$ ($\\geq 5$ para aprobar)\n",
    "* **Recuperación:** $\\;$ si NF $\\leq 5$ o para **modificar** nota\n",
    "  * **A5:** $\\;$ Prueba escrita sobre B1 (3 puntos)\n",
    "  * **A6:** $\\;$ Prueba escrita sobre B2 (3 puntos)\n",
    "  * En caso de no presentarse a A5, pero sí a A6, se tomará A5=A2\n",
    "  * En caso de no presentarse a A6, pero sí a A5, se tomará A6=A4\n",
    "* **Nota final modificada B1:** $\\;$ NFM1 = A1 + ( 1 - A1/5 ) * A5 * 5/3\n",
    "* **Nota final modificada B2:** $\\;$ NFM2 = A3 + ( 1 - A3/5 ) * A6 * 5/3\n",
    "* **Nota final modificada:** $\\;$ NFM = NFM1 + NFM2 $\\;$ ($\\geq 5$ para aprobar)\n",
    "* **Dispensa:** $\\;$ la evaluación con y sin dispensa son idénticas\n",
    "* **Asistencia:** $\\;$ no se requiere asistencia mínima a clase\n",
    "* **Notas mínimas:** $\\;$ no se requieren para ningún acto de evaluación\n",
    "* **Matrículas de honor:** $\\;$ se deciden tras acabar la asignatura, a partir de las notas finales iguales o próximas a 10"
   ]
  },
  {
   "cell_type": "markdown",
   "metadata": {},
   "source": [
    "## 4. Planificación\n",
    "\n",
    "* **Horario de teoría:** $\\;$ **viernes de 11h a 13.30h a partir del 16/2 en el aula 1G 1.2**\n",
    "* **Horario de prácticas:** $\\;$ **martes de 8h a 9.30h a partir del 5/3 en el LAB DSIC 5**\n",
    "* **Semana 1 12/2-16/2:** $\\;$ solo teoría el 16/2, [introducción](https://github.com/AlfonsJ/2024_07_31_PER2324/blob/main/T01%20Introducci%C3%B3n.ipynb)\n",
    "* **Semana 2 19/2-23/2:** $\\;$ solo teoría el 23/2, [fundamentos 1](https://github.com/AlfonsJ/2024_07_31_PER2324/blob/main/T02%20Fundamentos.ipynb)\n",
    "* **Semana 3 26/2-1/3:** $\\;$ solo teoría el 1/3, [fundamentos 2](https://github.com/AlfonsJ/2024_07_31_PER2324/blob/main/T02%20Fundamentos.ipynb)\n",
    "* **Semana 4 4/3-8/3:** $\\;$ lab el 5/3, LabB1 1; teoría el 8/3, [fundamentos 3](https://github.com/AlfonsJ/2024_07_31_PER2324/blob/main/T02%20Fundamentos.ipynb)\n",
    "* **Semana 5 11/3-15/3:** $\\;$ lab el 12/3, LabB1 2; teoría el 15/3, [lineales 1](https://github.com/AlfonsJ/2024_07_31_PER2324/blob/main/T03%20Modelos%20lineales.ipynb)\n",
    "* **Semana 6 18/3-22/3:** $\\;$ solo teoría el 22/3, [lineales 2](https://github.com/AlfonsJ/2024_07_31_PER2324/blob/main/T03%20Modelos%20lineales.ipynb)\n",
    "* **Semana 7 25/3-29/3:** $\\;$ solo lab el 26/3, LabB1 3\n",
    "* **Semana 8 1/4-5/4:** $\\;$ no hay clase\n",
    "* **Semana 9 8/4-12/4:** $\\;$ **examen del B1 (A1) el 9/4 de 11h a 13.30h**\n",
    "* **Semana 10 15/4-19/4:** $\\;$ lab el 16/4, LabB1 4; teoría el 19/4, [árboles 1](https://github.com/AlfonsJ/2024_07_31_PER2324/blob/main/T04%20%C3%81rboles%2C%20bosques%2C%20bagging%20y%20boosting.ipynb)\n",
    "* **Semana 11 22/4-26/4:** $\\;$ lab el 23/4, **examen de lab del B1 (A1);** teoría el 26/4, [árboles 2](https://github.com/AlfonsJ/2024_07_31_PER2324/blob/main/T04%20%C3%81rboles%2C%20bosques%2C%20bagging%20y%20boosting.ipynb)\n",
    "* **Semana 12 29/4-3/5:** $\\;$ lab el 30/4, LabB2 1; teoría el 3/5, [árboles 3](https://github.com/AlfonsJ/2024_07_31_PER2324/blob/main/T04%20%C3%81rboles%2C%20bosques%2C%20bagging%20y%20boosting.ipynb)\n",
    "* **Semana 13 6/5-10/5:** $\\;$ solo lab el 7/5, LabB2 2, \n",
    "* **Semana 14 13/5-17/5:** $\\;$ lab el 14/5, LabB2 3; teoría el 17/5, [ejemplos 1](https://github.com/AlfonsJ/2024_07_31_PER2324/blob/main/T05%20Modelos%20basados%20en%20ejemplos.ipynb)\n",
    "* **Semana 15 20/5-24/5:** $\\;$ lab el 21/5, LabB2 4; teoría el 24/5, [ejemplos 2](https://github.com/AlfonsJ/2024_07_31_PER2324/blob/main/T05%20Modelos%20basados%20en%20ejemplos.ipynb)\n",
    "* **Semana 16 27/5-31/5:** $\\;$ lab el 28/5, **examen de lab del B2 (A3);** teoría el 31/5, [ejemplos 3](https://github.com/AlfonsJ/2024_07_31_PER2324/blob/main/T05%20Modelos%20basados%20en%20ejemplos.ipynb)\n",
    "* **Semana 17 3/6-7/6:** $\\;$ **examen del B2 (A4) el 4/6 de 15h a 17.30h**\n",
    "* **Recuperación:** $\\;$ **examen de recuperación (A5 y A6) el 25/6 de 8.30h a 10.30h**"
   ]
  }
 ],
 "metadata": {
  "language_info": {
   "name": "python"
  }
 },
 "nbformat": 4,
 "nbformat_minor": 2
}
