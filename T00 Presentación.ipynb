{
 "cells": [
  {
   "cell_type": "markdown",
   "metadata": {},
   "source": [
    "# T00 Presentación"
   ]
  },
  {
   "cell_type": "markdown",
   "metadata": {},
   "source": [
    "## 1. Temario\n",
    "\n",
    "* **Bloque 1 (B1):** $\\;$ [introducción](https://github.com/AlfonsJ/2024_07_31_PER2324/blob/main/T01%20Introducci%C3%B3n.ipynb), [fundamentos](https://github.com/AlfonsJ/2024_07_31_PER2324/blob/main/T02%20Fundamentos.ipynb) y [modelos lineales](https://github.com/AlfonsJ/2024_07_31_PER2324/blob/main/T03%20Modelos%20lineales.ipynb)\n",
    "* **Bloque 2 (B2):** $\\;$ [árboles, bosques, bagging y boosting](https://github.com/AlfonsJ/2024_07_31_PER2324/blob/main/T04%20%C3%81rboles%2C%20bosques%2C%20bagging%20y%20boosting.ipynb) y [modelos basados en ejemplos](https://github.com/AlfonsJ/2024_07_31_PER2324/blob/main/T05%20Modelos%20basados%20en%20ejemplos.ipynb)"
   ]
  },
  {
   "cell_type": "markdown",
   "metadata": {},
   "source": [
    "## 2. Evaluación\n",
    "\n",
    "* **A1:** $\\;$ Prueba práctica de laboratorio de B1 (2 puntos)\n",
    "* **A2:** $\\;$ Prueba escrita sobre B1 (3 puntos)\n",
    "* **A3:** $\\;$ Prueba práctica de laboratorio de B2 (2 puntos)\n",
    "* **A4:** $\\;$ Prueba escrita sobre B2 (3 puntos)\n",
    "* **Nota final B1:** $\\;$ NF1 = A1 + ( 1 - A1/5 ) * A2 * 5/3\n",
    "* **Nota final B2:** $\\;$ NF2 = A3 + ( 1 - A3/5 ) * A4 * 5/3\n",
    "* **Nota final:** $\\;$ NF = NF1 + NF2 $\\;$ ($\\geq 5$ para aprobar)\n",
    "* **Recuperación:** $\\;$ si NF $\\leq 5$ o para **modificar** nota\n",
    "  * **A5:** $\\;$ Prueba escrita sobre B1 (3 puntos)\n",
    "  * **A6:** $\\;$ Prueba escrita sobre B2 (3 puntos)\n",
    "  * En caso de no presentarse a A5, pero sí a A6, se tomará A5=A2\n",
    "  * En caso de no presentarse a A6, pero sí a A5, se tomará A6=A4\n",
    "* **Nota final modificada B1:** $\\;$ NFM1 = A1 + ( 1 - A1/5 ) * A5 * 5/3\n",
    "* **Nota final modificada B2:** $\\;$ NFM2 = A3 + ( 1 - A3/5 ) * A6 * 5/3\n",
    "* **Nota final modificada:** $\\;$ NFM = NFM1 + NFM2 $\\;$ ($\\geq 5$ para aprobar)\n",
    "* **Dispensa:** $\\;$ la evaluación con y sin dispensa son idénticas\n",
    "* **Asistencia:** $\\;$ no se requiere asistencia mínima a clase\n",
    "* **Notas mínimas:** $\\;$ no se requieren para ningún acto de evaluación\n",
    "* **Matrículas de honor:** $\\;$ se deciden tras acabar la asignatura, a partir de las notas finales iguales o próximas a 10"
   ]
  }
 ],
 "metadata": {
  "language_info": {
   "name": "python"
  }
 },
 "nbformat": 4,
 "nbformat_minor": 2
}
