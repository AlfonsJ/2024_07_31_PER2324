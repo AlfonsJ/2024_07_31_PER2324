{
 "cells": [
  {
   "cell_type": "markdown",
   "metadata": {},
   "source": [
    "# T00 Presentación (grupo 3CO11)"
   ]
  },
  {
   "cell_type": "markdown",
   "metadata": {},
   "source": [
    "## 1. Temario\n",
    "\n",
    "* **Bloque 1 (B1):** $\\;$ [introducción](https://github.com/AlfonsJ/2024_07_31_PER2324/blob/main/T01%20Introducci%C3%B3n.ipynb), [fundamentos](https://github.com/AlfonsJ/2024_07_31_PER2324/blob/main/T02%20Fundamentos.ipynb) y [modelos lineales](https://github.com/AlfonsJ/2024_07_31_PER2324/blob/main/T03%20Modelos%20lineales.ipynb)\n",
    "* **Bloque 2 (B2):** $\\;$ [árboles, bosques, bagging y boosting](https://github.com/AlfonsJ/2024_07_31_PER2324/blob/main/T04%20%C3%81rboles%2C%20bosques%2C%20bagging%20y%20boosting.ipynb) y [modelos basados en ejemplos](https://github.com/AlfonsJ/2024_07_31_PER2324/blob/main/T05%20Modelos%20basados%20en%20ejemplos.ipynb)"
   ]
  },
  {
   "cell_type": "markdown",
   "metadata": {},
   "source": [
    "## 2. Profesorado y bibliografía\n",
    "\n",
    "### Profesorado\n",
    "\n",
    "* **Alfons Juan:** $\\;$ profesor de teoría, [ficha personal](https://www.upv.es/ficha-personal/AJUANCI), [github](https://github.com/AlfonsJ)\n",
    "* **Gerard Mas:** $\\;$ profesor de prácticas (colaborador docente), [ficha personal](https://www.upv.es/ficha-personal/gemamol), [github](https://github.com/TheMuiaio)\n",
    "\n",
    "### Bibliografía\n",
    "\n",
    "* **Kevin P. Murphy. Probabilistic Machine Learning: An introduction. MIT Press, 2022.** [web](https://probml.github.io/pml-book/book1.html) [pdf](https://github.com/probml/pml-book/releases/latest/download/book1.pdf)\n",
    "* Kevin P. Murphy. Probabilistic Machine Learning: Advanced Topics. MIT Press, 2023. [web](https://probml.github.io/pml-book/book2.html) [pdf](https://github.com/probml/pml2-book/releases/latest/download/book2.pdf)\n",
    "* Simon J.D. Prince. Understanding Deep Learning. MIT Press, 2023. [web](https://udlbook.github.io/udlbook) [pdf](https://github.com/udlbook/udlbook/releases/download/v2.00/UnderstandingDeepLearning_28_01_24_C.pdf)\n",
    "* Chris Bishop, and Hugh Bishop. Deep Learning: Foundations and Concepts. Springer, 2024. [web](https://www.bishopbook.com) (pdf en polibuscador)\n",
    "* Marc Peter Deisenroth, A. Aldo Faisal, and Cheng Soon Ong. Mathematics for Machine Learning. Cambridge University Press, 2020. [web](https://mml-book.github.io) [pdf](https://mml-book.github.io/book/mml-book.pdf)"
   ]
  },
  {
   "cell_type": "markdown",
   "metadata": {},
   "source": [
    "## 3. Evaluación\n",
    "\n",
    "* **A1:** $\\;$ Prueba práctica de laboratorio de B1 (2 puntos)\n",
    "* **A2:** $\\;$ Prueba escrita sobre B1 (3 puntos)\n",
    "* **A3:** $\\;$ Prueba práctica de laboratorio de B2 (2 puntos)\n",
    "* **A4:** $\\;$ Prueba escrita sobre B2 (3 puntos)\n",
    "* **Nota final B1:** $\\;$ NF1 = A1 + ( 1 - A1/5 ) * A2 * 5/3\n",
    "* **Nota final B2:** $\\;$ NF2 = A3 + ( 1 - A3/5 ) * A4 * 5/3\n",
    "* **Nota final:** $\\;$ NF = NF1 + NF2 $\\;$ ($\\geq 5$ para aprobar)\n",
    "* **Recuperación:** $\\;$ si NF $\\leq 5$ o para **modificar** nota\n",
    "  * **A5:** $\\;$ Prueba escrita sobre B1 (3 puntos)\n",
    "  * **A6:** $\\;$ Prueba escrita sobre B2 (3 puntos)\n",
    "  * En caso de no presentarse a A5, pero sí a A6, se tomará A5=A2\n",
    "  * En caso de no presentarse a A6, pero sí a A5, se tomará A6=A4\n",
    "* **Nota final modificada B1:** $\\;$ NFM1 = A1 + ( 1 - A1/5 ) * A5 * 5/3\n",
    "* **Nota final modificada B2:** $\\;$ NFM2 = A3 + ( 1 - A3/5 ) * A6 * 5/3\n",
    "* **Nota final modificada:** $\\;$ NFM = NFM1 + NFM2 $\\;$ ($\\geq 5$ para aprobar)\n",
    "* **Dispensa:** $\\;$ la evaluación con y sin dispensa son idénticas\n",
    "* **Asistencia:** $\\;$ no se requiere asistencia mínima a clase\n",
    "* **Notas mínimas:** $\\;$ no se requieren para ningún acto de evaluación\n",
    "* **Matrículas de honor:** $\\;$ se deciden tras acabar la asignatura, a partir de las notas finales iguales o próximas a 10"
   ]
  },
  {
   "cell_type": "markdown",
   "metadata": {},
   "source": [
    "## 4. Planificación\n",
    "\n",
    "|Semana|Teoría (viernes 11-13h)|Prácticas (martes 8-9.30h)|\n",
    "|:-:|:-:|:-:|\n",
    "|12/2-16/2|Introducción 16/2|-|\n",
    "|19/2-23/2|Fudamentos 1 23/2|-|\n",
    "|26/2-1/3|Fudamentos 2 1/3|-|\n",
    "|4/3-8/3|Fudamentos 3 8/3|LabB1 1 5/3|\n",
    "|11/3-15/3|Lineales 1 15/3|LabB1 2 12/3|\n",
    "|18/3-22/3|Lineales 2 22/3|-|\n",
    "|25/3-29/3|-|LabB1 3 26/3|\n",
    "|1/4-5/4|-|-|\n",
    "|8/4-12/4|**A2 9/4 11-13.30h**|-|\n",
    "|15/4-19/4|Árboles 1 19/4|LabB1 4 16/4|\n",
    "|22/4-26/4|Árboles 2 26/4|**A1 23/4**|\n",
    "|29/4-3/5|Árboles 3 3/5|LabB2 1 30/4|\n",
    "|6/5-10/5|-|LabB2 2 7/5|\n",
    "|13/5-17/5|K-vecinos 1 17/5|LabB2 3 14/5|\n",
    "|20/5-24/5|K-vecinos 2 24/5|LabB2 4 21/5|\n",
    "|27/5-31/5|K-vecinos 3 31/5|**A3 28/5**|\n",
    "|3/6-7/6||**A4 4/6 15-17.30h**|-|\n",
    "|24/6-28/6|**A5-A6 25/6 8.30-10.30h**|-|\n"
   ]
  }
 ],
 "metadata": {
  "language_info": {
   "name": "python"
  }
 },
 "nbformat": 4,
 "nbformat_minor": 2
}
