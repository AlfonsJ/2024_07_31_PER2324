{
 "cells": [
  {
   "cell_type": "markdown",
   "metadata": {},
   "source": [
    "# T03 Modelos lineales"
   ]
  },
  {
   "cell_type": "markdown",
   "metadata": {},
   "source": [
    "## 1. Clasificadores generativos vs discriminativos\n",
    "\n",
    "1. **Caracterización y ejemplos:** $\\;$ [caracterización](https://github.com/AlfonsJ/PML1/blob/main/P02%20Modelos%20lineales/T09%20An%C3%A1lisis%20discriminante%20lineal/9.1%20Introducci%C3%B3n/9.1%20Introducci%C3%B3n.ipynb) y [ejemplos](https://github.com/AlfonsJ/PML1/blob/main/P02%20Modelos%20lineales/T09%20An%C3%A1lisis%20discriminante%20lineal/9.4%20Clasificadores%20generativos%20vs%20discriminativos/9.4.0%20Ejemplos.ipynb)\n",
    "2. **Comparación:** $\\;$ [ventajas de los discriminativos](https://github.com/AlfonsJ/PML1/blob/main/P02%20Modelos%20lineales/T09%20An%C3%A1lisis%20discriminante%20lineal/9.4%20Clasificadores%20generativos%20vs%20discriminativos/9.4.1%20Ventajas%20de%20los%20clasificadores%20discriminativos.ipynb) y [ventajas de los generativos](https://github.com/AlfonsJ/PML1/blob/main/P02%20Modelos%20lineales/T09%20An%C3%A1lisis%20discriminante%20lineal/9.4%20Clasificadores%20generativos%20vs%20discriminativos/9.4.2%20Ventajas%20de%20los%20clasificadores%20generativos.ipynb)"
   ]
  },
  {
   "cell_type": "markdown",
   "metadata": {},
   "source": [
    "## 2. Análisis discriminante lineal (LDA)\n",
    "\n",
    "1. **Análisis discriminante Gaussiano:** $\\;$ [asunción Gaussiana](https://github.com/AlfonsJ/PML1/blob/main/P02%20Modelos%20lineales/T09%20An%C3%A1lisis%20discriminante%20lineal/9.2%20An%C3%A1lisis%20discriminante%20Gaussiano/9.2.0%20Introducci%C3%B3n.ipynb), [fronteras cuadráticas (QDA)](https://github.com/AlfonsJ/PML1/blob/main/P02%20Modelos%20lineales/T09%20An%C3%A1lisis%20discriminante%20lineal/9.2%20An%C3%A1lisis%20discriminante%20Gaussiano/9.2.1%20Fronteras%20de%20decisi%C3%B3n%20cuadr%C3%A1ticas.ipynb), [fronteras lineales (LDA)](https://github.com/AlfonsJ/PML1/blob/main/P02%20Modelos%20lineales/T09%20An%C3%A1lisis%20discriminante%20lineal/9.2%20An%C3%A1lisis%20discriminante%20Gaussiano/9.2.2%20Fronteras%20de%20decisi%C3%B3n%20lineales.ipynb), [LDA y regresión logística](https://github.com/AlfonsJ/PML1/blob/main/P02%20Modelos%20lineales/T09%20An%C3%A1lisis%20discriminante%20lineal/9.2%20An%C3%A1lisis%20discriminante%20Gaussiano/9.2.3%20Conexi%C3%B3n%20entre%20LDA%20y%20regresi%C3%B3n%20log%C3%ADstica.ipynb), [ajuste](https://github.com/AlfonsJ/PML1/blob/main/P02%20Modelos%20lineales/T09%20An%C3%A1lisis%20discriminante%20lineal/9.2%20An%C3%A1lisis%20discriminante%20Gaussiano/9.2.4%20Ajuste%20del%20modelo.ipynb), [clasificador por el centroide más próximo](https://github.com/AlfonsJ/PML1/blob/main/P02%20Modelos%20lineales/T09%20An%C3%A1lisis%20discriminante%20lineal/9.2%20An%C3%A1lisis%20discriminante%20Gaussiano/9.2.5%20Clasificador%20por%20el%20centroide%20m%C3%A1s%20pr%C3%B3ximo.ipynb)\n",
    "2. **Clasificadores naive Bayes:** $\\;$ [asunción y clasificador naive Bayes](https://github.com/AlfonsJ/PML1/blob/main/P02%20Modelos%20lineales/T09%20An%C3%A1lisis%20discriminante%20lineal/9.3%20Clasificadores%20naive%20Bayes/9.3.0%20Asunci%C3%B3n%20y%20clasificador%20naive%20Bayes.ipynb), [modelos ejemplo](https://github.com/AlfonsJ/PML1/blob/main/P02%20Modelos%20lineales/T09%20An%C3%A1lisis%20discriminante%20lineal/9.3%20Clasificadores%20naive%20Bayes/9.3.1%20Modelos%20ejemplo.ipynb), [naive Bayes y regresión logística](https://github.com/AlfonsJ/PML1/blob/main/P02%20Modelos%20lineales/T09%20An%C3%A1lisis%20discriminante%20lineal/9.3%20Clasificadores%20naive%20Bayes/9.3.4%20Conexi%C3%B3n%20entre%20naive%20Bayes%20y%20regresi%C3%B3n%20log%C3%ADstica.ipynb), [ejercicios](https://github.com/AlfonsJ/PML1/blob/main/P02%20Modelos%20lineales/T09%20An%C3%A1lisis%20discriminante%20lineal/9.3%20Clasificadores%20naive%20Bayes/9.3.5%20Ejercicios%20de%20clasificadores%20naive%20Bayes.ipynb)"
   ]
  }
 ],
 "metadata": {
  "language_info": {
   "name": "python"
  }
 },
 "nbformat": 4,
 "nbformat_minor": 2
}
