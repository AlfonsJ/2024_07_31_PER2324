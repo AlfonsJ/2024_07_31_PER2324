{
 "cells": [
  {
   "cell_type": "markdown",
   "metadata": {},
   "source": [
    "# T03 Modelos lineales"
   ]
  },
  {
   "cell_type": "markdown",
   "metadata": {},
   "source": [
    "## 1. Análisis discriminante lineal (LDA)\n",
    "\n",
    "1. **Clasificadores generativos vs discriminativos:** $\\;$ [caracterización](https://github.com/AlfonsJ/PML1/blob/main/P02%20Modelos%20lineales/T09%20An%C3%A1lisis%20discriminante%20lineal/9.1%20Introducci%C3%B3n/9.1%20Introducci%C3%B3n.ipynb), [ejemplos](https://github.com/AlfonsJ/PML1/blob/main/P02%20Modelos%20lineales/T09%20An%C3%A1lisis%20discriminante%20lineal/9.4%20Clasificadores%20generativos%20vs%20discriminativos/9.4.0%20Ejemplos.ipynb), [ventajas de los discriminativos](https://github.com/AlfonsJ/PML1/blob/main/P02%20Modelos%20lineales/T09%20An%C3%A1lisis%20discriminante%20lineal/9.4%20Clasificadores%20generativos%20vs%20discriminativos/9.4.1%20Ventajas%20de%20los%20clasificadores%20discriminativos.ipynb) y [ventajas de los generativos](https://github.com/AlfonsJ/PML1/blob/main/P02%20Modelos%20lineales/T09%20An%C3%A1lisis%20discriminante%20lineal/9.4%20Clasificadores%20generativos%20vs%20discriminativos/9.4.2%20Ventajas%20de%20los%20clasificadores%20generativos.ipynb)\n",
    "2. **Análisis discriminante Gaussiano:** $\\;$ [asunción Gaussiana](https://github.com/AlfonsJ/PML1/blob/main/P02%20Modelos%20lineales/T09%20An%C3%A1lisis%20discriminante%20lineal/9.2%20An%C3%A1lisis%20discriminante%20Gaussiano/9.2.0%20Introducci%C3%B3n.ipynb), [QDA](https://github.com/AlfonsJ/PML1/blob/main/P02%20Modelos%20lineales/T09%20An%C3%A1lisis%20discriminante%20lineal/9.2%20An%C3%A1lisis%20discriminante%20Gaussiano/9.2.1%20Fronteras%20de%20decisi%C3%B3n%20cuadr%C3%A1ticas.ipynb), [LDA](https://github.com/AlfonsJ/PML1/blob/main/P02%20Modelos%20lineales/T09%20An%C3%A1lisis%20discriminante%20lineal/9.2%20An%C3%A1lisis%20discriminante%20Gaussiano/9.2.2%20Fronteras%20de%20decisi%C3%B3n%20lineales.ipynb), [LDA y regresión logística](https://github.com/AlfonsJ/PML1/blob/main/P02%20Modelos%20lineales/T09%20An%C3%A1lisis%20discriminante%20lineal/9.2%20An%C3%A1lisis%20discriminante%20Gaussiano/9.2.3%20Conexi%C3%B3n%20entre%20LDA%20y%20regresi%C3%B3n%20log%C3%ADstica.ipynb), [ajuste](https://github.com/AlfonsJ/PML1/blob/main/P02%20Modelos%20lineales/T09%20An%C3%A1lisis%20discriminante%20lineal/9.2%20An%C3%A1lisis%20discriminante%20Gaussiano/9.2.4%20Ajuste%20del%20modelo.ipynb), [clasificador por el centroide más próximo](https://github.com/AlfonsJ/PML1/blob/main/P02%20Modelos%20lineales/T09%20An%C3%A1lisis%20discriminante%20lineal/9.2%20An%C3%A1lisis%20discriminante%20Gaussiano/9.2.5%20Clasificador%20por%20el%20centroide%20m%C3%A1s%20pr%C3%B3ximo.ipynb)\n",
    "3. **Clasificadores naive Bayes:** $\\;$ [asunción y clasificador naive Bayes](https://github.com/AlfonsJ/PML1/blob/main/P02%20Modelos%20lineales/T09%20An%C3%A1lisis%20discriminante%20lineal/9.3%20Clasificadores%20naive%20Bayes/9.3.0%20Asunci%C3%B3n%20y%20clasificador%20naive%20Bayes.ipynb), [modelos ejemplo](https://github.com/AlfonsJ/PML1/blob/main/P02%20Modelos%20lineales/T09%20An%C3%A1lisis%20discriminante%20lineal/9.3%20Clasificadores%20naive%20Bayes/9.3.1%20Modelos%20ejemplo.ipynb), [naive Bayes y regresión logística](https://github.com/AlfonsJ/PML1/blob/main/P02%20Modelos%20lineales/T09%20An%C3%A1lisis%20discriminante%20lineal/9.3%20Clasificadores%20naive%20Bayes/9.3.4%20Conexi%C3%B3n%20entre%20naive%20Bayes%20y%20regresi%C3%B3n%20log%C3%ADstica.ipynb) y [ejercicios](https://github.com/AlfonsJ/PML1/blob/main/P02%20Modelos%20lineales/T09%20An%C3%A1lisis%20discriminante%20lineal/9.3%20Clasificadores%20naive%20Bayes/9.3.5%20Ejercicios%20de%20clasificadores%20naive%20Bayes.ipynb)"
   ]
  },
  {
   "cell_type": "markdown",
   "metadata": {},
   "source": [
    "## 2. Regresión logística\n",
    "\n",
    "1. **Introducción:** $\\;$ [caso binario y caso multiclase](https://github.com/AlfonsJ/PML1/blob/main/P02%20Modelos%20lineales/T10%20Regresi%C3%B3n%20log%C3%ADstica/10.1%20Introducci%C3%B3n/10.1%20Introducci%C3%B3n.ipynb)\n",
    "2. **Regresión logística binaria:** $\\;$ [modelo](https://github.com/AlfonsJ/PML1/blob/main/P02%20Modelos%20lineales/T10%20Regresi%C3%B3n%20log%C3%ADstica/10.2%20Regresi%C3%B3n%20log%C3%ADstica%20binaria/10.2.0%20Modelo.ipynb), [clasificadores lineales](https://github.com/AlfonsJ/PML1/blob/main/P02%20Modelos%20lineales/T10%20Regresi%C3%B3n%20log%C3%ADstica/10.2%20Regresi%C3%B3n%20log%C3%ADstica%20binaria/10.2.1%20Clasificadores%20lineales.ipynb), [clasificadores no lineales](https://github.com/AlfonsJ/PML1/blob/main/P02%20Modelos%20lineales/T10%20Regresi%C3%B3n%20log%C3%ADstica/10.2%20Regresi%C3%B3n%20log%C3%ADstica%20binaria/10.2.2%20Clasificadores%20no%20lineales.ipynb), [MLE](https://github.com/AlfonsJ/PML1/blob/main/P02%20Modelos%20lineales/T10%20Regresi%C3%B3n%20log%C3%ADstica/10.2%20Regresi%C3%B3n%20log%C3%ADstica%20binaria/10.2.3-4%20Estimaci%C3%B3n%20m%C3%A1ximo-veros%C3%ADmil.ipynb), [Perceptrón](https://github.com/AlfonsJ/PML1/blob/main/P02%20Modelos%20lineales/T10%20Regresi%C3%B3n%20log%C3%ADstica/10.2%20Regresi%C3%B3n%20log%C3%ADstica%20binaria/10.2.5%20Perceptr%C3%B3n.ipynb), [estimación MAP](https://github.com/AlfonsJ/PML1/blob/main/P02%20Modelos%20lineales/T10%20Regresi%C3%B3n%20log%C3%ADstica/10.2%20Regresi%C3%B3n%20log%C3%ADstica%20binaria/10.2.7%20Estimaci%C3%B3n%20MAP.ipynb) y [ejercicios](https://github.com/AlfonsJ/PML1/blob/main/P02%20Modelos%20lineales/T10%20Regresi%C3%B3n%20log%C3%ADstica/10.2%20Regresi%C3%B3n%20log%C3%ADstica%20binaria/10.2.9%20Ejercicios%20de%20regresi%C3%B3n%20log%C3%ADstica%20binaria.ipynb)\n",
    "3. **Regresión logística multiclase:** $\\;$ [modelo](https://github.com/AlfonsJ/PML1/blob/main/P02%20Modelos%20lineales/T10%20Regresi%C3%B3n%20log%C3%ADstica/10.3%20Regresi%C3%B3n%20log%C3%ADstica%20multinomial/10.3.0%20Modelo.ipynb), [clasificadores lineales y no-lineales](https://github.com/AlfonsJ/PML1/blob/main/P02%20Modelos%20lineales/T10%20Regresi%C3%B3n%20log%C3%ADstica/10.3%20Regresi%C3%B3n%20log%C3%ADstica%20multinomial/10.3.2-3%20Estimaci%C3%B3n%20m%C3%A1ximo-veros%C3%ADmil.ipynb), [MLE](https://github.com/AlfonsJ/PML1/blob/main/P02%20Modelos%20lineales/T10%20Regresi%C3%B3n%20log%C3%ADstica/10.3%20Regresi%C3%B3n%20log%C3%ADstica%20multinomial/10.3.2-3%20Estimaci%C3%B3n%20m%C3%A1ximo-veros%C3%ADmil.ipynb) y [ejercicios](https://github.com/AlfonsJ/PML1/blob/main/P02%20Modelos%20lineales/T10%20Regresi%C3%B3n%20log%C3%ADstica/10.3%20Regresi%C3%B3n%20log%C3%ADstica%20multinomial/10.3.9%20Ejercicios%20de%20regresi%C3%B3n%20log%C3%ADstica%20multinomial.ipynb)"
   ]
  },
  {
   "cell_type": "markdown",
   "metadata": {},
   "source": [
    "## 3. Regresión lineal\n",
    "\n",
    "1. **Introducción:** $\\;$ [modelo](https://github.com/AlfonsJ/PML1/blob/main/P02%20Modelos%20lineales/T11%20Regresi%C3%B3n%20lineal/11.1%20Modelo/11.1%20Modelo.ipynb)\n",
    "2. **Mínimos cuadrados:** $\\;$ [estimación por mínimos cuadrados](https://github.com/AlfonsJ/PML1/blob/main/P02%20Modelos%20lineales/T11%20Regresi%C3%B3n%20lineal/11.2%20Regresi%C3%B3n%20lineal%20por%20m%C3%ADnimos%20cuadrados/11.2.2%20Estimaci%C3%B3n%20por%20m%C3%ADnimos%20cuadrados.ipynb) y [evaluación de la bondad del ajuste](https://github.com/AlfonsJ/PML1/blob/main/P02%20Modelos%20lineales/T11%20Regresi%C3%B3n%20lineal/11.2%20Regresi%C3%B3n%20lineal%20por%20m%C3%ADnimos%20cuadrados/11.2.4%20Evaluaci%C3%B3n%20de%20la%20bondad%20del%20ajuste.ipynb)"
   ]
  }
 ],
 "metadata": {
  "language_info": {
   "name": "python"
  }
 },
 "nbformat": 4,
 "nbformat_minor": 2
}
