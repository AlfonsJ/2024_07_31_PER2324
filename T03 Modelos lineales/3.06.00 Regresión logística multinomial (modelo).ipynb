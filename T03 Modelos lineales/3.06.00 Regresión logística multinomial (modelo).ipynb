{
 "cells": [
  {
   "attachments": {},
   "cell_type": "markdown",
   "metadata": {},
   "source": [
    "# Regresión logística multinomial: modelo\n",
    "\n",
    "Regresión logística multinomial es una categórica condicional para clasificación multiclase, $y\\in\\{1,\\dotsc,C\\}$,\n",
    "$$p(y\\mid\\boldsymbol{x}, \\boldsymbol{\\theta})%\n",
    "=\\operatorname{Cat}(y\\mid S(\\boldsymbol{a})),$$\n",
    "de logits lineales con la entrada,\n",
    "$$\\boldsymbol{a}=f(\\boldsymbol{x};\\boldsymbol{\\theta})=\\mathbf{W}\\boldsymbol{x}+\\boldsymbol{b}%\n",
    "\\qquad\\text{con}\\qquad%\n",
    "\\boldsymbol{\\theta}=(\\mathbf{W}, \\boldsymbol{b}), %\n",
    "\\quad\\mathbf{W}\\in\\mathbb{R}^{C\\times D}, %\n",
    "\\quad\\boldsymbol{b}\\in\\mathbb{R}^D$$\n",
    "En notación homogénea, anteponiendo un $1$ a $\\boldsymbol{x}$ y $\\boldsymbol{b}$ a $\\mathbf{W}$,\n",
    "$$\\boldsymbol{a}=f(\\boldsymbol{x};\\boldsymbol{\\theta})=\\mathbf{W}\\boldsymbol{x}$$\n"
   ]
  },
  {
   "attachments": {},
   "cell_type": "markdown",
   "metadata": {},
   "source": [
    "## Clasificación multiclase vs multi-etiqueta\n",
    "\n",
    "Regresión logística multinomial es un modelo probabilístico para clasificación multiclase, esto es, el caso estándar en el que solo una etiqueta es correcta. Otro caso distinto es el de clasificación multi-etiqueta, caso en el que se admite que haya cero, una o más etiquetas correctas. Clasificación multi-etiqueta suele modelizarse como una extensión de regresión logística binaria\n",
    "$$p(\\boldsymbol{y}\\mid\\boldsymbol{x}, \\boldsymbol{\\theta})%\n",
    "=\\prod_{c=1}^C\\operatorname{Ber}(y_c\\mid\\sigma(\\boldsymbol{w}_c^t\\boldsymbol{x})),$$\n",
    "donde la salida es un vector de $C$ bits, $\\boldsymbol{y}\\in\\{0,1\\}^C$, para indicar la presencia o ausencia de cada etiqueta."
   ]
  }
 ],
 "metadata": {
  "kernelspec": {
   "display_name": "Python 3",
   "language": "python",
   "name": "python3"
  },
  "language_info": {
   "codemirror_mode": {
    "name": "ipython",
    "version": 3
   },
   "file_extension": ".py",
   "mimetype": "text/x-python",
   "name": "python",
   "nbconvert_exporter": "python",
   "pygments_lexer": "ipython3",
   "version": "3.10.6"
  },
  "orig_nbformat": 4
 },
 "nbformat": 4,
 "nbformat_minor": 2
}
