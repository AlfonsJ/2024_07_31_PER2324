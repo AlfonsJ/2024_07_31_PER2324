{
 "cells": [
  {
   "cell_type": "markdown",
   "metadata": {},
   "source": [
    "# T2 Fundamentos"
   ]
  },
  {
   "cell_type": "markdown",
   "metadata": {},
   "source": [
    "**Probabilidad:** $\\;$ La función de densidad de la Gaussiana $D$-dimensional es de la forma\n",
    "$$p(\\boldsymbol{y}\\mid\\boldsymbol{\\mu},\\mathbf{\\Sigma})=\\dfrac{1}{(2\\pi)^{D/2}\\det{\\mathbf{\\Sigma}}^{1/2}}%\n",
    "\\exp\\left[-\\dfrac{1}{2}(\\boldsymbol{y}-\\boldsymbol{\\mu})^t\\mathbf{\\Sigma}^{-1}(\\boldsymbol{y}-\\boldsymbol{\\mu})\\right], %\n",
    "\\quad\\boldsymbol{\\mu}\\in\\mathbb{R}^D,\\;\\mathbf{\\Sigma}\\in\\mathbb{R}^{D\\times D},\\;\\mathbf{\\Sigma}\\succeq 0$$\n",
    "Sus conjuntos de nivel son proporcionales a los de la distancia de Mahalanobis entre $\\boldsymbol{y}$ y $\\boldsymbol{\\mu}$. La forma de estos conjuntos, esto es, de la bola Gaussiana centrada en $\\boldsymbol{\\mu}$, depende de $\\mathbf{\\Sigma}$. Suponiendo que $D=2$, indica la respuesta incorrecta (o la última opción si las tres primeras son correctas).\n",
    "1. Si $\\mathbf{\\Sigma}=\\sigma^2\\mathbf{I}$, la Gaussiana es circular.\n",
    "2. Si $\\mathbf{\\Sigma}$ es diagonal, la Gaussiana es rectangular.\n",
    "3. Si $\\mathbf{\\Sigma}$ no es diagonal (con elementos no nulos fuera de la diagonal), la Gaussiana es elípitica.\n",
    "4. Las tres opciones anteriores son correctas.\n",
    "\n",
    "<details><summary>Solución:</summary><br>La 2; la Gaussiana es elípitica, de semiejes alineados con los canónicos.</details>"
   ]
  },
  {
   "cell_type": "markdown",
   "metadata": {},
   "source": [
    "**Estadística:** $\\;$ Sea $\\,\\mathcal{D}=\\{(\\boldsymbol{x}_n,\\boldsymbol{y}_n)\\}_{n=1}^N\\,$ un conjunto de datos y sea $\\,p(\\mathcal{D}\\mid\\boldsymbol{\\theta})\\,$ la verosimilitud de un modelo gobernado por un vector de parámetros $\\,\\boldsymbol{\\theta}$. Supón que la verosimilitud puede factorizarse de manera naive como $p(\\mathcal{D}\\mid\\boldsymbol{\\theta})=\\prod_n p(\\boldsymbol{y}_n\\mid\\boldsymbol{x}_n,\\boldsymbol{\\theta})$. Con base en esta asunción, se quiere hallar un estimador máximo-verosímil de $\\boldsymbol{\\theta}$, $\\hat{\\boldsymbol{\\theta}}_{\\text{mle}}$. Indica la respuesta incorrecta (o la última opción si las tres primeras son correctas).\n",
    "1. $\\hat{\\boldsymbol{\\theta}}_{\\text{mle}}=\\operatorname{argmin}_{\\boldsymbol{\\theta}}-\\sum_n \\log p(\\boldsymbol{y}_n\\mid\\boldsymbol{x}_n,\\boldsymbol{\\theta})$\n",
    "2. $\\hat{\\boldsymbol{\\theta}}_{\\text{mle}}=\\operatorname{argmin}_{\\boldsymbol{\\theta}}-\\sum_n \\log p(\\boldsymbol{x}_n, \\boldsymbol{y}_n\\mid\\boldsymbol{\\theta})-\\log p(\\boldsymbol{x}_n\\mid\\boldsymbol{\\theta})$\n",
    "3. $\\hat{\\boldsymbol{\\theta}}_{\\text{mle}}=\\operatorname{argmin}_{\\boldsymbol{\\theta}}-\\sum_n \\log p(\\boldsymbol{x}_n, \\boldsymbol{y}_n\\mid\\boldsymbol{\\theta})$\n",
    "4. Las tres opciones anteriores son correctas.\n",
    "\n",
    "<details><summary>Solución:</summary><br>La 3.</details>"
   ]
  }
 ],
 "metadata": {
  "language_info": {
   "name": "python"
  }
 },
 "nbformat": 4,
 "nbformat_minor": 2
}
