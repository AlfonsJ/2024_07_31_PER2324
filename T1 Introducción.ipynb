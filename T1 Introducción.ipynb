{
 "cells": [
  {
   "cell_type": "markdown",
   "metadata": {},
   "source": [
    "# T01 Introducción"
   ]
  },
  {
   "cell_type": "markdown",
   "metadata": {},
   "source": [
    "1. **Definición de aprendizaje automático:** $\\;$ [Arthur Samuel, Tom Mitchell y Kevin Murphy](https://github.com/AlfonsJ/PML1/tree/main/P00%20Introducci%C3%B3n/1.1%20Definici%C3%B3n%20de%20aprendizaje%20autom%C3%A1tico)\n",
    "2. **Aprendizaje supervisado:** $\\;$ [planteamiento](https://github.com/AlfonsJ/PML1/blob/main/P00%20Introducci%C3%B3n/1.2%20Aprendizaje%20supervisado/1.2.0%20Aprendizaje%20supervisado.ipynb), [clasificación](https://github.com/AlfonsJ/PML1/blob/main/P00%20Introducci%C3%B3n/1.2%20Aprendizaje%20supervisado/1.2.1%20Clasificaci%C3%B3n.ipynb), [regresión](https://github.com/AlfonsJ/PML1/blob/main/P00%20Introducci%C3%B3n/1.2%20Aprendizaje%20supervisado/1.2.2%20Regresi%C3%B3n.ipynb), [sobre-entrenamiento y generalización](https://github.com/AlfonsJ/PML1/blob/main/P00%20Introducci%C3%B3n/1.2%20Aprendizaje%20supervisado/1.2.3%20Sobreentrenamiento%20y%20generalizaci%C3%B3n.ipynb) y [teorema no free lunch](https://github.com/AlfonsJ/PML1/blob/main/P00%20Introducci%C3%B3n/1.2%20Aprendizaje%20supervisado/1.2.4%20El%20teorema%20no%20free%20lunch.ipynb)\n",
    "3. **Aprendizaje no supervisado:** $\\;$ [planteamiento](https://github.com/AlfonsJ/PML1/blob/main/P00%20Introducci%C3%B3n/1.3%20Aprendizaje%20no%20supervisado/1.3.0%20Aprendizaje%20no%20supervisado.ipynb), [clustering](https://github.com/AlfonsJ/PML1/blob/main/P00%20Introducci%C3%B3n/1.3%20Aprendizaje%20no%20supervisado/1.3.1%20Clustering.ipynb), [factores de variación latentes](https://github.com/AlfonsJ/PML1/blob/main/P00%20Introducci%C3%B3n/1.3%20Aprendizaje%20no%20supervisado/1.3.2%20Factores%20de%20variaci%C3%B3n%20latentes.ipynb) y [evaluación del aprendizaje no supervisado](https://github.com/AlfonsJ/PML1/blob/main/P00%20Introducci%C3%B3n/1.3%20Aprendizaje%20no%20supervisado/1.3.4%20Evaluaci%C3%B3n%20del%20aprendizaje%20no%20supervisado.ipynb)\n",
    "4. **Aprendizaje por refuerzo:** $\\;$ [planteamiento](https://github.com/AlfonsJ/PML1/blob/main/P00%20Introducci%C3%B3n/1.4%20Aprendizaje%20por%20refuerzo/1.4%20Aprendizaje%20por%20refuerzo.ipynb)\n",
    "5. **Datos:** $\\;$ [conjuntos de imágenes](https://github.com/AlfonsJ/PML1/blob/main/P00%20Introducci%C3%B3n/1.5%20Datos/1.5.1%20Algunos%20conjuntos%20de%20im%C3%A1genes%20comunes.ipynb), [conjuntos de texto](https://github.com/AlfonsJ/PML1/blob/main/P00%20Introducci%C3%B3n/1.5%20Datos/1.5.2%20Algunos%20conjuntos%20de%20texto%20comunes.ipynb), [preproceso de datos discretos](https://github.com/AlfonsJ/PML1/blob/main/P00%20Introducci%C3%B3n/1.5%20Datos/1.5.3%20Preproceso%20de%20datos%20de%20entrada%20discretos.ipynb), [preproceso de texto](https://github.com/AlfonsJ/PML1/blob/main/P00%20Introducci%C3%B3n/1.5%20Datos/1.5.4%20Preproceso%20de%20texto.ipynb) y [datos perdidos](https://github.com/AlfonsJ/PML1/blob/main/P00%20Introducci%C3%B3n/1.5%20Datos/1.5.5%20Datos%20perdidos.ipynb)\n",
    "6. **Discusión:** $\\;$ [el aprendizaje automático y otras áreas](https://github.com/AlfonsJ/PML1/blob/main/P00%20Introducci%C3%B3n/1.6%20Discusi%C3%B3n/1.6.1%20El%20aprendizaje%20autom%C3%A1tico%20y%20otras%20%C3%A1reas.ipynb) y [consideraciones](https://github.com/AlfonsJ/PML1/blob/main/P00%20Introducci%C3%B3n/1.6%20Discusi%C3%B3n/1.6.3%20Consideraciones.ipynb)"
   ]
  }
 ],
 "metadata": {
  "language_info": {
   "name": "python"
  }
 },
 "nbformat": 4,
 "nbformat_minor": 2
}
