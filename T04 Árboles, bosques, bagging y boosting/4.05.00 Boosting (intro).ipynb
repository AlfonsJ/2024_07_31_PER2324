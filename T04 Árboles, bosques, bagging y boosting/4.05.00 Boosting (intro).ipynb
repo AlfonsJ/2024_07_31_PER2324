{
 "cells": [
  {
   "attachments": {},
   "cell_type": "markdown",
   "metadata": {},
   "source": [
    "# Boosting\n",
    "\n",
    "Desde una perspectiva general, un ensamble de modelos base puede verse como un **modelo aditivo de funciones base adaptativas:**\n",
    "$$f(\\boldsymbol{x};\\boldsymbol{\\theta})%\n",
    "=\\sum_{m=1}^M \\beta_m\\,F_m(\\boldsymbol{x};\\boldsymbol{\\theta}_m)$$\n",
    "donde $F_m$ es un aproximador de funciones, no necesariamente árbol, y nuestro objetivo es minimizar la pérdida empírica (con regularizador)\n",
    "$$\\mathcal{L}(f)=\\sum_{i=1}^N\\ell(y_i,f(\\boldsymbol{x}_i))$$\n",
    "\n",
    "**Boosting (potenciación)** ajusta secuencialmente modelos aditivos de clasificadores binarios, $F_m\\in\\{-1, +1\\}$. Primero ajusta $F_1$ a los datos y se ponderan con más peso los errores. Luego ajusta $F_2$ a los datos ponderados en el paso anterior. El proceso sigue hasta llegar a $M$ componentes.\n",
    "\n",
    "Si la precisión de cada **weak learner** $F_m$ es mejor que el azar ($50\\%$), la del **strong learner** $f$ será mejor que la de sus componentes.\n",
    "\n",
    "En comparación con bagging y bosques, boosting suele ofrecer mejores resultados pues reduce el sesgo del aprendiz fuerte ajustando árboles que dependen unos de otros; bagging y bosques, sin embargo, se limitan a reducir la varianza ajustando árboles independientes.\n",
    "\n",
    "Boosting se propuso en el marco de la teoría de aprendizaje PAC, para clasificación binaria y con pérdida específica. Actualmente se plantea bajo una perspectiva estadística más general, con funciones de pérdida arbitrarias para extender su aplicación a regresión, clasificación multi-clase, ranking, etc."
   ]
  },
  {
   "attachments": {},
   "cell_type": "markdown",
   "metadata": {},
   "source": [
    "**Ejemplo:** clasificación de correos en spam y no-spam"
   ]
  },
  {
   "cell_type": "code",
   "execution_count": 1,
   "metadata": {},
   "outputs": [
    {
     "name": "stdout",
     "output_type": "stream",
     "text": [
      "Boosting 10 trees, test err 6.2%\n",
      "Boosting 50 trees, test err 5.4%\n",
      "Boosting 100 trees, test err 4.7%\n",
      "Boosting 200 trees, test err 4.6%\n",
      "Boosting 300 trees, test err 4.8%\n",
      "Boosting 400 trees, test err 4.6%\n",
      "Boosting 500 trees, test err 4.4%\n"
     ]
    }
   ],
   "source": [
    "import pandas as pd\n",
    "import numpy as np\n",
    "from catboost import CatBoostClassifier\n",
    "from sklearn.metrics import accuracy_score\n",
    "\n",
    "df = pd.read_csv(\"https://github.com/empathy87/The-Elements-of-Statistical-Learning-Python-Notebooks/blob/master/data/Spam.txt?raw=True\")\n",
    "is_test = df.test.values; y = df.spam.values; X = df.drop(['test','spam'], axis=1).to_numpy(copy=True)\n",
    "X_train, X_test = X[is_test == 0], X[is_test == 1]\n",
    "y_train, y_test = y[is_test == 0], y[is_test == 1]\n",
    "ntrees_list = [10, 50, 100, 200, 300, 400, 500]\n",
    "for ntrees in ntrees_list:\n",
    "    clf = CatBoostClassifier(iterations=ntrees, random_state=10, learning_rate=0.2, verbose=False).fit(X_train, y_train)\n",
    "    y_test_hat = clf.predict(X_test)\n",
    "    acc = accuracy_score(y_test, y_test_hat)\n",
    "    print(f'Boosting {ntrees} trees, test err {1 - acc:.1%}')"
   ]
  }
 ],
 "metadata": {
  "kernelspec": {
   "display_name": "Python 3",
   "language": "python",
   "name": "python3"
  },
  "language_info": {
   "codemirror_mode": {
    "name": "ipython",
    "version": 3
   },
   "file_extension": ".py",
   "mimetype": "text/x-python",
   "name": "python",
   "nbconvert_exporter": "python",
   "pygments_lexer": "ipython3",
   "version": "3.10.6"
  },
  "orig_nbformat": 4,
  "vscode": {
   "interpreter": {
    "hash": "e7370f93d1d0cde622a1f8e1c04877d8463912d04d973331ad4851f04de6915a"
   }
  }
 },
 "nbformat": 4,
 "nbformat_minor": 2
}
