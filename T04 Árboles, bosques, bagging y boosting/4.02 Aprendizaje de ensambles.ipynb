{
 "cells": [
  {
   "attachments": {},
   "cell_type": "markdown",
   "metadata": {},
   "source": [
    "# Aprendizaje de ensambles\n",
    "\n",
    "Los árboles constituyen un estimador de alta varianza ya que pequeñas perturbaciones de los datos de entrenamiento resultan en predicciones muy distintas.\n",
    "El aprendizaje de ensambles reduce la varianza de los árboles promediando $M$ modelos base $\\{f_m\\}$,\n",
    "$$f(y\\mid\\boldsymbol{x})=\\frac{1}{M}\\sum_{m=1}^M f_m(y\\mid\\boldsymbol{x})$$\n",
    "\n",
    "En regresión, el ensamble produce un estimador de sesgo similar al de los modelos base pero, en general, de mejor precisión por la menor varianza.\n",
    "\n",
    "En clasificación, la salida del ensamble se decide por el **método comité,** esto es, por voto mayoritario. Supongamos que tenemos $M$ modelos base independientes para clasificación binaria; todos ellos con probabilidad de acierto $\\theta$. Dada una muestra la clase $1$, la clase escogida por el modelo base $m$ puede verse com una Bernoulli $Y_m\\in\\{0,1\\}$, para todo $m$. Así, la suma de los votos a la clase $1$, $S=\\sum_m Y_m$, es una binomial $\\operatorname{Bin}(M, \\theta)$. En definitiva, la probabilidad de acierto del comité puede hallarse a partir de la función de distribución binomial:\n",
    "$$p=P(S>M/2)=1-B(M/2,M,\\theta)%\n",
    "\\qquad\\text{($B$ es la función de distribución binomial)}$$"
   ]
  },
  {
   "cell_type": "code",
   "execution_count": 17,
   "metadata": {},
   "outputs": [
    {
     "name": "stdout",
     "output_type": "stream",
     "text": [
      "1000 predictores independientes con theta = 0.5100 acertarán con p = 0.7261\n"
     ]
    }
   ],
   "source": [
    "from scipy.stats import binom\n",
    "\n",
    "M = 1000; theta = 0.51\n",
    "p = 1.0 - binom.cdf(M/2, M, theta)\n",
    "print('{} predictores independientes con theta = {:.4f} acertarán con p = {:.4f}'.format(M, theta, p))"
   ]
  }
 ],
 "metadata": {
  "kernelspec": {
   "display_name": "Python 3",
   "language": "python",
   "name": "python3"
  },
  "language_info": {
   "codemirror_mode": {
    "name": "ipython",
    "version": 3
   },
   "file_extension": ".py",
   "mimetype": "text/x-python",
   "name": "python",
   "nbconvert_exporter": "python",
   "pygments_lexer": "ipython3",
   "version": "3.10.6"
  },
  "orig_nbformat": 4,
  "vscode": {
   "interpreter": {
    "hash": "e7370f93d1d0cde622a1f8e1c04877d8463912d04d973331ad4851f04de6915a"
   }
  }
 },
 "nbformat": 4,
 "nbformat_minor": 2
}
