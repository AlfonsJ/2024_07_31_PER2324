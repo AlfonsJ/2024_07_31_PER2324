{
 "cells": [
  {
   "attachments": {},
   "cell_type": "markdown",
   "metadata": {},
   "source": [
    "# Importancia de características\n",
    "\n",
    "La **importancia de una característica** $k$ en un árbol $T$ se define como la suma de las ganancias (reducciones de coste) obtenidas en los nodos internos que la usan:\n",
    "$$R_k(T)=\\sum_jG_j\\mathbb{I}(v_j=k)$$\n",
    "donde $v_j=k$ si el nodo $j$ usa la variable $k$. En el caso de un ensamble de $M$ árboles, esta definición se extiende mediante promediado:\n",
    "$$R_k=\\frac{1}{M}\\sum_{m=1}^MR_k(T_m)$$\n",
    "Las importancias de las características pueden normalizarse con respecto a la máxima ($100\\%$). "
   ]
  },
  {
   "attachments": {},
   "cell_type": "markdown",
   "metadata": {},
   "source": [
    "**Ejemplo:** importancias para clasificador (de dígitos escogidos en) MNIST"
   ]
  },
  {
   "cell_type": "code",
   "execution_count": 1,
   "metadata": {},
   "outputs": [],
   "source": [
    "import numpy as np\n",
    "from sklearn.datasets import fetch_openml\n",
    "\n",
    "mnist = fetch_openml('mnist_784', version=1)\n",
    "mnist.data = mnist.data.astype(np.float32).to_numpy()\n",
    "mnist.target = mnist.target.astype(np.uint8).to_numpy()"
   ]
  },
  {
   "cell_type": "code",
   "execution_count": 2,
   "metadata": {},
   "outputs": [
    {
     "name": "stdout",
     "output_type": "stream",
     "text": [
      "(13834, 784) (13834,)\n"
     ]
    }
   ],
   "source": [
    "from sklearn.ensemble import RandomForestClassifier\n",
    "\n",
    "X = mnist[\"data\"]\n",
    "y = mnist[\"target\"]\n",
    "mask = (y == 6) | (y == 9) # <<< escoge dígitos\n",
    "X_mask = X[mask, :]\n",
    "y_mask = y[mask]\n",
    "print(X_mask.shape, y_mask.shape)\n",
    "clf = RandomForestClassifier(n_estimators=20, random_state=42)\n",
    "clf.fit(X_mask, y_mask)\n",
    "image = clf.feature_importances_.reshape(28, 28)"
   ]
  },
  {
   "cell_type": "code",
   "execution_count": 3,
   "metadata": {},
   "outputs": [
    {
     "data": {
      "image/png": "[encoded data removed]",
      "text/plain": [
       "<Figure size 576x576 with 2 Axes>"
      ]
     },
     "metadata": {
      "needs_background": "light"
     },
     "output_type": "display_data"
    }
   ],
   "source": [
    "import matplotlib.pyplot as plt\n",
    "\n",
    "fig, ax = plt.subplots(1, 1, figsize=(8, 8))\n",
    "ax.set(aspect='equal'); ax.axis('off')\n",
    "plt.imshow(image, cmap='gray', interpolation=\"none\", vmin=0.0, vmax=0.001)\n",
    "plt.colorbar(ax=ax, shrink=0.8);"
   ]
  }
 ],
 "metadata": {
  "kernelspec": {
   "display_name": "Python 3",
   "language": "python",
   "name": "python3"
  },
  "language_info": {
   "codemirror_mode": {
    "name": "ipython",
    "version": 3
   },
   "file_extension": ".py",
   "mimetype": "text/x-python",
   "name": "python",
   "nbconvert_exporter": "python",
   "pygments_lexer": "ipython3",
   "version": "3.10.6"
  },
  "orig_nbformat": 4,
  "vscode": {
   "interpreter": {
    "hash": "e7370f93d1d0cde622a1f8e1c04877d8463912d04d973331ad4851f04de6915a"
   }
  }
 },
 "nbformat": 4,
 "nbformat_minor": 2
}
