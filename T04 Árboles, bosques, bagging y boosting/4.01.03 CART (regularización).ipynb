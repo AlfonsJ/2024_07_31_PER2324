{
 "cells": [
  {
   "attachments": {},
   "cell_type": "markdown",
   "metadata": {},
   "source": [
    "# Arboles de regresión y clasificación: regularización\n",
    "\n",
    "Si dejamos que un árbol crezca incontroladamente, podemos ajustarlo de manera que no cometa ningún error en entrenamiento (salvo ruido de etiquetas). Así pues, con el fin de evitar el sobre-entrenamiento, se suelen aplicar técnicas de regularización que limitan el tamaño del árbol. Una aproximación obvia consiste en parar el crecimiento con un heurístico como, por ejemplo, tener pocos ejemplos en un nodo o alcanzar una profundidad máxima. Alternativamente, podemos dejar crecer el árbol al máximo y luego podarlo de hijos a padres mediante fusión de hijos."
   ]
  }
 ],
 "metadata": {
  "kernelspec": {
   "display_name": "Python 3",
   "language": "python",
   "name": "python3"
  },
  "language_info": {
   "codemirror_mode": {
    "name": "ipython",
    "version": 3
   },
   "file_extension": ".py",
   "mimetype": "text/x-python",
   "name": "python",
   "nbconvert_exporter": "python",
   "pygments_lexer": "ipython3",
   "version": "3.10.6"
  },
  "orig_nbformat": 4,
  "vscode": {
   "interpreter": {
    "hash": "e7370f93d1d0cde622a1f8e1c04877d8463912d04d973331ad4851f04de6915a"
   }
  }
 },
 "nbformat": 4,
 "nbformat_minor": 2
}
