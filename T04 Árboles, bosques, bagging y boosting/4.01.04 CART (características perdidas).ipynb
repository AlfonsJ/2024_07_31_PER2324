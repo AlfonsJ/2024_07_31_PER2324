{
 "cells": [
  {
   "attachments": {},
   "cell_type": "markdown",
   "metadata": {},
   "source": [
    "# Arboles de regresión y clasificación: características perdidas\n",
    "\n",
    "A diferencia de otros modelos discriminativos, el manejo de datos con características perdidas es relativamente sencillo cuando se usan árboles. El heurístico estándar consiste en emplear **splits subrogados.**  Básicamente, se trata de hallar variables de reserva que, en caso de pérdida de una variable en inferencia, puedan inducir particiones similares a las que induce la variable perdida. Una aproximación más sencilla para variables categóricas consiste en añadir un nuevo valor \"perdido\" y tratar los datos como complemente observados."
   ]
  }
 ],
 "metadata": {
  "kernelspec": {
   "display_name": "Python 3",
   "language": "python",
   "name": "python3"
  },
  "language_info": {
   "codemirror_mode": {
    "name": "ipython",
    "version": 3
   },
   "file_extension": ".py",
   "mimetype": "text/x-python",
   "name": "python",
   "nbconvert_exporter": "python",
   "pygments_lexer": "ipython3",
   "version": "3.10.6"
  },
  "orig_nbformat": 4,
  "vscode": {
   "interpreter": {
    "hash": "e7370f93d1d0cde622a1f8e1c04877d8463912d04d973331ad4851f04de6915a"
   }
  }
 },
 "nbformat": 4,
 "nbformat_minor": 2
}
