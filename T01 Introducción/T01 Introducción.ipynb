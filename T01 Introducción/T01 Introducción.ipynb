{
 "cells": [
  {
   "cell_type": "markdown",
   "metadata": {},
   "source": [
    "# T01 Introducción"
   ]
  },
  {
   "cell_type": "markdown",
   "metadata": {},
   "source": [
    "1. **Definición de aprendizaje automático:** $\\;$ [Arthur Samuel, Tom Mitchell y Kevin Murphy](https://github.com/AlfonsJ/PML1/tree/main/P00%20Introducci%C3%B3n/1.1%20Definici%C3%B3n%20de%20aprendizaje%20autom%C3%A1tico)\n",
    "2. [Aprendizaje supervisado](https://github.com/AlfonsJ/PML1/tree/main/P00%20Introducci%C3%B3n/1.2%20Aprendizaje%20supervisado)\n",
    "3. [Aprendizaje no supervisado](https://github.com/AlfonsJ/PML1/tree/main/P00%20Introducci%C3%B3n/1.3%20Aprendizaje%20no%20supervisado)\n",
    "4. [Aprendizaje por refuerzo](https://github.com/AlfonsJ/PML1/tree/main/P00%20Introducci%C3%B3n/1.4%20Aprendizaje%20por%20refuerzo)\n",
    "5. [Tareas típicas y preproceso](https://github.com/AlfonsJ/PML1/tree/main/P00%20Introducci%C3%B3n/1.5%20Datos)\n",
    "6. [Discusión](https://github.com/AlfonsJ/PML1/tree/main/P00%20Introducci%C3%B3n/1.6%20Discusi%C3%B3n)"
   ]
  }
 ],
 "metadata": {
  "language_info": {
   "name": "python"
  }
 },
 "nbformat": 4,
 "nbformat_minor": 2
}
