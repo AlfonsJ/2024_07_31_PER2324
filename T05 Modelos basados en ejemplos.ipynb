{
 "cells": [
  {
   "cell_type": "markdown",
   "metadata": {},
   "source": [
    "# T05 Modelos basados en ejemplos"
   ]
  },
  {
   "cell_type": "markdown",
   "metadata": {},
   "source": [
    "1. **Introducción:** $\\;$ [modelos paramétricos y no paramétricos](https://github.com/AlfonsJ/2024_07_31_PER2324/blob/main/T05%20Modelos%20basados%20en%20ejemplos/5.00%20Modelos%20param%C3%A9tricos%20y%20no%20param%C3%A9tricos.ipynb)\n",
    "2. **K-vecinos más próximos:** $\\;$ [k-vecinos más próximos](https://github.com/AlfonsJ/2024_07_31_PER2324/blob/main/T05%20Modelos%20basados%20en%20ejemplos/5.01%20K-vecinos%20m%C3%A1s%20pr%C3%B3ximos.ipynb) y [aprendizaje de métricas distancia](https://github.com/AlfonsJ/2024_07_31_PER2324/blob/main/T05%20Modelos%20basados%20en%20ejemplos/5.02%20Aprendizaje%20de%20m%C3%A9tricas%20distancia.ipynb)\n",
    "3. **Estimación con kernels densidad:** $\\;$ [estimación con kernels densidad](https://github.com/AlfonsJ/2024_07_31_PER2324/blob/main/T05%20Modelos%20basados%20en%20ejemplos/5.03%20Estimaci%C3%B3n%20con%20kernels%20densidad.ipynb)"
   ]
  }
 ],
 "metadata": {
  "language_info": {
   "name": "python"
  }
 },
 "nbformat": 4,
 "nbformat_minor": 2
}
