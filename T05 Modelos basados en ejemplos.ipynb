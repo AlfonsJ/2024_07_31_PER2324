{
 "cells": [
  {
   "cell_type": "markdown",
   "metadata": {},
   "source": [
    "# T05 Modelos basados en ejemplos"
   ]
  },
  {
   "cell_type": "markdown",
   "metadata": {},
   "source": [
    "1. **Introducción:** $\\;$ [modelos paramétricos y no paramétricos](https://github.com/AlfonsJ/PML1/blob/main/P04%20Modelos%20no%20param%C3%A9tricos/T16%20M%C3%A9todos%20basados%20en%20ejemplos/16.0%20Modelos%20param%C3%A9tricos%20y%20no%20param%C3%A9tricos/16.0%20Modelos%20param%C3%A9tricos%20y%20no%20param%C3%A9tricos.ipynb)\n",
    "2. **K-vecinos más próximos:** $\\;$ [definición y resultados asintóticos](https://github.com/AlfonsJ/PML1/blob/main/P04%20Modelos%20no%20param%C3%A9tricos/T16%20M%C3%A9todos%20basados%20en%20ejemplos/16.1%20K-vecinos%20m%C3%A1s%20pr%C3%B3ximos/16.1.0%20Definici%C3%B3n%20y%20resultados%20asint%C3%B3ticos.ipynb), [ejemplo](https://github.com/AlfonsJ/PML1/blob/main/P04%20Modelos%20no%20param%C3%A9tricos/T16%20M%C3%A9todos%20basados%20en%20ejemplos/16.1%20K-vecinos%20m%C3%A1s%20pr%C3%B3ximos/16.1.1%20Ejemplo.ipynb), [la maldición de la dimensionalidad](https://github.com/AlfonsJ/PML1/blob/main/P04%20Modelos%20no%20param%C3%A9tricos/T16%20M%C3%A9todos%20basados%20en%20ejemplos/16.1%20K-vecinos%20m%C3%A1s%20pr%C3%B3ximos/16.1.2%20La%20maldici%C3%B3n%20de%20la%20dimensionalidad.ipynb), [reducción del coste computacional](https://github.com/AlfonsJ/PML1/blob/main/P04%20Modelos%20no%20param%C3%A9tricos/T16%20M%C3%A9todos%20basados%20en%20ejemplos/16.1%20K-vecinos%20m%C3%A1s%20pr%C3%B3ximos/16.1.3%20Reducci%C3%B3n%20del%20coste%20computacional.ipynb) y [reconocimiento abierto](https://github.com/AlfonsJ/PML1/blob/main/P04%20Modelos%20no%20param%C3%A9tricos/T16%20M%C3%A9todos%20basados%20en%20ejemplos/16.1%20K-vecinos%20m%C3%A1s%20pr%C3%B3ximos/16.1.4%20Reconocimiento%20abierto.ipynb)\n",
    "3. **Estimación con kernels densidad:** $\\;$ [kernels densidad](https://github.com/AlfonsJ/PML1/blob/main/P04%20Modelos%20no%20param%C3%A9tricos/T16%20M%C3%A9todos%20basados%20en%20ejemplos/16.3%20Estimaci%C3%B3n%20con%20kernels%20densidad/16.3.1%20Kernels%20densidad.ipynb), [ventanas de Parzen](https://github.com/AlfonsJ/PML1/blob/main/P04%20Modelos%20no%20param%C3%A9tricos/T16%20M%C3%A9todos%20basados%20en%20ejemplos/16.3%20Estimaci%C3%B3n%20con%20kernels%20densidad/16.3.2%20Estimador%20de%20densidad%20ventana%20de%20Parzen.ipynb), [elección del parámetro ancho de banda](https://github.com/AlfonsJ/PML1/blob/main/P04%20Modelos%20no%20param%C3%A9tricos/T16%20M%C3%A9todos%20basados%20en%20ejemplos/16.3%20Estimaci%C3%B3n%20con%20kernels%20densidad/16.3.3%20Elecci%C3%B3n%20del%20par%C3%A1metro%20ancho%20de%20banda.ipynb), [de clasificación KDE a KNN](https://github.com/AlfonsJ/PML1/blob/main/P04%20Modelos%20no%20param%C3%A9tricos/T16%20M%C3%A9todos%20basados%20en%20ejemplos/16.3%20Estimaci%C3%B3n%20con%20kernels%20densidad/16.3.4%20De%20clasificaci%C3%B3n%20KDE%20a%20KNN.ipynb) y [regresión kernel](https://github.com/AlfonsJ/PML1/blob/main/P04%20Modelos%20no%20param%C3%A9tricos/T16%20M%C3%A9todos%20basados%20en%20ejemplos/16.3%20Estimaci%C3%B3n%20con%20kernels%20densidad/16.3.5%20Regresi%C3%B3n%20kernel.ipynb)"
   ]
  }
 ],
 "metadata": {
  "language_info": {
   "name": "python"
  }
 },
 "nbformat": 4,
 "nbformat_minor": 2
}
