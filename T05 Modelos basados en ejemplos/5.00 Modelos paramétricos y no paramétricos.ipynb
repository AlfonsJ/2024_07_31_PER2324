{
 "cells": [
  {
   "attachments": {},
   "cell_type": "markdown",
   "metadata": {},
   "source": [
    "# Modelos paramétricos y no paramétricos\n",
    "\n",
    "## Modelos paramétricos\n",
    "\n",
    "Los modelos paramétricos pueden ser incondicionales, $p(\\boldsymbol{y}\\mid\\boldsymbol{\\theta})$, o condicionales, $p(\\boldsymbol{y}\\mid\\boldsymbol{x},\\boldsymbol{\\theta})$, donde $\\boldsymbol{\\theta}$ es un vector de parámetros de dimensión fija. $\\boldsymbol{\\theta}$ se estima con datos $\\mathcal{D}=\\{(\\boldsymbol{x}_n, \\boldsymbol{y}_n)\\}_{n=1}^N$ que luego se tiran.\n",
    "\n",
    "## Modelos no paramétricos\n",
    "\n",
    "A diferencia de los paramétricos, los no paramétricos mantienen los datos (en inferencia), por lo que el número efectivo de parámetros del modelo crece con $\\mathcal{D}$. Consideraremos modelos definidos con la ayuda de una **medida de disimilitud** entre la entrada de test $\\boldsymbol{x}$ y cada dato de entrenamiento $\\boldsymbol{x}_n$. Alternativamente, en lugar de una medida de disimilitud podemos emplear una **medida de disimilitud** o **función distancia** $d(\\boldsymbol{x}, \\boldsymbol{x}_n)$.\n",
    "Otros nombres con que se suelen usar son **modelos basados en ejemplos**, **instance-based\n",
    "learning** o **memory-based learning.**"
   ]
  }
 ],
 "metadata": {
  "kernelspec": {
   "display_name": "Python 3",
   "language": "python",
   "name": "python3"
  },
  "language_info": {
   "codemirror_mode": {
    "name": "ipython",
    "version": 3
   },
   "file_extension": ".py",
   "mimetype": "text/x-python",
   "name": "python",
   "nbconvert_exporter": "python",
   "pygments_lexer": "ipython3",
   "version": "3.10.6"
  },
  "orig_nbformat": 4,
  "vscode": {
   "interpreter": {
    "hash": "e7370f93d1d0cde622a1f8e1c04877d8463912d04d973331ad4851f04de6915a"
   }
  }
 },
 "nbformat": 4,
 "nbformat_minor": 2
}
