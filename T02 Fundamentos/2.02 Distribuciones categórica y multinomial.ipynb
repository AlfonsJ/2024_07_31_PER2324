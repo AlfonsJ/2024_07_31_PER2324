{
 "cells": [
  {
   "attachments": {},
   "cell_type": "markdown",
   "metadata": {},
   "source": [
    "# Distribuciones categórica y multinomial\n",
    "\n",
    "## Distribución multinomial (categórica con $N=1$)"
   ]
  },
  {
   "cell_type": "code",
   "execution_count": 1,
   "metadata": {},
   "outputs": [
    {
     "name": "stdout",
     "output_type": "stream",
     "text": [
      "0.08504999999999999\n",
      "[[4 2 4]\n",
      " [3 0 7]\n",
      " [4 3 3]\n",
      " [5 0 5]]\n"
     ]
    },
    {
     "data": {
      "image/png": "[encoded data removed]",
      "text/plain": [
       "<Figure size 432x288 with 1 Axes>"
      ]
     },
     "metadata": {
      "needs_background": "light"
     },
     "output_type": "display_data"
    }
   ],
   "source": [
    "# %load '2.5.1.M.py'\n",
    "import numpy as np\n",
    "from scipy.stats import multinomial\n",
    "import matplotlib.pyplot as plt\n",
    "\n",
    "N, t = 10, [0.3, 0.2, 0.5]\n",
    "S = multinomial(N, t)\n",
    "print(S.pmf([3, 2, 5]))\n",
    "print(S.rvs(4))\n",
    "plt.bar(np.arange(1,len(t)+1), S.p)\n",
    "plt.show()\n"
   ]
  },
  {
   "attachments": {},
   "cell_type": "markdown",
   "metadata": {},
   "source": [
    "## Función softmax\n",
    "\n",
    "La softmax transforma transforma logits $\\boldsymbol{a}\\in\\mathbb{R}^C$ en un vector de probabilidades $[0,1]^C$:\n",
    "$$\\mathcal{S}(\\boldsymbol{a})=\\left[%\n",
    "\\frac{e^{a_1}}{\\sum_{\\tilde{c}}e^{a_{\\tilde{c}}}},\\dotsc,%\n",
    "\\frac{e^{a_C}}{\\sum_{\\tilde{c}}e^{a_{\\tilde{c}}}}\\right]%\n",
    "\\qquad\\text{cumpliéndose}\\qquad%\n",
    "0\\leq\\mathcal{S}(\\boldsymbol{a})_c\\leq 1%\n",
    "\\quad\\text{y}\\quad%\n",
    "\\sum_{c=1}^C \\mathcal{S}(\\boldsymbol{a})_c=1$$"
   ]
  },
  {
   "cell_type": "code",
   "execution_count": 2,
   "metadata": {},
   "outputs": [
    {
     "data": {
      "image/png": "[encoded data removed]",
      "text/plain": [
       "<Figure size 432x288 with 1 Axes>"
      ]
     },
     "metadata": {
      "needs_background": "light"
     },
     "output_type": "display_data"
    }
   ],
   "source": [
    "# %load '2.5.2.softmax.py'\n",
    "import numpy as np\n",
    "import matplotlib.pyplot as plt\n",
    "\n",
    "def softmax(a):\n",
    "\te = np.exp((1.0 * np.array(a)))\n",
    "\treturn e / np.sum(e)\n",
    "\n",
    "a = np.array([3, 0, 1])\n",
    "plt.bar(np.arange(1,a.size+1), softmax(a))\n",
    "plt.show()\n"
   ]
  },
  {
   "attachments": {},
   "cell_type": "markdown",
   "metadata": {},
   "source": [
    "La softmax se emplea para predecir el vector de probabilidades de una categórica (o multinomial) condicional,\n",
    "$$p(\\boldsymbol{y}\\mid\\boldsymbol{x},\\boldsymbol{\\theta})%\n",
    "=\\operatorname{Cat}(\\boldsymbol{y}\\mid f(\\boldsymbol{x};\\boldsymbol{\\theta}))%\n",
    "=\\mathcal{M}(\\boldsymbol{y}\\mid 1,f(\\boldsymbol{x};\\boldsymbol{\\theta})),$$\n",
    "mediante un predictor no normalizado del vector de probabilidades;\n",
    "los logits $\\boldsymbol{a}=f(\\boldsymbol{x};\\boldsymbol{\\theta})$.\n",
    "\n",
    "La softmax es una versión suavizada de la argmax. Si dividimos los logits por una constante de *temperatura* $\\,T>0$,\n",
    "$$\\lim_{T\\to 0}\\;\\mathcal{S}(\\boldsymbol{a}/T)_c=\\begin{cases}\n",
    "    1.0 & \\text{si $c=\\operatorname{argmax}_{c'}a_{c'}$}\\\\%\n",
    "    0.0 & \\text{en otro caso}%\n",
    "\\end{cases}\n",
    "$$\n",
    "mientras que, a altas temperaturas, se aproxima a la uniforme."
   ]
  },
  {
   "attachments": {},
   "cell_type": "markdown",
   "metadata": {},
   "source": [
    "## Función log-sum-exp\n",
    "\n",
    "La log-sum-exp calcula de manera robusta el logaritmo de la suma de logits $\\boldsymbol{a}\\in\\mathbb{R}^C$:\n",
    "$$\\operatorname{lse}(\\boldsymbol{a})%\n",
    "=\\log\\sum_{c=1}^C \\exp(a_c)%\n",
    "=\\max_{c'} a_{c'}+\\log\\sum_{c=1}^C \\exp(a_c-\\max_{c'} a_{c'})$$"
   ]
  },
  {
   "cell_type": "code",
   "execution_count": 3,
   "metadata": {},
   "outputs": [
    {
     "name": "stdout",
     "output_type": "stream",
     "text": [
      "1.5514447139320509 1.551444713932051\n",
      "inf 1001.551444713932\n",
      "-inf -998.448555286068\n"
     ]
    },
    {
     "name": "stderr",
     "output_type": "stream",
     "text": [
      "/tmp/ipykernel_150522/703808950.py:9: RuntimeWarning: overflow encountered in exp\n",
      "  print(np.log(np.sum(np.exp(a))), logsumexp(a))\n",
      "/tmp/ipykernel_150522/703808950.py:12: RuntimeWarning: divide by zero encountered in log\n",
      "  print(np.log(np.sum(np.exp(a))), logsumexp(a))\n"
     ]
    }
   ],
   "source": [
    "# %load '2.5.4.logsumexp.py'\n",
    "import numpy as np\n",
    "from scipy.special import logsumexp\n",
    "\n",
    "a = 1.0 * np.array([0, 1, 0])\n",
    "print(np.log(np.sum(np.exp(a))), logsumexp(a))\n",
    "\n",
    "a = 1.0 * np.array([1000, 1001, 1000])\n",
    "print(np.log(np.sum(np.exp(a))), logsumexp(a))\n",
    "\n",
    "a = 1.0 * np.array([-1000, -999, -1000])\n",
    "print(np.log(np.sum(np.exp(a))), logsumexp(a))\n"
   ]
  },
  {
   "attachments": {},
   "cell_type": "markdown",
   "metadata": {},
   "source": [
    "La log-sum-exp permite calcular de manera robusta las probabilidades de una categórica (o multinomial) a partir de los logits,\n",
    "$$p(y=c\\mid\\boldsymbol{x})%\n",
    "=\\frac{\\exp(a_c)}{\\sum_{c'=1}^C \\exp(a_{c'})}%\n",
    "=\\exp\\left(\\log(\\exp(a_c))-\\log\\sum_{c'=1}^C \\exp(a_{c'})\\right)%\n",
    "=\\exp(a_c-\\operatorname{lse}(\\boldsymbol{a}))$$"
   ]
  },
  {
   "attachments": {},
   "cell_type": "markdown",
   "metadata": {},
   "source": [
    "## Regresión logística multinomial\n",
    "\n",
    "Regresión logística multinomial es una categórica condicional para clasificación multiclase,\n",
    "$$p(\\boldsymbol{y}\\mid\\boldsymbol{x},\\boldsymbol{\\theta})%\n",
    "=\\operatorname{Cat}(\\boldsymbol{y}\\mid f(\\boldsymbol{x};\\boldsymbol{\\theta})),$$\n",
    "de logits lineales con la entrada,\n",
    "$$\\boldsymbol{a}=f(\\boldsymbol{x};\\boldsymbol{\\theta})=\\mathbf{W}\\boldsymbol{x}+\\boldsymbol{b},%\n",
    "\\quad\\mathbf{W}\\in\\mathbb{R}^{C\\times D},\\,\\boldsymbol{b}\\in\\mathbb{R}^C$$"
   ]
  },
  {
   "attachments": {},
   "cell_type": "markdown",
   "metadata": {},
   "source": [
    "**Ejemplo:** $\\,D=2,\\,\\boldsymbol{x}\\in[0, 1]^D,\\,C=4,%\n",
    "\\,\\mathbf{W}=\\begin{pmatrix}1 &1\\\\-1&1\\\\-1&-1\\\\1&-1\\end{pmatrix},%\n",
    "\\,\\boldsymbol{b}=\\boldsymbol{0}_C$"
   ]
  },
  {
   "cell_type": "code",
   "execution_count": 4,
   "metadata": {},
   "outputs": [],
   "source": [
    "x_min = y_min = -1.0\n",
    "x_max = y_max = 1.0\n",
    "x, y = np.meshgrid(np.linspace(x_min, x_max, num=1000), np.linspace(y_min, y_max, num=1000))\n",
    "W = np.array([[1., 1.], [-1., 1.], [-1., -1.], [1., -1.]])\n",
    "b = np.array([.0, .0, .0, .0])"
   ]
  },
  {
   "attachments": {},
   "cell_type": "markdown",
   "metadata": {},
   "source": [
    "Cálculo de logits y posteriors:"
   ]
  },
  {
   "cell_type": "code",
   "execution_count": 8,
   "metadata": {},
   "outputs": [],
   "source": [
    "from scipy.special import logsumexp\n",
    "\n",
    "C, D = W.shape\n",
    "X = np.squeeze(np.dstack([np.ravel(x), np.ravel(y)]))\n",
    "aT1 = X @ W.T + b\n",
    "T = .01 # temperatura próxima a cero para hallar posteriors cercanos a argmax\n",
    "a = aT1 / T\n",
    "p = np.exp(a-logsumexp(a, axis=1).reshape(-1, 1))"
   ]
  },
  {
   "attachments": {},
   "cell_type": "markdown",
   "metadata": {},
   "source": [
    "Logits por clase:"
   ]
  },
  {
   "cell_type": "code",
   "execution_count": 6,
   "metadata": {},
   "outputs": [
    {
     "data": {
      "image/png": "[encoded data removed]",
      "text/plain": [
       "<Figure size 1152x288 with 8 Axes>"
      ]
     },
     "metadata": {
      "needs_background": "light"
     },
     "output_type": "display_data"
    }
   ],
   "source": [
    "fig, axes = plt.subplots(1, C, figsize=(4*C, 4))\n",
    "fig.tight_layout(pad=4)\n",
    "for j in np.arange(0, C):\n",
    "    ax = axes[j]\n",
    "    ax.set(aspect='equal', xlim=(x_min, x_max), ylim=(y_min, y_max))\n",
    "    ax.grid()\n",
    "    ax.axhline(0, color='black')\n",
    "    ax.axvline(0, color='black')\n",
    "    ax.set_title('$a_{:}={:.2f}\\,x_1{:+.2f}\\,x_2{:+.2f}$'.format(j+1, W[j, 0], W[j, 1], b[j]))\n",
    "    cp = ax.contourf(x, y, aT1[:, j].reshape(x.shape), cmap='Blues')\n",
    "    plt.colorbar(cp, ax=axes[j], shrink=0.7)"
   ]
  },
  {
   "attachments": {},
   "cell_type": "markdown",
   "metadata": {},
   "source": [
    "Posteriors por clase con softmax atemperada:"
   ]
  },
  {
   "cell_type": "code",
   "execution_count": 7,
   "metadata": {},
   "outputs": [
    {
     "data": {
      "image/png": "[encoded data removed]",
      "text/plain": [
       "<Figure size 1152x288 with 8 Axes>"
      ]
     },
     "metadata": {
      "needs_background": "light"
     },
     "output_type": "display_data"
    }
   ],
   "source": [
    "fig, axes = plt.subplots(1, C, figsize=(4*C, 4))\n",
    "fig.tight_layout(pad=4)\n",
    "for j in np.arange(0, C):\n",
    "    ax = axes[j]\n",
    "    ax.set(aspect='equal', xlim=(x_min, x_max), ylim=(y_min, y_max))\n",
    "    ax.grid()\n",
    "    ax.axhline(0, color='black')\n",
    "    ax.axvline(0, color='black')\n",
    "    ax.set_title('$S(a\\,/\\,{:.3f})_{:}$'.format(T, j+1))\n",
    "    cp = ax.contourf(x, y, p[:, j].reshape(x.shape), cmap='Blues')\n",
    "    plt.colorbar(cp, ax=axes[j], shrink=0.7)"
   ]
  }
 ],
 "metadata": {
  "kernelspec": {
   "display_name": "Python 3",
   "language": "python",
   "name": "python3"
  },
  "language_info": {
   "codemirror_mode": {
    "name": "ipython",
    "version": 3
   },
   "file_extension": ".py",
   "mimetype": "text/x-python",
   "name": "python",
   "nbconvert_exporter": "python",
   "pygments_lexer": "ipython3",
   "version": "3.10.6"
  },
  "orig_nbformat": 4,
  "vscode": {
   "interpreter": {
    "hash": "e7370f93d1d0cde622a1f8e1c04877d8463912d04d973331ad4851f04de6915a"
   }
  }
 },
 "nbformat": 4,
 "nbformat_minor": 2
}
