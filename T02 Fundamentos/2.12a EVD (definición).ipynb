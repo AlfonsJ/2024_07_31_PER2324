{
 "cells": [
  {
   "attachments": {},
   "cell_type": "markdown",
   "metadata": {},
   "source": [
    "# Descomposición en valores propios (EVD)\n",
    "\n",
    "## Valores y vectores propios de una matriz\n",
    "\n",
    "Dada una matriz $\\mathbf{A}\\in\\mathbb{R}^{n\\times n}$, $\\lambda\\in\\mathbb{R}$ es un **valor propio** de $\\mathbf{A}$ y $\\boldsymbol{u}\\in\\mathbf{R}^n$ \"el\" correspondiente **vector propio** asociado si:\n",
    "$$\\mathbf{A}\\boldsymbol{u}=\\lambda\\boldsymbol{u},\\qquad\\boldsymbol{u}\\neq\\boldsymbol{0}$$\n",
    "Si $\\boldsymbol{u}$ es vector propio asociado a $\\lambda$, todo $c\\boldsymbol{u}$ con $c\\in\\mathbf{R}$ no nulo tamién lo es. Ahora bien, por lo general se asume que \"el\" vector propio asociado a $\\lambda$ está normalizado; esto es, asumimos que $\\lVert\\boldsymbol{u}\\rVert_2=1$. El entrecomillado \"el\" se debe a que $-\\boldsymbol{u}$ también está normalizado, por lo que tenemos dos opciones.\n",
    "\n",
    "La **ecuación característica** de $\\mathbf{A}$ permite hallar sus $n$ valores propios (y vectores propios asociados):\n",
    "$$\\lvert\\lambda\\mathbf{I}_n-\\mathbf{A}\\rvert=0$$"
   ]
  },
  {
   "attachments": {},
   "cell_type": "markdown",
   "metadata": {},
   "source": [
    "\n",
    "**Ejercicio:** Comprueba que los valores propios de la matriz de covarianzas $\\mathbf{\\Sigma}=\\begin{pmatrix}5/2&3/2\\\\3/2&5/2\\end{pmatrix}$ son $\\lambda_1=4$ y $\\lambda_2=1$. Comprueba también que $\\boldsymbol{e}_1=(\\sqrt{2}/2, \\sqrt{2}/2)^t$\n",
    "y $\\boldsymbol{e}_2=(\\sqrt{2}/2, -\\sqrt{2}/2)^t$ son vectores propios asociados a $\\lambda_1$ y $\\lambda_2$, respectivamente."
   ]
  },
  {
   "attachments": {},
   "cell_type": "markdown",
   "metadata": {},
   "source": [
    "## Descomposición propia de una matriz\n",
    "\n",
    "Dada una matriz $\\mathbf{A}\\in\\mathbb{R}^{n\\times n}$,  sean $\\mathbf{\\Lambda}=\\operatorname{diag}(\\lambda_1,\\dotsc,\\lambda_n)$ y $\\mathbf{U}=(\\boldsymbol{u}_1,\\dotsc,\\boldsymbol{u}_n)$ sus matrices de valores propios y vectores propios asociados. Podemos escribir las ecuaciones de todos los valores y vectores propios simultáneamente como:\n",
    "$$\\mathbf{A}\\mathbf{U}=\\mathbf{U}\\mathbf{\\Lambda}$$\n",
    "Si los vectores propios son linealmente independientes, $\\mathbf{U}$ es invertible y decimos que $\\mathbf{A}$ es **diagonalizable**, con **descomposición propia**:\n",
    "$$\\mathbf{A}=\\mathbf{U}\\mathbf{\\Lambda}\\mathbf{U}^{-1}$$"
   ]
  },
  {
   "attachments": {},
   "cell_type": "markdown",
   "metadata": {},
   "source": [
    "## Descomposición propia de una matriz real y simétrica\n",
    "\n",
    "Si $\\mathbf{A}$ es real y simétrica, sus valores propios son reales y sus vectores propios ortonormales, $\\boldsymbol{u}_i^t\\boldsymbol{u}_j=\\mathbb{I}(i=j)$, por lo que $\\mathbf{U}$ es una matriz ortogonal, $\\mathbf{U}^t\\mathbf{U}=\\mathbf{U}\\mathbf{U}^t=\\mathbf{I}$, y la descomposición propia de $\\mathbf{A}$ es:\n",
    "$$\\mathbf{A}=\\mathbf{U}\\mathbf{\\Lambda}\\mathbf{U}^t%\n",
    "=(\\boldsymbol{u}_1,\\dotsc,\\boldsymbol{u}_n)\\operatorname{diag}(\\lambda_1,\\dotsc,\\lambda_n)(\\boldsymbol{u}_1^t;\\dotsc;\\boldsymbol{u}_n^t)=\\sum_{i=1}^n\\lambda_i\\boldsymbol{u}_i\\boldsymbol{u}_i^t$$\n",
    "Esta representación facilita el cálculo de su inversa, si existe,\n",
    "$$\\mathbf{A}^{-1}=\\mathbf{U}\\mathbf{\\Lambda}^{-1}\\mathbf{U}^t%\n",
    "=\\sum_{i=1}^n\\frac{1}{\\lambda_i}\\boldsymbol{u}_i\\boldsymbol{u}_i^t\n",
    "=\\sum_{i=1}^n\\frac{1}{\\lambda_i}\\boldsymbol{u}_i\\boldsymbol{u}_i^t$$\n",
    "así como la comprobación de su definición semi-positiva con base en su **forma cuadrática** asociada:\n",
    "$$f(\\boldsymbol{x})=\\boldsymbol{x}^t\\mathbf{A}\\boldsymbol{x}%\n",
    "=\\boldsymbol{x}^t\\mathbf{U}\\mathbf{\\Lambda}\\mathbf{U}^t\\boldsymbol{x}%\n",
    "\\overset{\\boldsymbol{y}=\\mathbf{U}^t\\boldsymbol{x}}{=}\\boldsymbol{y}^t\\mathbf{\\Lambda}\\boldsymbol{y}%\n",
    "=\\sum_{i=1}^n\\lambda_i y_i^2\\geq 0\\quad\\text{sii}\\quad\\{\\lambda_i\\geq 0\\}$$"
   ]
  },
  {
   "attachments": {},
   "cell_type": "markdown",
   "metadata": {},
   "source": [
    "## Matrices de covarianzas\n",
    "\n",
    "Toda matriz real, simétrica y semi-definida positiva es matriz de covarianzas. Recíprocamente, toda matriz de covarianzas es real, simétrica y semi-definida positiva. Así pues, los valores propios de una matriz de covarianzas son no negativos. En general, no obstante, tenemos especial interés en el caso particular en el que la matriz de covarianzas es definida positiva, esto es, con todos sus valores propios positivos; ninguno nulo. En tal caso, la forma cuadrática asociada a su inversa, que siempre existe, es la distancia de Mahalanobis (al cuadrado)."
   ]
  },
  {
   "attachments": {},
   "cell_type": "markdown",
   "metadata": {},
   "source": [
    "**Ejercicio (cont.):** Comprueba que la inversa de $\\mathbf{\\Sigma}=\\begin{pmatrix}5/2&3/2\\\\3/2&5/2\\end{pmatrix}$, calculada a partir de los valores y vectores propios hallados arriba, es $\\mathbf{\\Sigma}^{-1}=\\begin{pmatrix}5/8&-3/8\\\\-3/8&5/8\\end{pmatrix}=\\begin{pmatrix}0.625&-0.375\\\\-0.375&0.625\\end{pmatrix}$."
   ]
  },
  {
   "cell_type": "code",
   "execution_count": 1,
   "metadata": {},
   "outputs": [
    {
     "name": "stdout",
     "output_type": "stream",
     "text": [
      "[4. 1.] \n",
      " [[ 0.70710678 -0.70710678]\n",
      " [ 0.70710678  0.70710678]] \n",
      " [[ 0.625 -0.375]\n",
      " [-0.375  0.625]]\n"
     ]
    },
    {
     "data": {
      "image/png": "[encoded data removed]",
      "text/plain": [
       "<Figure size 504x504 with 2 Axes>"
      ]
     },
     "metadata": {
      "needs_background": "light"
     },
     "output_type": "display_data"
    }
   ],
   "source": [
    "import numpy as np\n",
    "import matplotlib.pyplot as plt\n",
    "\n",
    "S = np.array([[5/2, 3/2], [3/2, 5/2]])\n",
    "La, U = np.linalg.eigh(S)\n",
    "i = La.argsort()[::-1]; La = La[i]; U = U[:,i]\n",
    "I = U @ np.diag(1/La) @ U.T\n",
    "print(La, \"\\n\", U, \"\\n\", I)\n",
    "\n",
    "x_min = y_min = -2.2\n",
    "x_max = y_max = 2.2\n",
    "x, y = np.meshgrid(np.linspace(x_min, x_max, num=64), np.linspace(y_min, y_max, num=64))\n",
    "X = np.squeeze(np.dstack([np.ravel(x), np.ravel(y)]))\n",
    "Z = np.diag(X @ I @ X.T)\n",
    "fig, ax = plt.subplots(figsize=(7, 7))\n",
    "ax.set(aspect='equal', xlim=(x_min, x_max), ylim=(y_min, y_max))\n",
    "ax.grid(); ax.axhline(0, color='black'); ax.axvline(0, color='black')\n",
    "cp = ax.contourf(x, y, Z.reshape(x.shape),  10, cmap=\"Blues\")\n",
    "plt.colorbar(cp, ax=ax, shrink=0.8);"
   ]
  }
 ],
 "metadata": {
  "kernelspec": {
   "display_name": "Python 3",
   "language": "python",
   "name": "python3"
  },
  "language_info": {
   "codemirror_mode": {
    "name": "ipython",
    "version": 3
   },
   "file_extension": ".py",
   "mimetype": "text/x-python",
   "name": "python",
   "nbconvert_exporter": "python",
   "pygments_lexer": "ipython3",
   "version": "3.10.6"
  },
  "orig_nbformat": 4
 },
 "nbformat": 4,
 "nbformat_minor": 2
}
