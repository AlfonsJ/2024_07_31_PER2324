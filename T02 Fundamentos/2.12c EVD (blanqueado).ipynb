{
 "cells": [
  {
   "attachments": {},
   "cell_type": "markdown",
   "metadata": {},
   "source": [
    "# Blanqueado de datos\n",
    "\n",
    "El blanqueado de una matriz de datos, $\\mathbf{X}\\in\\mathbb{R}^{N\\times D}$, consiste en aplicar una afinidad tal que los datos blanqueados exhiban media nula y matriz de covarianzas identidad. La matriz blanqueante puede hallarse mediante **principal component analysis (PCA)**, a partir de la descomposición propia de la matriz de covarianzas empírica, $\\mathbf{\\Sigma}=\\mathbf{U}\\boldsymbol{\\Lambda}\\mathbf{U}^t$:\n",
    "$$\\mathbf{W}_{\\text{pca}}=\\boldsymbol{\\Lambda}^{-1/2}\\mathbf{U}^t$$\n",
    "Nótese que $\\mathbf{W}_{\\text{pca}}$ es la misma transformación lineal que reduce la distancia de Mahalanobis (al cuadrado) a distancia Euclídea (al cuadrado):\n",
    "$$\\Delta^2(\\boldsymbol{y},\\boldsymbol{\\mu};\\mathbf{\\Sigma}^{-1})%\n",
    "=\\lVert\\boldsymbol{z}\\rVert_2^2%\n",
    "\\quad\\text{con}\\quad%\n",
    "\\boldsymbol{z}=\\mathbf{W}_{\\text{pca}}(\\boldsymbol{y}-\\boldsymbol{\\mu})$$\n",
    "Así, el blanqueado PCA de $\\mathbf{X}$ es:\n",
    "$$\\operatorname{whitening}(\\mathbf{X})%\n",
    "=(\\mathbf{X}-\\mathbf{1}_N\\boldsymbol{\\mu}^t)\\mathbf{W}_{\\text{pca}}^t%\n",
    "=(\\mathbf{X}-\\mathbf{1}_N\\boldsymbol{\\mu}^t)\\mathbf{U}\\boldsymbol{\\Lambda}^{-1/2}$$"
   ]
  },
  {
   "attachments": {},
   "cell_type": "markdown",
   "metadata": {},
   "source": [
    "**Ejemplo:** $\\mathbf{X}^t=\\begin{bmatrix}-1&0&2&3\\\\-1&2&0&3\\end{bmatrix}$"
   ]
  },
  {
   "cell_type": "code",
   "execution_count": 6,
   "metadata": {},
   "outputs": [
    {
     "name": "stdout",
     "output_type": "stream",
     "text": [
      "Matriz blanqueante PCA:\n",
      " [[ 0.35355339  0.35355339]\n",
      " [-0.70710678  0.70710678]] \n",
      "Datos blanqueados:\n",
      " [[-1.41421356  0.        ]\n",
      " [ 0.          1.41421356]\n",
      " [ 0.         -1.41421356]\n",
      " [ 1.41421356  0.        ]]\n"
     ]
    }
   ],
   "source": [
    "import numpy as np\n",
    "\n",
    "X = np.array([ [-1, -1], [0, 2], [2, 0], [3, 3] ])\n",
    "m = np.mean(X, axis=0)\n",
    "S = np.cov(X.T, bias=True)\n",
    "La, U = np.linalg.eigh(S)\n",
    "i = La.argsort()[::-1]; La = La[i]; U = U[:,i]\n",
    "W = np.sqrt(np.linalg.inv(np.diag(La))) @ U.T\n",
    "Xw = (X - m) @ W.T\n",
    "A = U @ np.diag(np.sqrt(La))\n",
    "print(\"Matriz blanqueante PCA:\\n\", W, \"\\nDatos blanqueados:\\n\", Xw)"
   ]
  },
  {
   "cell_type": "code",
   "execution_count": 4,
   "metadata": {},
   "outputs": [
    {
     "data": {
      "image/png": "[encoded data removed]",
      "text/plain": [
       "<Figure size 864x432 with 2 Axes>"
      ]
     },
     "metadata": {
      "needs_background": "light"
     },
     "output_type": "display_data"
    }
   ],
   "source": [
    "import matplotlib.pyplot as plt\n",
    "\n",
    "fig, axes = plt.subplots(1, 2, figsize=(12, 6))\n",
    "# datos originales\n",
    "axes[0].set(aspect='equal', xlim=(-2, 4), ylim=(-2, 4)); axes[0].grid()\n",
    "axes[0].scatter(m[0], m[1], facecolor='C0', edgecolor='k', s=100, marker=\"X\")\n",
    "prop = dict(arrowstyle=\"-|>,head_width=0.4,head_length=0.8\", shrinkA=0, shrinkB=0)\n",
    "axes[0].annotate(\"\", xytext=(m[0], m[1]), xy=(m[0]+A[0,0], m[1]+A[1,0]), arrowprops=prop)\n",
    "axes[0].annotate(\"\", xytext=(m[0], m[1]), xy=(m[0]+A[0,1], m[1]+A[1,1]), arrowprops=prop)\n",
    "axes[0].scatter(X[:,0], X[:,1], facecolor='C0', edgecolor='k', s=100)\n",
    "# datos blanqueados\n",
    "axes[1].set(aspect='equal', xlim=(-2, 4), ylim=(-2, 4)); axes[1].grid()\n",
    "axes[1].scatter(0, 0, facecolor='C1', edgecolor='k', s=100, marker=\"X\")\n",
    "prop.update(color='C1')\n",
    "axes[1].annotate(\"\", xytext=(0, 0), xy=(1, 0), arrowprops=prop)\n",
    "axes[1].annotate(\"\", xytext=(0, 0), xy=(0, 1), arrowprops=prop)\n",
    "axes[1].scatter(Xw[:,0], Xw[:,1], facecolor='C1', edgecolor='k', s=100);"
   ]
  }
 ],
 "metadata": {
  "kernelspec": {
   "display_name": "Python 3",
   "language": "python",
   "name": "python3"
  },
  "language_info": {
   "codemirror_mode": {
    "name": "ipython",
    "version": 3
   },
   "file_extension": ".py",
   "mimetype": "text/x-python",
   "name": "python",
   "nbconvert_exporter": "python",
   "pygments_lexer": "ipython3",
   "version": "3.10.6"
  },
  "orig_nbformat": 4
 },
 "nbformat": 4,
 "nbformat_minor": 2
}
