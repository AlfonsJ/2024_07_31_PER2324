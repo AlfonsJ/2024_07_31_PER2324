{
 "cells": [
  {
   "cell_type": "markdown",
   "metadata": {},
   "source": [
    "# T02 Fundamentos"
   ]
  },
  {
   "cell_type": "markdown",
   "metadata": {},
   "source": [
    "## 1. Algebra lineal\n",
    "\n",
    "1. [Introducción](https://github.com/AlfonsJ/PML1/tree/main/P01%20Fundamentos/T07%20Algebra%20lineal/7.1%20Introducci%C3%B3n)\n",
    "2. [Multiplicación de matrices](https://github.com/AlfonsJ/PML1/tree/main/P01%20Fundamentos/T07%20Algebra%20lineal/7.2%20Multiplicaci%C3%B3n%20de%20matrices)"
   ]
  }
 ],
 "metadata": {
  "language_info": {
   "name": "python"
  }
 },
 "nbformat": 4,
 "nbformat_minor": 2
}
