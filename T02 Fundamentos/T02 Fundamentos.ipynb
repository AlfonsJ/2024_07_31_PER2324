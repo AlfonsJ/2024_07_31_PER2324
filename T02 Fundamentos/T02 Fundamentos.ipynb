{
 "cells": [
  {
   "cell_type": "markdown",
   "metadata": {},
   "source": [
    "# T02 Fundamentos"
   ]
  },
  {
   "cell_type": "markdown",
   "metadata": {},
   "source": [
    "## 1. Algebra lineal\n",
    "\n",
    "1. [Introducción](https://github.com/AlfonsJ/PML1/tree/main/P01%20Fundamentos/T07%20Algebra%20lineal/7.1%20Introducci%C3%B3n)\n",
    "2. [Multiplicación de matrices](https://github.com/AlfonsJ/PML1/tree/main/P01%20Fundamentos/T07%20Algebra%20lineal/7.2%20Multiplicaci%C3%B3n%20de%20matrices)\n",
    "3. [Inversión de matrices](https://github.com/AlfonsJ/PML1/tree/main/P01%20Fundamentos/T07%20Algebra%20lineal/7.3%20Inversi%C3%B3n%20de%20matrices)\n",
    "4. [Descomposición en valores propios (EVD)](https://github.com/AlfonsJ/PML1/tree/main/P01%20Fundamentos/T07%20Algebra%20lineal/7.4%20Descomposici%C3%B3n%20en%20valores%20propios%20(EVD))\n",
    "5. [Descomposición en valores singulares (SVD)](https://github.com/AlfonsJ/PML1/tree/main/P01%20Fundamentos/T07%20Algebra%20lineal/7.5%20Descomposici%C3%B3n%20en%20valores%20singulares%20(SVD))\n",
    "6. [Cálculo matricial](https://github.com/AlfonsJ/PML1/tree/main/P01%20Fundamentos/T07%20Algebra%20lineal/7.8%20C%C3%A1lculo%20matricial)"
   ]
  },
  {
   "cell_type": "markdown",
   "metadata": {},
   "source": [
    "## 2. Optimización\n",
    "\n",
    "1. [Introducción](https://github.com/AlfonsJ/PML1/tree/main/P01%20Fundamentos/T08%20Optimizaci%C3%B3n/8.1%20Introducci%C3%B3n)\n",
    "2. [Métodos de primer orden](https://github.com/AlfonsJ/PML1/tree/main/P01%20Fundamentos/T08%20Optimizaci%C3%B3n/8.2%20M%C3%A9todos%20de%20primer%20orden)\n",
    "3. [Descenso por gradiente estocástico](https://github.com/AlfonsJ/PML1/tree/main/P01%20Fundamentos/T08%20Optimizaci%C3%B3n/8.4%20Descenso%20por%20gradiente%20estoc%C3%A1stico)"
   ]
  },
  {
   "cell_type": "markdown",
   "metadata": {},
   "source": [
    "## 3. Teoría de la información\n",
    "\n",
    "1. [Entropía](https://github.com/AlfonsJ/PML1/tree/main/P01%20Fundamentos/T06%20Teor%C3%ADa%20de%20la%20informaci%C3%B3n/6.1%20Entrop%C3%ADa)"
   ]
  }
 ],
 "metadata": {
  "language_info": {
   "name": "python"
  }
 },
 "nbformat": 4,
 "nbformat_minor": 2
}
