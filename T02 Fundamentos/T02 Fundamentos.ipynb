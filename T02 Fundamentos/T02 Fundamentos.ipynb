{
 "cells": [
  {
   "cell_type": "markdown",
   "metadata": {},
   "source": [
    "# T02 Fundamentos"
   ]
  },
  {
   "cell_type": "markdown",
   "metadata": {},
   "source": [
    "## 1. Algebra lineal\n",
    "\n",
    "1. [Introducción](https://github.com/AlfonsJ/PML1/tree/main/P01%20Fundamentos/T07%20Algebra%20lineal/7.1%20Introducci%C3%B3n)\n",
    "2. [Multiplicación de matrices](https://github.com/AlfonsJ/PML1/tree/main/P01%20Fundamentos/T07%20Algebra%20lineal/7.2%20Multiplicaci%C3%B3n%20de%20matrices)\n",
    "3. [Inversión de matrices](https://github.com/AlfonsJ/PML1/tree/main/P01%20Fundamentos/T07%20Algebra%20lineal/7.3%20Inversi%C3%B3n%20de%20matrices)\n",
    "4. [Descomposición en valores propios (EVD)](https://github.com/AlfonsJ/PML1/tree/main/P01%20Fundamentos/T07%20Algebra%20lineal/7.4%20Descomposici%C3%B3n%20en%20valores%20propios%20(EVD))\n",
    "5. [Descomposición en valores singulares (SVD)](https://github.com/AlfonsJ/PML1/tree/main/P01%20Fundamentos/T07%20Algebra%20lineal/7.5%20Descomposici%C3%B3n%20en%20valores%20singulares%20(SVD))\n",
    "6. [Cálculo matricial](https://github.com/AlfonsJ/PML1/tree/main/P01%20Fundamentos/T07%20Algebra%20lineal/7.8%20C%C3%A1lculo%20matricial)"
   ]
  },
  {
   "cell_type": "markdown",
   "metadata": {},
   "source": [
    "## 2. Optimización\n",
    "\n",
    "1. [Introducción](https://github.com/AlfonsJ/PML1/tree/main/P01%20Fundamentos/T08%20Optimizaci%C3%B3n/8.1%20Introducci%C3%B3n)\n",
    "2. [Métodos de primer orden](https://github.com/AlfonsJ/PML1/tree/main/P01%20Fundamentos/T08%20Optimizaci%C3%B3n/8.2%20M%C3%A9todos%20de%20primer%20orden)\n",
    "3. [Descenso por gradiente estocástico](https://github.com/AlfonsJ/PML1/tree/main/P01%20Fundamentos/T08%20Optimizaci%C3%B3n/8.4%20Descenso%20por%20gradiente%20estoc%C3%A1stico)"
   ]
  },
  {
   "cell_type": "markdown",
   "metadata": {},
   "source": [
    "## 3. Probabilidad\n",
    "\n",
    "1. [Introducción](https://github.com/AlfonsJ/PML1/blob/main/P01%20Fundamentos/T02%20Probabilidad%3A%20modelos%20univariados/2.1%20Introducci%C3%B3n/2.1%20Introducci%C3%B3n.ipynb)\n",
    "2. [Variables aleatorias](https://github.com/AlfonsJ/PML1/blob/main/P01%20Fundamentos/T02%20Probabilidad%3A%20modelos%20univariados/2.2%20Variables%20aleatorias/2.2%20Variables%20aleatorias.ipynb)\n",
    "3. [Regla de Bayes](https://github.com/AlfonsJ/PML1/blob/main/P01%20Fundamentos/T02%20Probabilidad%3A%20modelos%20univariados/2.3%20Regla%20de%20Bayes/2.3%20Regla%20de%20Bayes.ipynb)\n",
    "4. [Distribuciones Bernoulli y binomial](https://github.com/AlfonsJ/PML1/blob/main/P01%20Fundamentos/T02%20Probabilidad%3A%20modelos%20univariados/2.4%20Distribuciones%20Bernoulli%20y%20binomial/2.4.1%20Definici%C3%B3n.ipynb)\n",
    "5. [Función logística o sigmoide](https://github.com/AlfonsJ/PML1/blob/main/P01%20Fundamentos/T02%20Probabilidad%3A%20modelos%20univariados/2.4%20Distribuciones%20Bernoulli%20y%20binomial/2.4.2%20Funci%C3%B3n%20log%C3%ADstica%20o%20sigmoide.ipynb)\n",
    "6. [Distribuciones categórica y multinomial](https://github.com/AlfonsJ/PML1/blob/main/P01%20Fundamentos/T02%20Probabilidad%3A%20modelos%20univariados/2.5%20Distribuciones%20categ%C3%B3rica%20y%20multinomial/2.5.1%20Definici%C3%B3n.ipynb)\n",
    "7. [La función softmax](https://github.com/AlfonsJ/PML1/blob/main/P01%20Fundamentos/T02%20Probabilidad%3A%20modelos%20univariados/2.5%20Distribuciones%20categ%C3%B3rica%20y%20multinomial/2.5.2%20La%20funci%C3%B3n%20softmax.ipynb)\n",
    "8. [Gaussiana univariada: cdf](https://github.com/AlfonsJ/PML1/blob/main/P01%20Fundamentos/T02%20Probabilidad%3A%20modelos%20univariados/2.6%20Distribuci%C3%B3n%20Gaussiana%20univariada/2.6.1%20Funci%C3%B3n%20de%20distribuci%C3%B3n%20acumulada.ipynb)\n",
    "9. [Gaussiana univariada: pdf](https://github.com/AlfonsJ/PML1/blob/main/P01%20Fundamentos/T02%20Probabilidad%3A%20modelos%20univariados/2.6%20Distribuci%C3%B3n%20Gaussiana%20univariada/2.6.2%20Funci%C3%B3n%20de%20densidad%20de%20probabilidad.ipynb)\n",
    "10. [Distribuciones conjuntas: covarianza](https://github.com/AlfonsJ/PML1/blob/main/P01%20Fundamentos/T03%20Probabilidad%3A%20modelos%20multivariados/3.1%20Distribuciones%20conjuntas%20para%20variables%20aleatorias%20m%C3%BAltiples/3.1.1%20Covarianza.ipynb)\n",
    "11. [Gaussiana multivariada: definición y simulación](https://github.com/AlfonsJ/PML1/blob/main/P01%20Fundamentos/T03%20Probabilidad%3A%20modelos%20multivariados/3.2%20La%20Gaussiana%20multivariada/3.2.1%20Definici%C3%B3n.ipynb)\n",
    "12. [Gaussiana multivariada: distancia de Mahalanobis](https://github.com/AlfonsJ/PML1/blob/main/P01%20Fundamentos/T03%20Probabilidad%3A%20modelos%20multivariados/3.2%20La%20Gaussiana%20multivariada/3.2.2%20Mahalanobis.ipynb)"
   ]
  },
  {
   "cell_type": "markdown",
   "metadata": {},
   "source": [
    "## 4. Teoría de la información\n",
    "\n",
    "1. [Entropía de una distribución de probabilidad](https://github.com/AlfonsJ/PML1/blob/main/P01%20Fundamentos/T06%20Teor%C3%ADa%20de%20la%20informaci%C3%B3n/6.1%20Entrop%C3%ADa/6.1.0%20Introducci%C3%B3n.ipynb)\n",
    "2. [Entropía para variables aleatorias discretas](https://github.com/AlfonsJ/PML1/blob/main/P01%20Fundamentos/T06%20Teor%C3%ADa%20de%20la%20informaci%C3%B3n/6.1%20Entrop%C3%ADa/6.1.1%20Entrop%C3%ADa%20para%20variables%20aleatorias%20discretas.ipynb)\n",
    "3. [Entropía cruzada](https://github.com/AlfonsJ/PML1/blob/main/P01%20Fundamentos/T06%20Teor%C3%ADa%20de%20la%20informaci%C3%B3n/6.1%20Entrop%C3%ADa/6.1.2%20Entrop%C3%ADa%20cruzada.ipynb)"
   ]
  },
  {
   "cell_type": "markdown",
   "metadata": {},
   "source": [
    "## 5. Estadística\n",
    "\n",
    "1. [Introducción](https://github.com/AlfonsJ/PML1/tree/main/P01%20Fundamentos/T04%20Estad%C3%ADstica/4.1%20Introducci%C3%B3n)\n",
    "2. [Estimación máximo-verosímil](https://github.com/AlfonsJ/PML1/tree/main/P01%20Fundamentos/T04%20Estad%C3%ADstica/4.2%20Estimaci%C3%B3n%20m%C3%A1ximo-veros%C3%ADmil)\n",
    "3. [Minimización del riesgo empírico](https://github.com/AlfonsJ/PML1/tree/main/P01%20Fundamentos/T04%20Estad%C3%ADstica/4.3%20Minimizaci%C3%B3n%20del%20riesgo%20emp%C3%ADrico)\n",
    "4. [Regularización](https://github.com/AlfonsJ/PML1/tree/main/P01%20Fundamentos/T04%20Estad%C3%ADstica/4.5%20Regularizaci%C3%B3n)"
   ]
  },
  {
   "cell_type": "markdown",
   "metadata": {},
   "source": [
    "## 6. Teoría de la decisión Bayesiana\n",
    "\n",
    "1. [Conceptos básicos](https://github.com/AlfonsJ/PML1/blob/main/P01%20Fundamentos/T05%20Teor%C3%ADa%20de%20la%20decisi%C3%B3n/5.1%20Teor%C3%ADa%20de%20la%20decisi%C3%B3n%20Bayesiana/5.1.1%20Conceptos%20b%C3%A1sicos.ipynb)\n",
    "2. [Problemas de clasificación](https://github.com/AlfonsJ/PML1/blob/main/P01%20Fundamentos/T05%20Teor%C3%ADa%20de%20la%20decisi%C3%B3n/5.1%20Teor%C3%ADa%20de%20la%20decisi%C3%B3n%20Bayesiana/5.1.2%20Problemas%20de%20clasificaci%C3%B3n.ipynb)\n",
    "3. [Matrices de confusión](https://github.com/AlfonsJ/PML1/blob/main/P01%20Fundamentos/T05%20Teor%C3%ADa%20de%20la%20decisi%C3%B3n/5.1%20Teor%C3%ADa%20de%20la%20decisi%C3%B3n%20Bayesiana/5.1.3a%20Matrices%20de%20confusi%C3%B3n.ipynb)\n",
    "4. [Curvas ROC](https://github.com/AlfonsJ/PML1/blob/main/P01%20Fundamentos/T05%20Teor%C3%ADa%20de%20la%20decisi%C3%B3n/5.1%20Teor%C3%ADa%20de%20la%20decisi%C3%B3n%20Bayesiana/5.1.3b%20Curvas%20ROC.ipynb)\n",
    "5. [Curvas PR](https://github.com/AlfonsJ/PML1/blob/main/P01%20Fundamentos/T05%20Teor%C3%ADa%20de%20la%20decisi%C3%B3n/5.1%20Teor%C3%ADa%20de%20la%20decisi%C3%B3n%20Bayesiana/5.1.4a%20Curvas%20PR.ipynb)\n",
    "6. [F-scores](https://github.com/AlfonsJ/PML1/blob/main/P01%20Fundamentos/T05%20Teor%C3%ADa%20de%20la%20decisi%C3%B3n/5.1%20Teor%C3%ADa%20de%20la%20decisi%C3%B3n%20Bayesiana/5.1.4b%20F-scores.ipynb)\n",
    "7. [Problemas de regresión](https://github.com/AlfonsJ/PML1/blob/main/P01%20Fundamentos/T05%20Teor%C3%ADa%20de%20la%20decisi%C3%B3n/5.1%20Teor%C3%ADa%20de%20la%20decisi%C3%B3n%20Bayesiana/5.1.5%20Problemas%20de%20regresi%C3%B3n.ipynb)\n",
    "8. [Problemas de predicción probabilística](https://github.com/AlfonsJ/PML1/blob/main/P01%20Fundamentos/T05%20Teor%C3%ADa%20de%20la%20decisi%C3%B3n/5.1%20Teor%C3%ADa%20de%20la%20decisi%C3%B3n%20Bayesiana/5.1.6%20Problemas%20de%20predicci%C3%B3n%20probabil%C3%ADstica.ipynb)"
   ]
  }
 ],
 "metadata": {
  "language_info": {
   "name": "python"
  }
 },
 "nbformat": 4,
 "nbformat_minor": 2
}
