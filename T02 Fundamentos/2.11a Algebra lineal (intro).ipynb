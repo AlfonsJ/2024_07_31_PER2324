{
 "cells": [
  {
   "attachments": {},
   "cell_type": "markdown",
   "metadata": {},
   "source": [
    "# Introducción al algebra lineal"
   ]
  },
  {
   "attachments": {},
   "cell_type": "markdown",
   "metadata": {},
   "source": [
    "## Vectores, matrices y tensores"
   ]
  },
  {
   "cell_type": "code",
   "execution_count": 2,
   "metadata": {},
   "outputs": [
    {
     "name": "stdout",
     "output_type": "stream",
     "text": [
      "[0 1 2 3 4 5 6 7] (8,)\n",
      "[[0 1 2 3]\n",
      " [4 5 6 7]] (2, 4)\n",
      "[[[0 1]\n",
      "  [2 3]]\n",
      "\n",
      " [[4 5]\n",
      "  [6 7]]] (2, 2, 2)\n"
     ]
    }
   ],
   "source": [
    "# %load '7.1.1.notation.py'\n",
    "import numpy as np\n",
    "a = np.arange(8)\n",
    "print(a, a.shape)\n",
    "a2d = a.reshape([2, -1])\n",
    "print(a2d, a2d.shape)\n",
    "a3d = a.reshape([2, 2, -1])\n",
    "print(a3d, a3d.shape)\n"
   ]
  },
  {
   "attachments": {},
   "cell_type": "markdown",
   "metadata": {},
   "source": [
    "## Rango de una matriz"
   ]
  },
  {
   "cell_type": "code",
   "execution_count": 4,
   "metadata": {},
   "outputs": [
    {
     "name": "stdout",
     "output_type": "stream",
     "text": [
      "4\n",
      "3\n",
      "1\n",
      "0\n"
     ]
    }
   ],
   "source": [
    "# %load '7.1.2.rank.py'\n",
    "import numpy as np\n",
    "A = np.eye(4)\n",
    "print(np.linalg.matrix_rank(A))\n",
    "A[-1, -1] = 0.\n",
    "print(np.linalg.matrix_rank(A))\n",
    "A = np.ones((4,))\n",
    "print(np.linalg.matrix_rank(A))\n",
    "A = np.zeros((4,))\n",
    "print(np.linalg.matrix_rank(A))\n"
   ]
  },
  {
   "attachments": {},
   "cell_type": "markdown",
   "metadata": {},
   "source": [
    "## Normas L1, L2 y L $\\!\\infty$ de un vector"
   ]
  },
  {
   "cell_type": "code",
   "execution_count": 6,
   "metadata": {},
   "outputs": [
    {
     "name": "stdout",
     "output_type": "stream",
     "text": [
      "7.0\n",
      "5.0\n",
      "4.0\n"
     ]
    }
   ],
   "source": [
    "# %load '7.1.3.1.vecnorm.py'\n",
    "import numpy as np\n",
    "a = np.array([-3, 4])\n",
    "print(np.linalg.norm(a, 1))\n",
    "print(np.linalg.norm(a, 2))\n",
    "print(np.linalg.norm(a, np.inf))\n"
   ]
  },
  {
   "attachments": {},
   "cell_type": "markdown",
   "metadata": {},
   "source": [
    "## Norma de Frobenius de una matriz"
   ]
  },
  {
   "cell_type": "code",
   "execution_count": 8,
   "metadata": {},
   "outputs": [
    {
     "name": "stdout",
     "output_type": "stream",
     "text": [
      "4.0\n"
     ]
    }
   ],
   "source": [
    "# %load '7.1.3.2.matnorm.py'\n",
    "import numpy as np\n",
    "A = np.array([[-2, -2], [2, 2]])\n",
    "print(np.linalg.norm(A, 'fro'))\n"
   ]
  },
  {
   "attachments": {},
   "cell_type": "markdown",
   "metadata": {},
   "source": [
    "## Propiedades de una matriz"
   ]
  },
  {
   "cell_type": "code",
   "execution_count": 10,
   "metadata": {},
   "outputs": [
    {
     "name": "stdout",
     "output_type": "stream",
     "text": [
      "4\n",
      "3\n",
      "2\n",
      "3\n"
     ]
    }
   ],
   "source": [
    "# %load '7.1.4.matprops.py'\n",
    "import numpy as np\n",
    "A = np.array([[2, 1], [1, 2]])\n",
    "print(np.trace(A))\n",
    "print(round(np.linalg.det(A)))\n",
    "print(np.linalg.matrix_rank(A))\n",
    "print(round(np.linalg.cond(A)))\n"
   ]
  }
 ],
 "metadata": {
  "kernelspec": {
   "display_name": "Python 3",
   "language": "python",
   "name": "python3"
  },
  "language_info": {
   "codemirror_mode": {
    "name": "ipython",
    "version": 3
   },
   "file_extension": ".py",
   "mimetype": "text/x-python",
   "name": "python",
   "nbconvert_exporter": "python",
   "pygments_lexer": "ipython3",
   "version": "3.10.6"
  },
  "orig_nbformat": 4
 },
 "nbformat": 4,
 "nbformat_minor": 2
}
