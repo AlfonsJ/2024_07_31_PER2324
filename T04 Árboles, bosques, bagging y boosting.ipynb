{
 "cells": [
  {
   "cell_type": "markdown",
   "metadata": {},
   "source": [
    "# T04 Árboles, bosques, bagging y boosting"
   ]
  },
  {
   "cell_type": "markdown",
   "metadata": {},
   "source": [
    "## 1. CART, ensambles, bagging y bosques aleatorios\n",
    "\n",
    "1. **CART:** $\\;$ [modelo](https://github.com/AlfonsJ/PML1/blob/main/P04%20Modelos%20no%20param%C3%A9tricos/T18%20%C3%81rboles%2C%20bosques%2C%20bagging%20y%20boosting/18.1%20%C3%81rboles%20de%20regresi%C3%B3n%20y%20clasificaci%C3%B3n/18.1.1%20El%20modelo%20CART.ipynb), [ajuste](https://github.com/AlfonsJ/PML1/blob/main/P04%20Modelos%20no%20param%C3%A9tricos/T18%20%C3%81rboles%2C%20bosques%2C%20bagging%20y%20boosting/18.1%20%C3%81rboles%20de%20regresi%C3%B3n%20y%20clasificaci%C3%B3n/18.1.2%20Ajuste.ipynb), [regularización](https://github.com/AlfonsJ/PML1/blob/main/P04%20Modelos%20no%20param%C3%A9tricos/T18%20%C3%81rboles%2C%20bosques%2C%20bagging%20y%20boosting/18.1%20%C3%81rboles%20de%20regresi%C3%B3n%20y%20clasificaci%C3%B3n/18.1.3%20Regularizaci%C3%B3n.ipynb), [características de entrada perdidas](https://github.com/AlfonsJ/PML1/blob/main/P04%20Modelos%20no%20param%C3%A9tricos/T18%20%C3%81rboles%2C%20bosques%2C%20bagging%20y%20boosting/18.1%20%C3%81rboles%20de%20regresi%C3%B3n%20y%20clasificaci%C3%B3n/18.1.4%20Caracter%C3%ADsticas%20de%20entrada%20perdidas.ipynb) y [pros y cons](https://github.com/AlfonsJ/PML1/blob/main/P04%20Modelos%20no%20param%C3%A9tricos/T18%20%C3%81rboles%2C%20bosques%2C%20bagging%20y%20boosting/18.1%20%C3%81rboles%20de%20regresi%C3%B3n%20y%20clasificaci%C3%B3n/18.1.5%20Pros%20y%20cons.ipynb)\n",
    "2. **Ensambles, bagging y bosques aleatorios:** $\\;$ [aprendizaje de ensambles](https://github.com/AlfonsJ/PML1/blob/main/P04%20Modelos%20no%20param%C3%A9tricos/T18%20%C3%81rboles%2C%20bosques%2C%20bagging%20y%20boosting/18.2%20Aprendizaje%20de%20ensambles/18.2%20Aprendizaje%20de%20ensambles.ipynb), [bagging](https://github.com/AlfonsJ/PML1/blob/main/P04%20Modelos%20no%20param%C3%A9tricos/T18%20%C3%81rboles%2C%20bosques%2C%20bagging%20y%20boosting/18.3%20Bagging/18.3%20Bagging.ipynb) y [bosques aleatorios](https://github.com/AlfonsJ/PML1/blob/main/P04%20Modelos%20no%20param%C3%A9tricos/T18%20%C3%81rboles%2C%20bosques%2C%20bagging%20y%20boosting/18.4%20Bosques%20aleatorios/18.4%20Bosques%20aleatorios.ipynb)"
   ]
  },
  {
   "cell_type": "markdown",
   "metadata": {},
   "source": [
    "## 2. Boosting\n",
    "\n",
    "1. **Introducción:** $\\;$ [boosting](https://github.com/AlfonsJ/PML1/blob/main/P04%20Modelos%20no%20param%C3%A9tricos/T18%20%C3%81rboles%2C%20bosques%2C%20bagging%20y%20boosting/18.5%20Boosting/18.5.0%20Introducci%C3%B3n.ipynb) y [FSAM](https://github.com/AlfonsJ/PML1/blob/main/P04%20Modelos%20no%20param%C3%A9tricos/T18%20%C3%81rboles%2C%20bosques%2C%20bagging%20y%20boosting/18.5%20Boosting/18.5.1%20FSAM.ipynb)\n",
    "2. **Métodos clásicos:** $\\;$ [boosting mínimos cuadrados](https://github.com/AlfonsJ/PML1/blob/main/P04%20Modelos%20no%20param%C3%A9tricos/T18%20%C3%81rboles%2C%20bosques%2C%20bagging%20y%20boosting/18.5%20Boosting/18.5.2%20Boosting%20m%C3%ADnimos%20cuadrados.ipynb), [AdaBoost](https://github.com/AlfonsJ/PML1/blob/main/P04%20Modelos%20no%20param%C3%A9tricos/T18%20%C3%81rboles%2C%20bosques%2C%20bagging%20y%20boosting/18.5%20Boosting/18.5.3%20AdaBoost.ipynb) y [LogitBoost](https://github.com/AlfonsJ/PML1/blob/main/P04%20Modelos%20no%20param%C3%A9tricos/T18%20%C3%81rboles%2C%20bosques%2C%20bagging%20y%20boosting/18.5%20Boosting/18.5.4%20LogitBoost.ipynb)\n",
    "3. **Gradient boosting:** $\\;$ [gradient boosting](https://github.com/AlfonsJ/PML1/blob/main/P04%20Modelos%20no%20param%C3%A9tricos/T18%20%C3%81rboles%2C%20bosques%2C%20bagging%20y%20boosting/18.5%20Boosting/18.5.5%20Gradient%20boosting.ipynb)"
   ]
  },
  {
   "cell_type": "markdown",
   "metadata": {},
   "source": [
    "## 3. Interpretación de ensambles de árboles\n",
    "\n",
    "1. **Interpretación:** $\\;$ [importancia de características](https://github.com/AlfonsJ/PML1/blob/main/P04%20Modelos%20no%20param%C3%A9tricos/T18%20%C3%81rboles%2C%20bosques%2C%20bagging%20y%20boosting/18.6%20Interpretaci%C3%B3n%20de%20ensambles%20de%20%C3%A1rboles/18.6.1%20Importancia%20de%20caracter%C3%ADsticas.ipynb) y [gráficos de dependencia parcial](https://github.com/AlfonsJ/PML1/blob/main/P04%20Modelos%20no%20param%C3%A9tricos/T18%20%C3%81rboles%2C%20bosques%2C%20bagging%20y%20boosting/18.6%20Interpretaci%C3%B3n%20de%20ensambles%20de%20%C3%A1rboles/18.6.2%20Gr%C3%A1ficos%20de%20dependencia%20parcial.ipynb) "
   ]
  }
 ],
 "metadata": {
  "language_info": {
   "name": "python"
  }
 },
 "nbformat": 4,
 "nbformat_minor": 2
}
