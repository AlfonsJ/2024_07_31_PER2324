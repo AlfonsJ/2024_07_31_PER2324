{
  "cells": [
    {
      "cell_type": "markdown",
      "metadata": {
        "id": "58B27Xk_RkUS"
      },
      "source": [
        "# KVecinos en un dataset de detección de spam\n",
        "\n",
        "Se propone emplear un clasificador basado en distancias sobre el dataset id=44 de openml de detección de Spam. Son un total de 4601 muestras con 57 características."
      ]
    },
    {
      "cell_type": "code",
      "execution_count": null,
      "metadata": {
        "id": "ol4-XMphRR0o"
      },
      "outputs": [],
      "source": [
        "from sklearn.datasets import fetch_openml\n",
        "from sklearn.model_selection import train_test_split\n",
        "\n",
        "## Descarga del dataset Spam\n",
        "X, y = fetch_openml(data_id=44, as_frame=False, cache=True, return_X_y=True)\n",
        "print(X.shape)\n",
        "\n",
        "## Partición train/test\n",
        "X_train, X_test, y_train, y_test = train_test_split(X, y, test_size=0.2, shuffle=True, random_state=23)\n"
      ]
    },
    {
      "cell_type": "markdown",
      "metadata": {
        "id": "ylTk-2JuSJyD"
      },
      "source": [
        "## El clasificador por los vecinos más cercanos"
      ]
    },
    {
      "cell_type": "code",
      "execution_count": 20,
      "metadata": {
        "colab": {
          "base_uri": "https://localhost:8080/"
        },
        "id": "9fwMFShNRfKk",
        "outputId": "c0c027af-78f8-4f85-c551-68ff804cda2e"
      },
      "outputs": [
        {
          "name": "stdout",
          "output_type": "stream",
          "text": [
            "Precisión: 79.5%\n"
          ]
        }
      ],
      "source": [
        "from sklearn.neighbors import KNeighborsClassifier\n",
        "\n",
        "kv = KNeighborsClassifier()\n",
        "acc=kv.fit(X_train,y_train).score(X_test,y_test)\n",
        "\n",
        "print(f'Precisión: {acc:.1%}')"
      ]
    },
    {
      "cell_type": "markdown",
      "metadata": {
        "id": "IMCCldnbSR9g"
      },
      "source": [
        "**Ejercicio:** Explora el principal parámetros del KNN (n_neighbors) y realiza una búsqueda mediante alguna técnica de optimización ya vista en la práctica anterior"
      ]
    },
    {
      "cell_type": "markdown",
      "metadata": {
        "id": "pUGR1U0CTSyV"
      },
      "source": [
        "## Mejoras\n",
        "\n",
        "La función de distancia empleada por defecto es la distancia euclídea. Dicha distancia requiere un preproceso de las muestras para que tengan una escala similar todas ellas. Además KNN podría beneficiarse de una proyección mediante PCA con el fin de reducir la dimensionalidad.\n",
        "\n",
        "**Ejercicio:** Implementa un pipeline con la normalización de los datos y un PCA, seguido del KNN. Busca los mejores parámetros. Se podría conseguir una tasa de acierto >90%.\n"
      ]
    },
    {
      "cell_type": "markdown",
      "metadata": {
        "id": "w8r-aW7yWMru"
      },
      "source": [
        "También podríamos probar diferentes funciones de distancia [sklearn distances](https://scikit-learn.org/stable/modules/generated/sklearn.metrics.pairwise.distance_metrics.html#sklearn.metrics.pairwise.distance_metrics) a emplear en el parámetro \"metric\". Así mismo podríamos explorar el parámetro \"weights\" que pondera el voto de cada vecino de forma diferente según el parámetro escogido.\n",
        "\n",
        "**Ejercicio:** prueba también diferentes métricas y \"weights\" junto con todo lo anterior. Emplea el BayessianOpt visto en la práctica anterior."
      ]
    },
    {
      "cell_type": "markdown",
      "metadata": {
        "id": "eCSmzF9XZXE2"
      },
      "source": [
        "## Olivetti Faces\n",
        "\n",
        "Prueba ahora el clasificador KNN junto con todos los parámetros y preprocesos que creas convenientes sobre el dataset de reconocimiento facial de Olivetti."
      ]
    }
  ],
  "metadata": {
    "colab": {
      "provenance": []
    },
    "kernelspec": {
      "display_name": "Python 3",
      "name": "python3"
    },
    "language_info": {
      "name": "python"
    }
  },
  "nbformat": 4,
  "nbformat_minor": 0
}
