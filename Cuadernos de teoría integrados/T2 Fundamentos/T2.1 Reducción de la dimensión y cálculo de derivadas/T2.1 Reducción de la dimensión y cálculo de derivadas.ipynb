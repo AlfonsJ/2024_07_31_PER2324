{
 "cells": [
  {
   "cell_type": "markdown",
   "metadata": {},
   "source": [
    "# T2.1 Algebra lineal: reducción de la dimensión y cálculo de derivadas"
   ]
  },
  {
   "cell_type": "markdown",
   "metadata": {},
   "source": [
    "**Índice**\n",
    "\n",
    "> 1 Matrices de datos<br>\n",
    ">> 1.1 Suma de trozos de la matriz<br>\n",
    ">> 1.2 Escalado de filas y columnas de una matriz<br>\n",
    ">> 1.3 Suma de cuadrados, centrado y matriz de dispersión<br>\n",
    ">> 1.4 Matriz de Gram<br>\n",
    ">> 1.5 Matriz de distancias<br>\n",
    ">\n",
    "> 2 Diagonalización<br>\n",
    ">> 2.1 Conceptos básicos<br>\n",
    ">>> 2.1.1 Valor y vector propio<br>\n",
    ">>> 2.1.2 Ecuación característica<br>\n",
    ">>> 2.1.3 Propiedades<br>\n",
    ">>\n",
    ">> 2.2 Diagonalización<br>\n",
    ">>> 2.2.1 Ecuación global<br>\n",
    ">>> 2.2.2 Descomposición propia<br>\n",
    ">\n",
    "> 3 Matrices reales y simétricas<br>\n",
    ">> 3.1 Valores y vectores propios de matrices reales y simétricas<br>\n",
    ">>> 3.1.1 Descomposición propia de una matriz real y simétrica<br>\n",
    ">>> 3.1.2 Comprobación de definición positiva<br>\n",
    ">>\n",
    ">> 3.2 Geometría de las formas cuadráticas<br>\n",
    ">\n",
    "> 4 Reducción de la dimensión<br>\n",
    ">> 4.1 Análisis de componentes principales (PCA)<br>\n",
    ">\n",
    "> 5 Descomposición en valores singulares (SVD)<br>\n",
    ">> 5.1 Conceptos básicos<br>\n",
    ">> 5.2 Conexión entre la SVD y la EVD<br>\n",
    ">>> 5.2.1 Matriz cuadrada real, simétrica y definida positiva<br>\n",
    ">>> 5.2.2 Matriz real arbitraria<br>\n",
    ">>\n",
    ">> 5.3 SVD truncada<br>\n",
    ">>> 5.3.1 SVD truncada<br>\n",
    ">>> 5.3.2 PCA con la SVD<br>\n",
    ">\n",
    "> 6 Cálculo matricial<br>\n",
    ">> 6.1 Preliminares<br>\n",
    ">>> 6.1.1 Formato numerador o Jacobiana<br>\n",
    ">>> 6.1.2 Otros formatos<br>\n",
    ">>\n",
    ">> 6.2 Identidades básicas<br>\n",
    ">> 6.3 Derivadas básicas<br>\n",
    ">> 6.4 Softmax<br>\n",
    ">> 6.5 Transformaciones lineales<br>\n",
    ">> 6.6 Regresión logística<br>"
   ]
  },
  {
   "attachments": {},
   "cell_type": "markdown",
   "metadata": {},
   "source": [
    "<p style=\"page-break-after:always;\"></p>\n",
    "\n",
    "# 1 Matrices de datos"
   ]
  },
  {
   "cell_type": "markdown",
   "metadata": {},
   "source": [
    "\n",
    "Sea $\\mathbf{X}\\in\\mathbb{R}^{N\\times D}$ una matriz de $N$ datos $D$-dimensionales. "
   ]
  },
  {
   "cell_type": "code",
   "execution_count": 10,
   "metadata": {},
   "outputs": [
    {
     "data": {
      "image/png": "[encoded data removed]",
      "text/plain": [
       "<Figure size 400x400 with 1 Axes>"
      ]
     },
     "metadata": {},
     "output_type": "display_data"
    }
   ],
   "source": [
    "import numpy as np; import matplotlib.pyplot as plt\n",
    "X = np.array([ [-1, -1], [0, 2], [2, 0], [3, 3] ]).astype(float)\n",
    "m = np.mean(X, axis=0)\n",
    "fig, ax = plt.subplots(figsize=(4, 4)); ax.set_aspect(\"equal\"); plt.grid(True)\n",
    "plt.axis([-2, 4, -2, 4]); plt.xticks(fontsize=16); plt.yticks(fontsize=16)\n",
    "plt.scatter(m[0], m[1], facecolor='C0', edgecolor='k', s=100, marker=\"X\")\n",
    "plt.scatter(X[:,0], X[:,1], facecolor='C0', edgecolor='k', s=100);"
   ]
  },
  {
   "attachments": {},
   "cell_type": "markdown",
   "metadata": {},
   "source": [
    "<p style=\"page-break-after:always;\"></p>\n",
    "\n",
    "## 1.1 Suma de trozos de la matriz\n",
    "\n",
    "**Suma de filas:** $\\;\\boldsymbol{1}_N^t\\mathbf{X}=(\\sum\\nolimits_n x_{n1},\\;\\cdots\\;,\\sum\\nolimits_nx_{nD})$\n",
    "\n",
    "**Media de los datos:** $\\;\\bar{\\boldsymbol{x}}^t=\\frac{1}{N}\\boldsymbol{1}_N^t\\mathbf{X}$\n",
    "\n",
    "**Suma de columnas:** $\\;\\mathbf{X}\\boldsymbol{1}_D=\\begin{pmatrix}\\sum_dx_{1d}\\\\\\vdots\\\\\\sum_dx_{Nd}\\end{pmatrix}$\n",
    "\n",
    "**Suma de todas las entradas:** $\\;\\boldsymbol{1}_N^t\\mathbf{X}\\boldsymbol{1}_D=\\sum\\nolimits_{ij}x_{ij}$\n",
    "\n",
    "**Media global de los datos:** $\\;\\bar{x}=\\frac{1}{ND}\\boldsymbol{1}_N^t\\mathbf{X}\\boldsymbol{1}_D$"
   ]
  },
  {
   "cell_type": "code",
   "execution_count": 2,
   "metadata": {},
   "outputs": [
    {
     "name": "stdout",
     "output_type": "stream",
     "text": [
      "Suma de filas:  [4. 4.] [4. 4.]\n",
      "Media de los datos:  [1. 1.] [1. 1.]\n",
      "Suma de columnas:  [-2.  2.  2.  6.] [-2.  2.  2.  6.]\n",
      "Suma de todas las entradas:  8.0 8.0\n",
      "Media global de los datos:  1.0 1.0\n"
     ]
    }
   ],
   "source": [
    "import numpy as np\n",
    "X = np.array([ [-1, -1], [0, 2], [2, 0], [3, 3] ]).astype(float); N, D = X.shape\n",
    "print(\"Suma de filas: \", np.ones(N) @ X, np.sum(X, axis=0))\n",
    "print(\"Media de los datos: \", 1/N * np.ones(N) @ X, np.mean(X, axis=0))\n",
    "print(\"Suma de columnas: \", X @ np.ones(D), np.sum(X, axis=1))\n",
    "print(\"Suma de todas las entradas: \", np.ones(N) @ X @ np.ones(D), np.sum(X))\n",
    "print(\"Media global de los datos: \", 1/(N*D) * np.ones(N) @ X @ np.ones(D), np.mean(X))"
   ]
  },
  {
   "attachments": {},
   "cell_type": "markdown",
   "metadata": {},
   "source": [
    "<p style=\"page-break-after:always;\"></p>\n",
    "\n",
    "## 1.2 Escalado de filas y columnas de una matriz\n",
    "\n",
    "**Escalado de filas con $\\mathbf{S}=\\operatorname{diag}(\\boldsymbol{s})$:** $\\quad\\mathbf{S}\\mathbf{X}=\\begin{bmatrix}s_1&\\cdots&0\\\\&\\ddots&\\\\0&\\cdots&s_N\\end{bmatrix}\\begin{bmatrix}x_{11}&\\cdots&x_{1D}\\\\&\\ddots&\\\\x_{N1}&\\cdots&x_{ND}\\end{bmatrix}=\\begin{bmatrix}s_1x_{11}&\\cdots&s_1x_{1D}\\\\&\\ddots&\\\\s_Nx_{N1}&\\cdots&s_Nx_{ND}\\end{bmatrix}$\n",
    "\n",
    "**Escalado de columnas con $\\mathbf{S}=\\operatorname{diag}(\\boldsymbol{s})$:** $\\quad\\mathbf{X}\\mathbf{S}=\\begin{bmatrix}x_{11}&\\cdots&x_{1D}\\\\&\\ddots&\\\\x_{N1}&\\cdots&x_{ND}\\end{bmatrix}\\begin{bmatrix}s_1&\\cdots&0\\\\&\\ddots&\\\\0&\\cdots&s_D\\end{bmatrix}=\\begin{bmatrix}s_1x_{11}&\\cdots&s_Dx_{1D}\\\\&\\ddots&\\\\s_1x_{N1}&\\cdots&s_Dx_{ND}\\end{bmatrix}$\n",
    "\n",
    "<p style=\"page-break-after:always;\"></p>\n",
    "\n",
    "**Estandarización:** $\\quad\\operatorname{standardize}(\\mathbf{X})=(\\mathbf{X}-\\boldsymbol{1}_N\\boldsymbol{\\mu}^t)\\operatorname{diag}(\\boldsymbol{\\sigma})^{-1}$"
   ]
  },
  {
   "cell_type": "code",
   "execution_count": 12,
   "metadata": {},
   "outputs": [
    {
     "data": {
      "image/png": "[encoded data removed]",
      "text/plain": [
       "<Figure size 400x400 with 1 Axes>"
      ]
     },
     "metadata": {},
     "output_type": "display_data"
    }
   ],
   "source": [
    "import numpy as np; import matplotlib.pyplot as plt\n",
    "X = np.array([ [-1, -1], [0, 2], [2, 0], [3, 3] ]).astype(float)\n",
    "m = np.mean(X, axis=0); sigma = np.std(X, axis=0); Xstd = (X - m) / sigma\n",
    "fig, ax = plt.subplots(figsize=(4, 4)); ax.set_aspect(\"equal\"); plt.grid(True)\n",
    "plt.axis([-2, 4, -2, 4]); plt.xticks(fontsize=16); plt.yticks(fontsize=16)\n",
    "plt.scatter(m[0], m[1], facecolor='C0', edgecolor='k', s=100, marker=\"X\")\n",
    "plt.scatter(X[:,0], X[:,1], facecolor='C0', edgecolor='k', s=100);\n",
    "plt.scatter(0, 0, facecolor='C1', edgecolor='k', s=100, marker=\"X\")\n",
    "plt.scatter(Xstd[:,0], Xstd[:,1], facecolor='C1', edgecolor='k', s=100);"
   ]
  },
  {
   "attachments": {},
   "cell_type": "markdown",
   "metadata": {},
   "source": [
    "<p style=\"page-break-after:always;\"></p>\n",
    "\n",
    "## 1.3 Suma de cuadrados, centrado y matriz de dispersión\n",
    "\n",
    "**Suma de cuadrados:** $\\;\\displaystyle\\mathbf{S}_0=\\mathbf{X}^t\\mathbf{X}=[\\boldsymbol{x}_1,\\boldsymbol{x}_2,\\dotsc,\\boldsymbol{x}_N]\\begin{bmatrix}\\boldsymbol{x}_1^t\\\\\\boldsymbol{x}_2^t\\\\\\vdots\\\\\\boldsymbol{x}_N^t\\end{bmatrix}=\\sum_{n=1}^N\\boldsymbol{x}_n\\boldsymbol{x}_n^t=\\sum_{n=1}^N\\begin{pmatrix}x_{n1}^2&\\cdots&x_{n1}x_{nD}\\\\&\\ddots\\\\x_{nD}x_{n1}&\\cdots&x_{nD}^2\\end{pmatrix}$\n",
    "\n",
    "**Matriz de centrado:** $\\;\\mathbf{C}_N=\\mathbf{I}_N-\\frac{1}{N}\\boldsymbol{1}_N\\boldsymbol{1}_N^t,\\,$ simétrica e idempotente ($\\mathbf{C}_N^k=\\mathbf{C}_N$, $k\\geq 1$), centra los datos\n",
    "$$\\tilde{\\mathbf{X}}=\\mathbf{X}-\\boldsymbol{1}_N\\bar{\\boldsymbol{x}}^t=\\mathbf{X}-\\frac{1}{N}\\boldsymbol{1}_N\\boldsymbol{1}_N^t\\mathbf{X}=\\mathbf{C}_N\\mathbf{X}$$\n",
    "\n",
    "**Matriz de dispersión:** $\\;\\displaystyle\\mathbf{S}_{\\bar{\\boldsymbol{x}}}=\\sum_{n=1}^N(\\boldsymbol{x}_n-\\bar{\\boldsymbol{x}})(\\boldsymbol{x}_n-\\bar{\\boldsymbol{x}})^t=\\tilde{\\mathbf{X}}^t\\tilde{\\mathbf{X}}=\\mathbf{X}^t\\mathbf{C}_N^t\\mathbf{C}_N\\mathbf{X}=\\mathbf{X}^t\\mathbf{C}_N\\mathbf{X}$"
   ]
  },
  {
   "cell_type": "code",
   "execution_count": 4,
   "metadata": {},
   "outputs": [
    {
     "name": "stdout",
     "output_type": "stream",
     "text": [
      "Suma de cuadrados:\n",
      " [[14. 10.]\n",
      " [10. 14.]]\n",
      "Matriz de centrado:\n",
      " [[ 0.75 -0.25 -0.25 -0.25]\n",
      " [-0.25  0.75 -0.25 -0.25]\n",
      " [-0.25 -0.25  0.75 -0.25]\n",
      " [-0.25 -0.25 -0.25  0.75]]\n",
      "Matriz de dispersión:\n",
      " [[10.  6.]\n",
      " [ 6. 10.]] \n",
      " [[10.  6.]\n",
      " [ 6. 10.]]\n"
     ]
    }
   ],
   "source": [
    "import numpy as np\n",
    "X = np.array([ [-1, -1], [0, 2], [2, 0], [3, 3] ]).astype(float); N, D = X.shape\n",
    "print(\"Suma de cuadrados:\\n\", X.T @ X)\n",
    "C = np.eye(N) - np.ones((N, N))/N; print(\"Matriz de centrado:\\n\", C)\n",
    "print(\"Matriz de dispersión:\\n\", X.T @ C @ X, \"\\n\", N * np.cov(X, rowvar=False, bias=True))"
   ]
  },
  {
   "attachments": {},
   "cell_type": "markdown",
   "metadata": {},
   "source": [
    "<p style=\"page-break-after:always;\"></p>\n",
    "\n",
    "## 1.4 Matriz de Gram\n",
    "\n",
    "**Matriz de Gram:** $\\;\\mathbf{K}=\\mathbf{X}\\mathbf{X}^t=\\begin{bmatrix}\\boldsymbol{x}_1^t\\boldsymbol{x}_1&\\cdots&\\boldsymbol{x}_1^t\\boldsymbol{x}_N\\\\&\\vdots\\\\\\boldsymbol{x}_N^t\\boldsymbol{x}_1 &\\cdots&\\boldsymbol{x}_N^t\\boldsymbol{x}_N\\end{bmatrix}\\quad$ (matriz de productos escalares)\n",
    "\n",
    "**Gram para datos centrados a partir de Gram:** $\\quad$ **truco del doble centrado**\n",
    "$$\\tilde{\\mathbf{K}}=\\tilde{\\mathbf{X}}\\tilde{\\mathbf{X}}^t=\\mathbf{C}_N\\mathbf{X}(\\mathbf{C}_N\\mathbf{X})^t=\\mathbf{C}_N\\mathbf{K}\\mathbf{C}_N$$ "
   ]
  },
  {
   "cell_type": "code",
   "execution_count": 5,
   "metadata": {},
   "outputs": [
    {
     "name": "stdout",
     "output_type": "stream",
     "text": [
      "Gram:\n",
      " [[ 2. -2. -2. -6.]\n",
      " [-2.  4.  0.  6.]\n",
      " [-2.  0.  4.  6.]\n",
      " [-6.  6.  6. 18.]]\n",
      "Gram centrados:\n",
      " [[ 8.  0.  0. -8.]\n",
      " [ 0.  2. -2.  0.]\n",
      " [ 0. -2.  2.  0.]\n",
      " [-8.  0.  0.  8.]]\n",
      "Gram centrados con truco:\n",
      " [[ 8.  0.  0. -8.]\n",
      " [ 0.  2. -2.  0.]\n",
      " [ 0. -2.  2.  0.]\n",
      " [-8.  0.  0.  8.]]\n"
     ]
    }
   ],
   "source": [
    "import numpy as np\n",
    "X = np.array([ [-1, -1], [0, 2], [2, 0], [3, 3] ]).astype(float); N, D = X.shape\n",
    "K = X @ X.T; print(\"Gram:\\n\", K)\n",
    "Xc = X - np.mean(X, axis=0)\n",
    "Kc = Xc @ Xc.T; print(\"Gram centrados:\\n\", Kc)\n",
    "C = np.eye(N) - np.ones((N, N))/N\n",
    "Kc_K = C @ K @ C; print(\"Gram centrados con truco:\\n\", Kc_K)"
   ]
  },
  {
   "attachments": {},
   "cell_type": "markdown",
   "metadata": {},
   "source": [
    "<p style=\"page-break-after:always;\"></p>\n",
    "\n",
    "## 1.5 Matriz de distancias\n",
    "\n",
    "**Distancia (Euclídea) al cuadrado entre $\\,\\boldsymbol{x}, \\boldsymbol{y}\\in\\mathbb{R}^D$:** $\\quad \\lVert\\boldsymbol{x}-\\boldsymbol{y}\\rVert_2^2=(\\boldsymbol{x}-\\boldsymbol{y})^t(\\boldsymbol{x}-\\boldsymbol{y})=\\lVert\\boldsymbol{x}\\rVert_2^2-2\\boldsymbol{x}^t\\boldsymbol{y}+\\lVert\\boldsymbol{y}\\rVert_2^2$\n",
    "\n",
    "**Extensión a matrices de datos, $\\mathbf{X}\\in\\mathbb{R}^{N\\times D},\\,\\mathbf{Y}\\in\\mathbb{R}^{M\\times D}$:** $\\quad\\mathbf{D}\\in\\mathbb{R}^{N\\times M}$\n",
    "$$\\mathbf{D}=\\operatorname{diag}(\\mathbf{X}\\mathbf{X}^t)\\boldsymbol{1}_M^t-2\\mathbf{X}\\mathbf{Y}^t+\\boldsymbol{1}_N\\operatorname{diag}(\\mathbf{Y}\\mathbf{Y}^t)^t$$\n",
    "\n",
    "**Caso $\\mathbf{Y}=\\mathbf{X}$:**$\\qquad\\mathbf{D}=\\mathbf{H}-2\\mathbf{K}+\\mathbf{H}^t\\quad$ con $\\quad\\mathbf{H}=\\operatorname{diag}(\\mathbf{K})\\boldsymbol{1}_N^t\\;$ y $\\;\\mathbf{K}=\\mathbf{X}\\mathbf{X}^t\\;$ (Gram)"
   ]
  },
  {
   "cell_type": "code",
   "execution_count": 6,
   "metadata": {},
   "outputs": [
    {
     "name": "stdout",
     "output_type": "stream",
     "text": [
      "[[ 0. 10. 10. 32.]\n",
      " [10.  0.  8. 10.]\n",
      " [10.  8.  0. 10.]\n",
      " [32. 10. 10.  0.]]\n"
     ]
    }
   ],
   "source": [
    "import numpy as np\n",
    "X = np.array([ [-1, -1], [0, 2], [2, 0], [3, 3] ]).astype(float)\n",
    "K = X @ X.T; H = np.diag(K).reshape(-1, 1); print(H - 2*K + H.T)"
   ]
  },
  {
   "cell_type": "code",
   "execution_count": 7,
   "metadata": {},
   "outputs": [
    {
     "name": "stdout",
     "output_type": "stream",
     "text": [
      "[10. 10. 32.  8. 10. 10.] \n",
      " [[ 0. 10. 10. 32.]\n",
      " [10.  0.  8. 10.]\n",
      " [10.  8.  0. 10.]\n",
      " [32. 10. 10.  0.]]\n"
     ]
    }
   ],
   "source": [
    "import numpy as np\n",
    "import scipy.spatial.distance as dist\n",
    "X = np.array([ [-1, -1], [0, 2], [2, 0], [3, 3] ]).astype(float)\n",
    "V = dist.pdist(X, 'sqeuclidean')\n",
    "print(V, \"\\n\", dist.squareform(V))"
   ]
  },
  {
   "attachments": {},
   "cell_type": "markdown",
   "metadata": {},
   "source": [
    "<p style=\"page-break-after:always;\"></p>\n",
    "\n",
    "# 2 Diagonalización"
   ]
  },
  {
   "cell_type": "markdown",
   "metadata": {},
   "source": [
    "## 2.1 Conceptos básicos"
   ]
  },
  {
   "cell_type": "markdown",
   "metadata": {},
   "source": [
    "\n",
    "Sea $\\mathbf{A}\\in\\mathbb{R}^{n\\times n}$ una matriz cuadrada."
   ]
  },
  {
   "attachments": {},
   "cell_type": "markdown",
   "metadata": {},
   "source": [
    "### 2.1.1 Valor y vector propio\n",
    "\n",
    "**Valor y vector propio:** $\\;\\lambda\\in\\mathbb{R}$ es un **valor propio** de $\\mathbf{A}$ y $\\boldsymbol{u}\\in\\mathbf{R}^n$ \"el\" correspondiente **vector propio** asociado si:\n",
    "$$\\mathbf{A}\\boldsymbol{u}=\\lambda\\boldsymbol{u},\\qquad\\boldsymbol{u}\\neq\\boldsymbol{0}$$\n",
    "\n",
    "**No unicidad del vector propio:** $\\;$ si $\\boldsymbol{u}$ es vector propio asociado a $\\lambda$, todo $c\\boldsymbol{u}$ con $c\\in\\mathbf{R}$ no nulo tamién lo es\n",
    "$$\\mathbf{A}(c\\boldsymbol{u})=c\\mathbf{A}\\boldsymbol{u}=c\\lambda\\boldsymbol{u}=\\lambda(c\\boldsymbol{u})$$\n",
    "\n",
    "**Asunción de normalidad:** $\\;$ por simplicidad, se asume que \"el\" vector propio asociado a $\\lambda$ está normalizado, $\\lVert\\boldsymbol{u}\\rVert_2=1$; el entrecomillado \"el\" se debe a que $-\\boldsymbol{u}$ también está normalizado, por lo que tenemos dos opciones"
   ]
  },
  {
   "attachments": {},
   "cell_type": "markdown",
   "metadata": {},
   "source": [
    "### 2.1.2 Ecuación característica\n",
    "\n",
    "**Ecuación característica:** $\\;$ permite hallar los $n$ valores propios de $\\mathbf{A}$ y sus vectores propios asociados\n",
    "$$\\lvert\\lambda\\mathbf{I}_n-\\mathbf{A}\\rvert=0$$"
   ]
  },
  {
   "attachments": {},
   "cell_type": "markdown",
   "metadata": {},
   "source": [
    "<p style=\"page-break-after:always;\"></p>\n",
    "\n",
    "### 2.1.3 Propiedades\n",
    "\n",
    "**Traza de $\\mathbf{A}$:** $\\;\\operatorname{tr}(\\mathbf{A})=\\sum_{i=1}^n\\lambda_i$\n",
    "\n",
    "**Determinante de $\\mathbf{A}$:** $\\;\\lvert{\\mathbf{A}}\\rvert=\\prod_{i=1}^n\\lambda_i$\n",
    "\n",
    "**Rango de $\\mathbf{A}$:** $\\;\\operatorname{range}(\\mathbf{A})=\\sum_{i=1}^n\\mathbb{I}(\\lambda_i>0)$\n",
    "\n",
    "**Valor y vector propio de $\\mathbf{A}^{-1}$:** $\\;$ si $\\mathbf{A}$ es no singular y $(\\lambda_i, \\boldsymbol{u}_i)$ es un par valor-vector propio de $\\mathbf{A}$, entonces $\\mathbf{A}^{-1}$ existe y $(1/\\lambda_i, \\boldsymbol{u}_i)$ es un par valor-vector propio de $\\mathbf{A}^{-1}$"
   ]
  },
  {
   "attachments": {},
   "cell_type": "markdown",
   "metadata": {},
   "source": [
    "<p style=\"page-break-after:always;\"></p>\n",
    "\n",
    "## 2.2 Diagonalización"
   ]
  },
  {
   "cell_type": "markdown",
   "metadata": {},
   "source": [
    "\n",
    "Sea $\\mathbf{A}\\in\\mathbb{R}^{n\\times n}$ una matriz cuadrada."
   ]
  },
  {
   "attachments": {},
   "cell_type": "markdown",
   "metadata": {},
   "source": [
    "### 2.2.1 Ecuación global\n",
    "\n",
    "**Ecuación global:** $\\;\\mathbf{\\Lambda}=\\operatorname{diag}(\\lambda_1,\\dotsc,\\lambda_n)$ y $\\mathbf{U}=(\\boldsymbol{u}_1,\\dotsc,\\boldsymbol{u}_n)$ son matrices de valores y vectores propios de $\\mathbf{A}$ si:\n",
    "$$\\mathbf{A}\\mathbf{U}%\n",
    "=[\\mathbf{A}\\boldsymbol{u}_1,\\mathbf{A}\\boldsymbol{u}_2,\\dotsc,\\mathbf{A}\\boldsymbol{u}_n]%\n",
    "=[\\lambda_1\\boldsymbol{u}_1,\\lambda_2\\boldsymbol{u}_2,\\dotsc,\\lambda_n\\boldsymbol{u}_n]%\n",
    "=\\mathbf{U}\\mathbf{\\Lambda}$$"
   ]
  },
  {
   "attachments": {},
   "cell_type": "markdown",
   "metadata": {},
   "source": [
    "### 2.2.2 Descomposición propia\n",
    "\n",
    "Si los vectores propios son linealmente independientes, $\\mathbf{U}$ es invertible y $\\mathbf{A}$ **diagonalizable**, con **descomposición propia:**\n",
    "$$\\mathbf{A}=\\mathbf{U}\\mathbf{\\Lambda}\\mathbf{U}^{-1}$$"
   ]
  },
  {
   "cell_type": "markdown",
   "metadata": {},
   "source": [
    "<p style=\"page-break-after:always;\"></p>\n",
    "\n",
    "# 3 Matrices reales y simétricas"
   ]
  },
  {
   "attachments": {},
   "cell_type": "markdown",
   "metadata": {},
   "source": [
    "## 3.1 Valores y vectores propios de matrices reales y simétricas"
   ]
  },
  {
   "cell_type": "markdown",
   "metadata": {},
   "source": [
    "\n",
    "Sea $\\mathbf{A}\\in\\mathbb{R}^{n\\times n}$ una matriz **real y simétrica.**"
   ]
  },
  {
   "attachments": {},
   "cell_type": "markdown",
   "metadata": {},
   "source": [
    "### 3.1.1 Descomposición propia de una matriz real y simétrica\n",
    "\n",
    "**Valores propios de $\\mathbf{A}$:** $\\;$ reales, $\\mathbf{\\Lambda}=\\operatorname{diag}(\\lambda_1,\\dotsc,\\lambda_n)$, $\\lambda_i\\in\\mathbb{R}$\n",
    "\n",
    "**Vectores propios de $\\mathbf{A}$:** $\\;$ ortogonales dos a dos y normalizados, $\\boldsymbol{u}_i^t\\boldsymbol{u}_j=\\mathbb{I}(i=j)$, por lo que $\\mathbf{U}$ es ortogonal, $\\mathbf{U}^t\\mathbf{U}=\\mathbf{U}\\mathbf{U}^t=\\mathbf{I}$\n",
    "\n",
    "**Descomposición propia de $\\mathbf{A}$:** $\\;\\mathbf{A}=\\mathbf{U}\\mathbf{\\Lambda}\\mathbf{U}^t%\n",
    "=(\\boldsymbol{u}_1,\\dotsc,\\boldsymbol{u}_n)\\operatorname{diag}(\\lambda_1,\\dotsc,\\lambda_n)(\\boldsymbol{u}_1^t;\\dotsc;\\boldsymbol{u}_n^t)=\\sum_{i=1}^n\\lambda_i\\boldsymbol{u}_i\\boldsymbol{u}_i^t$\n",
    "\n",
    "**Inversa (si existe):** $\\;\\mathbf{A}^{-1}=\\mathbf{U}\\mathbf{\\Lambda}^{-1}\\mathbf{U}^t%\n",
    "=\\sum_{i=1}^n\\frac{1}{\\lambda_i}\\boldsymbol{u}_i\\boldsymbol{u}_i^t$"
   ]
  },
  {
   "attachments": {},
   "cell_type": "markdown",
   "metadata": {},
   "source": [
    "<p style=\"page-break-after:always;\"></p>\n",
    "\n",
    "**Ejercicio:** $\\;$ Halla la descomposición propia de $\\mathbf{\\Sigma}=\\begin{bmatrix}\\frac{5}{2} & \\frac{3}{2}\\\\[1mm]\\frac{3}{2} & \\frac{5}{2}\\end{bmatrix}$\n",
    "$$\\lvert{\\lambda\\mathbf{I}-\\mathbf{\\Sigma}}\\rvert=0%\n",
    "\\to\\left\\lvert\\lambda\\begin{bmatrix}1&0\\\\[1mm]0&1\\end{bmatrix}-\\begin{bmatrix}\\frac{5}{2} & \\frac{3}{2}\\\\[1mm]\\frac{3}{2} & \\frac{5}{2}\\end{bmatrix}\\right\\rvert%\n",
    "=\\left\\lvert\\begin{matrix}\\lambda-\\frac{5}{2} & -\\frac{3}{2}\\\\[1mm]-\\frac{3}{2} & \\lambda-\\frac{5}{2}\\end{matrix}\\right\\rvert=0$$\n",
    "$$\\to\\left(\\lambda-\\frac{5}{2}\\right)^2-\\frac{9}{4}=0\\to\\lambda^2-5\\lambda+4=0\\to\\left\\{\\begin{matrix}\\lambda_1=4\\\\[1mm]\\lambda_2=1\\end{matrix}\\right.$$\n",
    "$$\\mathbf{\\Sigma}\\boldsymbol{e}_1=\\lambda_1\\boldsymbol{e}_1\\to%\n",
    "\\boldsymbol{e}_1=\\begin{pmatrix}\\alpha\\\\[1mm]\\alpha\\end{pmatrix}\\xrightarrow{\\lVert{\\boldsymbol{e}_1}\\rVert=1}\\boldsymbol{e}_1=\\begin{bmatrix}\\frac{\\sqrt{2}}{2}\\\\[1mm]\\frac{\\sqrt{2}}{2}\\end{bmatrix}=\\begin{bmatrix}0.7071\\\\[1mm]0.7071\\end{bmatrix}$$\n",
    "$$\\mathbf{\\Sigma}\\boldsymbol{e}_2=\\lambda_2\\boldsymbol{e}_2\\to%\n",
    "\\boldsymbol{e}_2=\\begin{pmatrix}-\\alpha\\\\[1mm]\\alpha\\end{pmatrix}\\xrightarrow{\\lVert{\\boldsymbol{e}_1}\\rVert=1}\\boldsymbol{e}_2=\\begin{bmatrix}-\\frac{\\sqrt{2}}{2}\\\\[1mm]\\frac{\\sqrt{2}}{2}\\end{bmatrix}=\\begin{bmatrix}-0.7071\\\\[1mm]0.7071\\end{bmatrix}$$\n",
    "$$\\mathbf{\\Sigma}=\\mathbf{U}\\mathbf{\\Lambda}\\mathbf{U}^t%\n",
    "\\qquad \\mathbf{U}=[\\boldsymbol{e}_1,\\boldsymbol{e}_2] \\qquad \\mathbf{\\Lambda}=\\operatorname{diag}(\\lambda_1,\\lambda_2)$$"
   ]
  },
  {
   "attachments": {},
   "cell_type": "markdown",
   "metadata": {},
   "source": [
    "<p style=\"page-break-after:always;\"></p>\n",
    "\n",
    "**Ejercicio (cont.):** $\\;$ invierte $\\mathbf{\\Sigma}$\n",
    "$$\\begin{align*}\n",
    "\\mathbf{\\Sigma}^{-1}%\n",
    "&=[\\boldsymbol{u}_1,\\boldsymbol{u}_2]\\operatorname{diag}(1/\\lambda_1,1/\\lambda_2)%\n",
    "  \\begin{bmatrix}\\boldsymbol{u}_1^t\\\\[1mm]\\boldsymbol{u}_2^t\\end{bmatrix}\\\\%\n",
    "&=\\begin{bmatrix}\n",
    "\\frac{\\sqrt{2}}{2}&-\\frac{\\sqrt{2}}{2}\\\\[1mm]%\n",
    "\\frac{\\sqrt{2}}{2}& \\frac{\\sqrt{2}}{2}%\n",
    "\\end{bmatrix}%\n",
    "\\begin{bmatrix}1/4&0\\\\[1mm]0&1\\end{bmatrix}\n",
    "\\begin{bmatrix}\n",
    " \\frac{\\sqrt{2}}{2}&\\frac{\\sqrt{2}}{2}\\\\[1mm]%\n",
    "-\\frac{\\sqrt{2}}{2}&\\frac{\\sqrt{2}}{2}%\n",
    "\\end{bmatrix}%\\\\[1mm]%\n",
    "=\\begin{bmatrix}\n",
    "\\frac{\\sqrt{2}}{8}&-\\frac{\\sqrt{2}}{2}\\\\[1mm]%\n",
    "\\frac{\\sqrt{2}}{8}& \\frac{\\sqrt{2}}{2}%\n",
    "\\end{bmatrix}%\n",
    "\\begin{bmatrix}\n",
    " \\frac{\\sqrt{2}}{2}&\\frac{\\sqrt{2}}{2}\\\\[1mm]%\n",
    "-\\frac{\\sqrt{2}}{2}&\\frac{\\sqrt{2}}{2}%\n",
    "\\end{bmatrix}\\\\[5mm]%\n",
    "&=\\begin{bmatrix}\n",
    "\\frac{2}{16}+\\frac{2}{4}%\n",
    "&\\frac{2}{16}-\\frac{2}{4}\\\\[1mm]%\n",
    "\\frac{2}{16}-\\frac{2}{4}%\n",
    "&\\frac{2}{16}+\\frac{2}{4}%\n",
    "\\end{bmatrix}%\n",
    "=\\begin{bmatrix}\n",
    "\\frac{5}{8}&-\\frac{3}{8}\\\\%\n",
    "-\\frac{3}{8}&\\frac{5}{8}%\n",
    "\\end{bmatrix}%\n",
    "=\\begin{bmatrix}\n",
    "0.625&-0.375\\\\%\n",
    "-0.375&0.625%\n",
    "\\end{bmatrix}\n",
    "\\end{align*}$$"
   ]
  },
  {
   "cell_type": "code",
   "execution_count": 3,
   "metadata": {},
   "outputs": [
    {
     "name": "stdout",
     "output_type": "stream",
     "text": [
      "[4. 1.] \n",
      " [[ 0.70710678 -0.70710678]\n",
      " [ 0.70710678  0.70710678]] \n",
      " [[ 0.625 -0.375]\n",
      " [-0.375  0.625]]\n"
     ]
    }
   ],
   "source": [
    "import numpy as np\n",
    "S = np.array([[5/2, 3/2], [3/2, 5/2]])\n",
    "La, U = np.linalg.eigh(S)\n",
    "i = La.argsort()[::-1]; La = La[i]; U = U[:,i]\n",
    "I = U @ np.diag(1/La) @ U.T\n",
    "print(La, \"\\n\", U, \"\\n\", I)"
   ]
  },
  {
   "attachments": {},
   "cell_type": "markdown",
   "metadata": {},
   "source": [
    "<p style=\"page-break-after:always;\"></p>\n",
    "\n",
    "### 3.1.2 Comprobación de definición positiva\n",
    "\n",
    "Consideremos la forma cuadrática asociada a $\\mathbf{A}$:\n",
    "$$f(\\boldsymbol{x})=\\boldsymbol{x}^t\\mathbf{A}\\boldsymbol{x}%\n",
    "=\\boldsymbol{x}^t\\mathbf{U}\\mathbf{\\Lambda}\\mathbf{U}^t\\boldsymbol{x}%\n",
    "\\overset{\\boldsymbol{y}=\\mathbf{U}^t\\boldsymbol{x}}{=}\\boldsymbol{y}^t\\mathbf{\\Lambda}\\boldsymbol{y}%\n",
    "=\\sum_{i=1}^n\\lambda_i y_i^2$$\n",
    "Como $y_i^2\\geq 0$, el signo solo depende de los $\\lambda_i$:\n",
    "\n",
    "* $\\mathbf{A}$ es **definida positiva** sii $\\lambda_i>0$ para todo $i$\n",
    "* $\\mathbf{A}$ es **semidefinida positiva** sii $\\lambda_i\\geq 0$ para todo $i$\n",
    "* $\\mathbf{A}$ es **definida negativa** sii $\\lambda_i<0$ para todo $i$\n",
    "* $\\mathbf{A}$ es **semidefinida negativa** sii $\\lambda_i\\leq 0$ para todo $i$\n",
    "* $\\mathbf{A}$ es **indefinida** sii tiene $\\lambda_i$ positivos y negativos"
   ]
  },
  {
   "attachments": {},
   "cell_type": "markdown",
   "metadata": {},
   "source": [
    "<p style=\"page-break-after:always;\"></p>\n",
    "\n",
    "## 3.2 Geometría de las formas cuadráticas"
   ]
  },
  {
   "cell_type": "markdown",
   "metadata": {},
   "source": [
    "\n",
    "**Matriz de covarianzas:** $\\;$ $\\mathbf{\\Sigma}$ real, simétrica y semi-definida positiva $\\;$ sii $\\;\\mathbf{\\Sigma}$ es matriz de covarianzas\n",
    "\n",
    "**Valores propios de $\\mathbf{\\Sigma}$:** $\\;$ no negativos\n",
    "\n",
    "**Valores propios de $\\mathbf{\\Sigma}$ definida positiva:** $\\;$ positivos, ninguno nulo; $\\mathbf{\\Sigma}^{-1}$ existe y es definida positiva\n",
    "\n",
    "**Forma cuadrática asociada a $\\mathbf{\\Sigma}^{-1}$ definida positiva:** $\\;$ distancia de Mahalanobis (al cuadrado)\n",
    "$$f(\\boldsymbol{x})=\\boldsymbol{x}^t\\mathbf{\\Sigma}^{-1}\\boldsymbol{x}%\n",
    "=\\boldsymbol{x}^t\\mathbf{U}\\mathbf{\\Lambda}\\mathbf{U}^t\\boldsymbol{x}%\n",
    "\\overset{\\boldsymbol{y}=\\mathbf{U}^t\\boldsymbol{x}}{=}\\boldsymbol{y}^t\\mathbf{\\Lambda}\\boldsymbol{y}%\n",
    "=\\sum_{i=1}^n\\lambda_i y_i^2$$\n",
    "Los conjuntos de nivel de $f(\\boldsymbol{x})$ son hiperelipsoides; elipses en 2d."
   ]
  },
  {
   "attachments": {},
   "cell_type": "markdown",
   "metadata": {},
   "source": [
    "<p style=\"page-break-after:always;\"></p>\n",
    "\n",
    "**Ejemplo:** $\\;$ distancia de Mahalanobis al origen (al cuadrado) con $\\mathbf{\\Sigma}=\\begin{bmatrix}\\frac{5}{2} & \\frac{3}{2}\\\\[1mm]\\frac{3}{2} & \\frac{5}{2}\\end{bmatrix}$"
   ]
  },
  {
   "cell_type": "code",
   "execution_count": 4,
   "metadata": {},
   "outputs": [
    {
     "name": "stdout",
     "output_type": "stream",
     "text": [
      "[4. 1.] \n",
      " [[ 0.70710678 -0.70710678]\n",
      " [ 0.70710678  0.70710678]] \n",
      " [[ 0.625 -0.375]\n",
      " [-0.375  0.625]]\n"
     ]
    },
    {
     "data": {
      "image/png": "[encoded data removed]",
      "text/plain": [
       "<Figure size 400x400 with 2 Axes>"
      ]
     },
     "metadata": {},
     "output_type": "display_data"
    }
   ],
   "source": [
    "import numpy as np; import matplotlib.pyplot as plt\n",
    "S = np.array([[5/2, 3/2], [3/2, 5/2]])\n",
    "La, U = np.linalg.eigh(S); i = La.argsort()[::-1]; La = La[i]; U = U[:,i]\n",
    "I = U @ np.diag(1/La) @ U.T; print(La, \"\\n\", U, \"\\n\", I); x_min = y_min = -2.2; x_max = y_max = 2.2\n",
    "X, Y = np.meshgrid(np.linspace(x_min, x_max, num=64), np.linspace(y_min, y_max, num=64))\n",
    "XY = np.c_[np.ravel(X), np.ravel(Y)]; d = lambda xy: xy.T @ I @ xy; D = np.apply_along_axis(d, 1, XY)\n",
    "fig, ax = plt.subplots(figsize=(4, 4))\n",
    "ax.set(aspect='equal', xlim=(x_min, x_max), ylim=(y_min, y_max))\n",
    "ax.grid(); ax.axhline(0, color='black'); ax.axvline(0, color='black')\n",
    "ax.contour(X, Y, D.reshape(X.shape), 10, colors='orange', linestyles='solid')\n",
    "cp = ax.contourf(X, Y, D.reshape(X.shape), 10, cmap=\"Greys\")\n",
    "plt.colorbar(cp, ax=ax, shrink=0.8);"
   ]
  },
  {
   "cell_type": "markdown",
   "metadata": {},
   "source": [
    "<p style=\"page-break-after:always;\"></p>\n",
    "\n",
    "# 4 Reducción de la dimensión"
   ]
  },
  {
   "cell_type": "markdown",
   "metadata": {},
   "source": [
    "## 4.1 Análisis de componentes principales (PCA)"
   ]
  },
  {
   "cell_type": "markdown",
   "metadata": {},
   "source": [
    "**Maldición de la dimensionalidad:** $\\;$ muchas técnicas de aprendizaje automático empeoran sensiblemente con datos de alta dimensión\n",
    "\n",
    "**Reducción de la dimensión:** $\\;$ dada una matriz de $N$ datos en un espacio de alta dimensión, $\\,\\mathbb{R}^D,\\,$ queremos aprender (no supervisadamente) una transformación de $\\,\\mathbb{R}^D\\,$ en un espacio de dimensión reducida, $\\,\\mathbb{R}^K, K\\ll D,\\,$ que produzca una \"buena aproximación\" de los datos originales\n",
    "\n",
    "**Codificación:** $\\;$ operación de reducción de la dimensión, $\\,\\operatorname{encode}(\\boldsymbol{x})=\\boldsymbol{z},\\,\\boldsymbol{x}\\in\\mathbb{R}^D\\,$ y $\\,\\boldsymbol{z}\\in\\mathbb{R}^K$\n",
    "\n",
    "**Decodificación:** $\\;$ operación de reconstrucción del dato original, $\\,\\operatorname{decode}(\\boldsymbol{z})=\\hat{\\boldsymbol{x}},\\,\\hat{\\boldsymbol{x}}\\in\\mathbb{R}^D\\,$ y $\\,\\boldsymbol{z}\\in\\mathbb{R}^K$\n",
    "\n",
    "**PCA:** $\\;$ escoge una proyección lineal ortogonal $\\,\\mathbf{W}\\in\\mathbb{R}^{D\\times K}\\,$ de mínima **distorsión o error de reconstrucción**\n",
    "$$\\mathcal{L}(\\mathbf{W})=\\frac{1}{N}\\sum_n\\lVert\\boldsymbol{x}_n-\\operatorname{decode}(\\operatorname{encode}(\\boldsymbol{x}_n))\\rVert_2^2%\n",
    "\\qquad\\text{con}\\quad%\n",
    "\\operatorname{encode}(\\boldsymbol{x})=\\mathbf{W}^t\\boldsymbol{x}%\n",
    "\\quad\\text{y}\\quad%\n",
    "\\operatorname{decode}(\\boldsymbol{z})=\\mathbf{W}\\boldsymbol{z}$$\n",
    "\n",
    "<p style=\"page-break-after:always;\"></p>\n",
    "\n",
    "**Ejemplo:** $\\;$ conjunto de $N=4$ bidimensionales que queremos reducir a unidimensionales con mínima distorsión"
   ]
  },
  {
   "cell_type": "code",
   "execution_count": 1,
   "metadata": {},
   "outputs": [
    {
     "data": {
      "image/png": "[encoded data removed]",
      "text/plain": [
       "<Figure size 300x300 with 1 Axes>"
      ]
     },
     "metadata": {},
     "output_type": "display_data"
    }
   ],
   "source": [
    "import numpy as np; import matplotlib.pyplot as plt\n",
    "X = np.array([ [-1, -1], [0, 2], [2, 0], [3, 3] ]); N = len(X); fig, ax = plt.subplots(figsize=(3, 3))\n",
    "ax.set_aspect(\"equal\"); plt.axis([-1.5, 3.5, -1.5, 3.5]); plt.grid(True)\n",
    "plt.scatter(*X.T, facecolor='white', edgecolor='k', s=100);"
   ]
  },
  {
   "cell_type": "markdown",
   "metadata": {},
   "source": [
    "<p style=\"page-break-after:always;\"></p>\n",
    "\n",
    "**Ejercicio:** $\\;$ codifica, decodifica y halla la distorsión de los datos del ejemplo con $\\mathbf{W}=(1, 0)^t$\n",
    "$$\\begin{align*}\n",
    "\\boldsymbol{x}_1&=(-1,-1)^t&\\boldsymbol{x}_2&=(0,2)^t&\\boldsymbol{x}_3&=(2,0)^t&\\boldsymbol{x}_4&=(3,3)^t\\\\\n",
    "z_1&=\\mathbf{W}^t\\boldsymbol{x}_1=-1&z_2&=0&z_3&=2&z_4&=3\\\\\n",
    "\\hat{\\boldsymbol{x}}_1&=\\mathbf{W}z_1=(-1,0)^t&\\hat{\\boldsymbol{x}}_2&=(0,0)^t&\\hat{\\boldsymbol{x}}_3&=(2,0)^t&\\hat{\\boldsymbol{x}}_4&=(3,0)^t\n",
    "\\end{align*}$$\n",
    "$$\\mathcal{L}(\\mathbf{W})=\\frac{1}{4}\\left(\\lVert\\boldsymbol{x}_1-\\hat{\\boldsymbol{x}}_1\\rVert_2^2+\\lVert\\boldsymbol{x}_2-\\hat{\\boldsymbol{x}}_2\\rVert_2^2+\\lVert\\boldsymbol{x}_3-\\hat{\\boldsymbol{x}}_3\\rVert_2^2+\\lVert\\boldsymbol{x}_4-\\hat{\\boldsymbol{x}}_4\\rVert_2^2\\right)%\n",
    "=\\frac{1}{4}\\left(1+4+0+9\\right)=\\frac{14}{4}=3.5$$"
   ]
  },
  {
   "cell_type": "code",
   "execution_count": 2,
   "metadata": {},
   "outputs": [
    {
     "data": {
      "image/png": "[encoded data removed]",
      "text/plain": [
       "<Figure size 300x300 with 1 Axes>"
      ]
     },
     "metadata": {},
     "output_type": "display_data"
    }
   ],
   "source": [
    "import numpy as np; import matplotlib.pyplot as plt; from matplotlib.collections import LineCollection\n",
    "X = np.array([ [-1, -1], [0, 2], [2, 0], [3, 3] ]); N = len(X); fig, ax = plt.subplots(figsize=(3, 3))\n",
    "ax.set_aspect(\"equal\"); plt.axis([-1.5, 3.5, -1.5, 3.5]); plt.grid(True)\n",
    "plt.scatter(*X.T, facecolor='white', edgecolor='k', s=100)\n",
    "K = 1; W = np.array([1, 0]).reshape(-1, K); Z = (X @ W).reshape(-1, K); hX = Z @ W.T\n",
    "L = np.square(X - hX).sum(axis=1).mean(); ax.set_title(f'$L(W)={L}$')\n",
    "plt.scatter(*hX.T, facecolor='black', s=100, marker='x')\n",
    "lines = np.zeros((N, 2, 2)); lines[:, 0, :] = X; lines[:, 1, :] = hX\n",
    "ax.add_collection(LineCollection(lines, linewidths=2, colors='black', linestyle='dotted'));"
   ]
  },
  {
   "cell_type": "markdown",
   "metadata": {},
   "source": [
    "<p style=\"page-break-after:always;\"></p>\n",
    "\n",
    "**Ejercicio:** $\\;$ codifica, decodifica y halla la distorsión de los datos del ejemplo con $\\mathbf{W}=(\\sqrt{2}/2, \\sqrt{2}/2)^t$\n",
    "$$\\begin{align*}\n",
    "\\boldsymbol{x}_1&=(-1,-1)^t&\\boldsymbol{x}_2&=(0,2)^t&\\boldsymbol{x}_3&=(2,0)^t&\\boldsymbol{x}_4&=(3,3)^t\\\\\n",
    "z_1&=\\mathbf{W}^t\\boldsymbol{x}_1=-\\sqrt{2}&z_2&=\\sqrt{2}&z_3&=\\sqrt{2}&z_4&=3\\sqrt{2}\\\\\n",
    "\\hat{\\boldsymbol{x}}_1&=\\mathbf{W}z_1=(-1,-1)^t&\\hat{\\boldsymbol{x}}_2&=(1,1)^t&\\hat{\\boldsymbol{x}}_3&=(1,1)^t&\\hat{\\boldsymbol{x}}_4&=(3,3)^t\n",
    "\\end{align*}$$\n",
    "$$\\mathcal{L}(\\mathbf{W})=\\frac{1}{4}\\left(\\lVert\\boldsymbol{x}_1-\\hat{\\boldsymbol{x}}_1\\rVert_2^2+\\lVert\\boldsymbol{x}_2-\\hat{\\boldsymbol{x}}_2\\rVert_2^2+\\lVert\\boldsymbol{x}_3-\\hat{\\boldsymbol{x}}_3\\rVert_2^2+\\lVert\\boldsymbol{x}_4-\\hat{\\boldsymbol{x}}_4\\rVert_2^2\\right)%\n",
    "=\\frac{1}{4}\\left(0+2+2+0\\right)=1$$"
   ]
  },
  {
   "cell_type": "code",
   "execution_count": 3,
   "metadata": {},
   "outputs": [
    {
     "data": {
      "image/png": "[encoded data removed]",
      "text/plain": [
       "<Figure size 300x300 with 1 Axes>"
      ]
     },
     "metadata": {},
     "output_type": "display_data"
    }
   ],
   "source": [
    "import numpy as np; import matplotlib.pyplot as plt; from matplotlib.collections import LineCollection\n",
    "X = np.array([ [-1, -1], [0, 2], [2, 0], [3, 3] ]); N = len(X); fig, ax = plt.subplots(figsize=(3, 3))\n",
    "ax.set_aspect(\"equal\"); plt.axis([-1.5, 3.5, -1.5, 3.5]); plt.grid(True)\n",
    "plt.scatter(*X.T, facecolor='white', edgecolor='k', s=100)\n",
    "K = 1; W = np.array([np.sqrt(2)/2, np.sqrt(2)/2]).reshape(-1, K); Z = (X @ W).reshape(-1, K); hX = Z @ W.T\n",
    "L = np.square(X - hX).sum(axis=1).mean(); ax.set_title(f'$L(W)={L}$')\n",
    "plt.scatter(*hX.T, facecolor='black', s=100, marker='x')\n",
    "lines = np.zeros((N, 2, 2)); lines[:, 0, :] = X; lines[:, 1, :] = hX\n",
    "ax.add_collection(LineCollection(lines, linewidths=2, colors='black', linestyle='dotted'));"
   ]
  },
  {
   "cell_type": "markdown",
   "metadata": {},
   "source": [
    "<p style=\"page-break-after:always;\"></p>\n",
    "\n",
    "**Cálculo de componentes principales:** $\\;$ columnas de la proyección lineal ortogonal $\\,\\mathbf{W}\\in\\mathbb{R}^{D\\times K}\\,$ de mínima distorsión\n",
    "* **Descomposición propia de la matriz de covarianzas empírica ordenada por $\\lambda\\text{s}$ en orden no creciente**\n",
    "$$\\mathbf{\\Sigma}=\\mathbf{U}\\boldsymbol{\\Lambda}\\mathbf{U}^t\\quad\\text{donde}\\quad\\mathbf{U}=(\\boldsymbol{u}_1,\\dotsc,\\boldsymbol{u}_D)\\quad\\text{y}\\quad\\mathbf{\\Lambda}=\\operatorname{diag}(\\lambda_1,\\dotsc,\\lambda_n)\\quad\\text{con}\\quad\\lambda_1\\geq\\lambda_2\\geq\\cdots\\geq\\lambda_D$$\n",
    "* **Minimizar la distorsión equivale a maximizar la varianza (de los datos proyectados)**\n",
    "    * $\\boldsymbol{u}_1$ es una dirección de proyección óptima para maximizar la varianza de los datos proyectados, siendo $\\lambda_1$ dicha varianza\n",
    "    * Entre todas las direcciones ortonormales a $\\boldsymbol{u}_1$, $\\boldsymbol{u}_2$ y $\\lambda_2$ son dirección óptima de proyección y varianza correspondiente\n",
    "    * Y así, sucesivamente, hasta $\\boldsymbol{u}_K$ y $\\lambda_K$\n",
    "* **Proyección lineal ortogonal en $\\,\\mathbb{R}^K\\,$ de mínima distorsión o máxima varianza retenida**\n",
    "$$\\mathbf{W}_{\\text{pca}}=(\\boldsymbol{u}_1,\\dotsc,\\boldsymbol{u}_K)\\in\\mathbb{R}^{D\\times K}$$"
   ]
  },
  {
   "cell_type": "markdown",
   "metadata": {},
   "source": [
    "**Ejercicio:** $\\;$ calcula $\\,\\mathbf{W}_{\\text{pca}}\\,$ con los datos del ejemplo\n",
    "\n",
    "* **Matriz de covarianzas empírica:** $\\;$ normalización de la matriz de dispersión, $\\,\\mathbf{\\Sigma}=\\begin{bmatrix}\\frac{5}{2} & \\frac{3}{2}\\\\[1mm]\\frac{3}{2} & \\frac{5}{2}\\end{bmatrix}$\n",
    "* **Primera componente principal:** $\\;\\mathbf{W}_{\\text{pca}}=\\boldsymbol{u}_1=(\\sqrt{2}/2, \\sqrt{2}/2)^t$"
   ]
  },
  {
   "cell_type": "code",
   "execution_count": 4,
   "metadata": {},
   "outputs": [
    {
     "name": "stdout",
     "output_type": "stream",
     "text": [
      "[0.70710678 0.70710678]\n"
     ]
    }
   ],
   "source": [
    "import numpy as np; X = np.array([ [-1, -1], [0, 2], [2, 0], [3, 3] ]); S = np.cov(X.T, bias=True)\n",
    "La, U = np.linalg.eigh(S); i = La.argsort()[::-1]; La = La[i]; U = U[:,i]; print(U[:, 0])"
   ]
  },
  {
   "cell_type": "markdown",
   "metadata": {},
   "source": [
    "<p style=\"page-break-after:always;\"></p>\n",
    "\n",
    "**Centrado previo de datos:** $\\;$ se suele hacer, aunque $\\mathbf{\\Sigma}$ (PCA) es invariante a traslaciones de los datos\n",
    "\n",
    "**Elección de $K$:** $\\;$ si se tiene $\\mathbf{\\Lambda}$, puede escogerse el menor $K$ que explique un cierto porcentaje (p.e. $90\\%$) de la varianza total al menos\n",
    "$$q_K=\\frac{1}{\\operatorname{tr}(\\mathbf{\\Sigma})}\\sum_{k=1}^K\\lambda_k%\n",
    "\\quad\\text{con}\\quad%\n",
    "\\operatorname{tr}(\\mathbf{\\Sigma})=\\sum_{d=1}^D\\lambda_d$$\n",
    "\n",
    "**Ejercicio:** $\\;$ halla la calidad de la proyección óptima del ejemplo\n",
    "* **Valores propios de $\\mathbf{\\Sigma}$:** $\\quad\\lambda_1=4\\,$ y $\\,\\lambda_2=1$\n",
    "* **Calidad de la proyección:** $\\quad q_1=4/5=80\\%$"
   ]
  },
  {
   "cell_type": "markdown",
   "metadata": {},
   "source": [
    "<p style=\"page-break-after:always;\"></p>\n",
    "\n",
    "# 5 Descomposición en valores singulares (SVD)"
   ]
  },
  {
   "attachments": {},
   "cell_type": "markdown",
   "metadata": {},
   "source": [
    "## 5.1 Conceptos básicos"
   ]
  },
  {
   "attachments": {},
   "cell_type": "markdown",
   "metadata": {},
   "source": [
    "**Singular value decomposition:** $\\;$ generaliza la EVD a matrices rectangulares, del tipo $\\mathbf{A}\\in\\mathbf{R}^{m\\times n}$\n",
    "$$\\mathbf{A}=\\mathbf{U}\\mathbf{S}\\mathbf{V}^t%\n",
    "=\\sigma_1\\boldsymbol{u}_1\\boldsymbol{v}_1^t+\\cdots+\\sigma_r\\boldsymbol{u}_r\\boldsymbol{v}_r^t$$\n",
    "\n",
    "**Vectores singulares izquierdos:** $\\;\\mathbf{U}\\in\\mathbf{R}^{m\\times m}$, de columnas ortonormales, $\\mathbf{U}^t\\mathbf{U}=\\mathbf{I}$\n",
    "\n",
    "**Valores singulares:** $\\;\\mathbf{S}\\in\\mathbf{R}^{m\\times n}$ con $r=\\min(m, n)$ valores $\\sigma_i\\geq 0$ en su diagonal; ceros fuera\n",
    "\n",
    "**Vectores singulares derechos:** $\\;\\mathbf{V}\\in\\mathbf{R}^{n\\times n}$, de filas y columnas ortonormales, $\\mathbf{V}^t\\mathbf{V}=\\mathbf{V}\\mathbf{V}^t=\\mathbf{I}$\n",
    "\n",
    "**Economy sized o thin SVD:** $\\;$ ignora partes sombreadas\n",
    "\n",
    "|  $m>n $                     |  $m<n$                          |\n",
    "| --------------------------- | ------------------------------- |\n",
    "| <img src=\"Figure_7.8_A.png\" width=\"450\"/> | <img src=\"Figure_7.8_B.png\" width=\"450\"/> |"
   ]
  },
  {
   "attachments": {},
   "cell_type": "markdown",
   "metadata": {},
   "source": [
    "<p style=\"page-break-after:always;\"></p>\n",
    "\n",
    "## 5.2 Conexión entre la SVD y la EVD"
   ]
  },
  {
   "cell_type": "markdown",
   "metadata": {},
   "source": [
    "### 5.2.1 Matriz cuadrada real, simétrica y definida positiva\n",
    "\n",
    "Sea $\\mathbf{A}\\in\\mathbb{R}^{n\\times n}$ real, simétrica y definida positiva, con EVD $\\,\\mathbf{A}=\\mathbf{E}\\mathbf{\\Lambda}\\mathbf{E}^t\\,$ y $\\,$ SVD $\\,\\mathbf{A}=\\mathbf{U}\\mathbf{S}\\mathbf{V}^t$\n",
    "\n",
    "**Valores singulares igual a propios:** $\\;\\mathbf{S}=\\mathbf{\\Lambda}$\n",
    "\n",
    "**Vectores singulares izquierdos y derechos igual a propios (salvo cambios de signo):** $\\;\\mathbf{U}=\\mathbf{V}=\\mathbf{E}$"
   ]
  },
  {
   "cell_type": "code",
   "execution_count": 1,
   "metadata": {},
   "outputs": [
    {
     "name": "stdout",
     "output_type": "stream",
     "text": [
      "EVD:\n",
      " [4. 1.] \n",
      " [[ 0.70710678 -0.70710678]\n",
      " [ 0.70710678  0.70710678]] \n",
      "\n",
      "SVD:\n",
      " [[-0.70710678 -0.70710678]\n",
      " [-0.70710678  0.70710678]] \n",
      " [4. 1.] \n",
      " [[-0.70710678 -0.70710678]\n",
      " [-0.70710678  0.70710678]]\n"
     ]
    }
   ],
   "source": [
    "import numpy as np; X = np.array([ [-1, -1], [0, 2], [2, 0], [3, 3] ]); A = np.cov(X.T, bias=True)\n",
    "L, E = np.linalg.eigh(A); i = L.argsort()[::-1]; L = L[i]; E = E[:,i]; print(\"EVD:\\n\", L, \"\\n\", E, \"\\n\")\n",
    "U, S, Vt = np.linalg.svd(A) # np devuelve valores singulares en orden no creciente\n",
    "print(\"SVD:\\n\", U, \"\\n\", S, \"\\n\", Vt)"
   ]
  },
  {
   "cell_type": "markdown",
   "metadata": {},
   "source": [
    "<p style=\"page-break-after:always;\"></p>\n",
    "\n",
    "### 5.2.2 Matriz real arbitraria\n",
    "\n",
    "Sea $\\mathbf{A}\\in\\mathbb{R}^{m\\times n}$ real con SVD $\\;\\mathbf{A}=\\mathbf{U}\\mathbf{S}\\mathbf{V}^t$\n",
    "\n",
    "**Vectores y valores propios de $\\mathbf{A}^t\\mathbf{A}$:** $\\;\\mathbf{V}\\;$ y $\\;\\mathbf{D}_n=\\mathbf{S}^t\\mathbf{S}$\n",
    "$$\\mathbf{A}^t\\mathbf{A}=\\mathbf{V}\\mathbf{S}^t\\mathbf{U}^t\\mathbf{U}\\mathbf{S}\\mathbf{V}^t=\\mathbf{V}(\\mathbf{S}^t\\mathbf{S})\\mathbf{V}^t\\;\\Rightarrow\\;(\\mathbf{A}^t\\mathbf{A})\\mathbf{V}=\\mathbf{V}\\mathbf{D}_n$$\n",
    "\n",
    "**Vectores y valores propios de $\\mathbf{A}\\mathbf{A}^t$:** $\\;\\mathbf{U}\\;$ y $\\;\\mathbf{D}_m=\\mathbf{S}\\mathbf{S}^t$\n",
    "$$\\mathbf{A}\\mathbf{A}^t=\\mathbf{U}\\mathbf{S}\\mathbf{V}^t\\mathbf{V}\\mathbf{S}^t\\mathbf{U}^t=\\mathbf{U}(\\mathbf{S}\\mathbf{S}^t)\\mathbf{U}^t\\;\\Rightarrow\\;(\\mathbf{A}\\mathbf{A}^t)\\mathbf{U}=\\mathbf{U}\\mathbf{D}_m$$\n",
    "\n",
    "**Thin SVD:** $\\;\\mathbf{S}\\in\\mathbb{R}^{r\\times r}\\;$ con $r=\\min(m, n),\\;$ por lo que $\\;\\mathbf{D}=\\mathbf{S}^2=\\mathbf{S}^t\\mathbf{S}=\\mathbf{S}\\mathbf{S}^t$\n",
    "\n",
    "**Existencia de la SVD:** $\\;$ la EVD no siempre existe (incluso con $\\mathbf{A}$ cuadrada); $\\;$ la SVD sí"
   ]
  },
  {
   "attachments": {},
   "cell_type": "markdown",
   "metadata": {},
   "source": [
    "<p style=\"page-break-after:always;\"></p>\n",
    "\n",
    "## 5.3 SVD truncada"
   ]
  },
  {
   "cell_type": "markdown",
   "metadata": {},
   "source": [
    "### 5.3.1 SVD truncada\n",
    "\n",
    "**SVD $K$-truncada:** $\\;\\mathbf{\\hat{A}}_K=\\mathbf{U}_K\\mathbf{S}_K\\mathbf{V}_K^t,\\,$ aproximación de rango $K$ de $\\mathbf{A}\\in\\mathbb{R}^{m\\times n}$ construida a partir de sus $K$ mayores valores singulares, junto con sus $K$ vectores singulares asociados, izquierdos y derechos\n",
    "\n",
    "**Optimalidad de la SVD $K$-truncada:** $\\;\\mathbf{\\hat{A}}_K\\,$ es la mejor aproximación de $\\mathbf{A}$ en norma Frobenius (al cuadrado), $\\,\\lVert\\mathbf{A}-\\mathbf{\\hat{A}}_K\\rVert_F^2$"
   ]
  },
  {
   "attachments": {},
   "cell_type": "markdown",
   "metadata": {},
   "source": [
    "<p style=\"page-break-after:always;\"></p>\n",
    "\n",
    "### 5.3.2 PCA con la SVD\n",
    "\n",
    "Sea $\\mathbf{X}\\in\\mathbb{R}^{N\\times D}$ una matriz de datos **centrada** de matriz de covarianzas empírica $\\mathbf{\\Sigma}=\\frac{1}{N}\\mathbf{X}^t\\mathbf{X}\\,$ (simétrica y semi-definida positiva) \n",
    "\n",
    "**SVD $K$-truncada de $\\mathbf{X}$:** $\\quad\\mathbf{\\hat{X}}_K=\\mathbf{U}_K\\mathbf{S}_K\\mathbf{V}_K^t$\n",
    "\n",
    "**SVD $K$-truncada de $\\mathbf{\\Sigma}$:** $\\quad\\mathbf{\\hat{\\Sigma}}_K=\\mathbf{E}_K\\boldsymbol{\\Lambda}_K\\mathbf{E}_K^t\\;$ con $\\;\\mathbf{E}_K=\\mathbf{V}_K\\;$ y $\\;\\boldsymbol{\\Lambda}_K=\\frac{1}{N}\\mathbf{S}_K^2$\n",
    "\n",
    "**PCA de $\\mathbf{X}$ con la SVD:** $\\quad\\operatorname{PCA}(\\mathbf{X})=\\mathbf{X}\\mathbf{E}_K\\approx\\mathbf{U}_K\\mathbf{S}_K\\mathbf{V}_K^t\\mathbf{V}_K=\\mathbf{U}_K\\mathbf{S}_K\\quad$ no requiere $\\mathbf{\\Sigma}$\n",
    "\n",
    "**Reconstrucción de $\\mathbf{X}$ tras PCA:**  $\\quad\\mathbf{\\hat{X}}_K=\\operatorname{PCA}(\\mathbf{X})\\mathbf{V}_K^t$\n"
   ]
  },
  {
   "cell_type": "code",
   "execution_count": 1,
   "metadata": {},
   "outputs": [
    {
     "name": "stdout",
     "output_type": "stream",
     "text": [
      "Datos centrados:\n",
      " [[-2. -2.]\n",
      " [-1.  1.]\n",
      " [ 1. -1.]\n",
      " [ 2.  2.]] \n",
      "Componente principal 1:\n",
      " [0.70710678 0.70710678] \n",
      "Datos reducidos:\n",
      " [-2.82842712e+00  4.31373875e-16 -3.41684101e-17  2.82842712e+00]\n",
      "Datos reconstruidos:\n",
      " [[-2.00000000e+00 -2.00000000e+00]\n",
      " [ 3.05027392e-16  3.05027392e-16]\n",
      " [-2.41607145e-17 -2.41607145e-17]\n",
      " [ 2.00000000e+00  2.00000000e+00]]\n"
     ]
    }
   ],
   "source": [
    "import numpy as np; X = np.array([ [-1, -1], [0, 2], [2, 0], [3, 3] ]); X = X - np.mean(X, axis=0)\n",
    "U, S, Vt = np.linalg.svd(X); Xr = U[:, 0] * S[0]\n",
    "print(\"Datos centrados:\\n\", X, \"\\nComponente principal 1:\\n\", Vt[:, 0], \"\\nDatos reducidos:\\n\", Xr)\n",
    "print(\"Datos reconstruidos:\\n\", Xr.reshape(-1, 1) @ Vt[0, :].reshape(1, -1))"
   ]
  },
  {
   "cell_type": "markdown",
   "metadata": {},
   "source": [
    "<p style=\"page-break-after:always;\"></p>\n",
    "\n",
    "# 6 Cálculo matricial"
   ]
  },
  {
   "cell_type": "markdown",
   "metadata": {},
   "source": [
    "## 6.1 Preliminares"
   ]
  },
  {
   "cell_type": "markdown",
   "metadata": {},
   "source": [
    "\n",
    "**Cálculo vectorial:** $\\;$ análisis real multivariable de vectores en dos o más dimensiones\n",
    "\n",
    "**Cálculo matricial:** $\\;$ notación especializada para manejar derivadas parciales de una única función con respecto a muchas variables, o de una función multivariable con respecto a una única variable\n",
    "\n",
    "**Referencia:** $\\;$ [cálculo matricial en Wikipedia](https://en.wikipedia.org/wiki/Matrix_calculus)"
   ]
  },
  {
   "cell_type": "markdown",
   "metadata": {},
   "source": [
    "<p style=\"page-break-after:always;\"></p>\n",
    "\n",
    "### 6.1.1 Formato numerador o Jacobiana\n",
    "\n",
    "**Formato numerador o Jacobiana:** $\\;$ primero el formato del numerador y luego el del denominador transpuesto, **si puede acodomarse en una matriz**\n",
    "\n",
    "$$\\small\\begin{array}{clll}\n",
    "\\text{Tipos}&\n",
    "\\text{Escalar}\\,y\\in\\mathbb{R}^{1\\times 1}&\n",
    "\\text{Vector}\\,\\boldsymbol{y}\\in\\mathbb{R}^{m\\times 1}&\n",
    "\\text{Matriz}\\,\\mathbf{Y}\\in\\mathbb{R}^{m\\times n}\\\\\\hline\n",
    "x\\in\\mathbb{R}^{1\\times 1}&\n",
    "\\dfrac{\\partial y}{\\partial x}&\n",
    "\\dfrac{\\partial\\boldsymbol{y}}{\\partial x}=\\begin{bmatrix}\\dfrac{\\partial y_1}{\\partial x}\\\\[1mm]\\vdots\\\\\\dfrac{\\partial y_m}{\\partial x}\\end{bmatrix}&\n",
    "\\dfrac{\\partial\\mathbf{Y}}{\\partial x}=\\begin{bmatrix}\\dfrac{\\partial y_{11}}{\\partial x}&\\cdots&\\dfrac{\\partial y_{1n}}{\\partial x}\\\\[1mm]\\vdots&\\ddots&\\vdots\\\\\\dfrac{\\partial y_{m1}}{\\partial x}&\\cdots&\\dfrac{\\partial y_{mn}}{\\partial x}\\end{bmatrix}\\\\\n",
    "\\boldsymbol{x}\\in\\mathbb{R}^{n\\times 1}&\n",
    "\\dfrac{\\partial y}{\\partial\\boldsymbol{x}}=\\begin{bmatrix}\\dfrac{\\partial y}{\\partial x_1}&\\cdots&\\dfrac{\\partial y}{\\partial x_n}\\end{bmatrix}&\n",
    "\\dfrac{\\partial\\boldsymbol{y}}{\\partial\\boldsymbol{x}}=\\begin{bmatrix}\\dfrac{\\partial y_1}{\\partial\\boldsymbol{x}}\\\\[1mm]\\vdots\\\\\\dfrac{\\partial y_m}{\\partial\\boldsymbol{x}}\\end{bmatrix}=\\begin{bmatrix}\\dfrac{\\partial y_1}{\\partial x_1}&\\cdots&\\dfrac{\\partial y_1}{\\partial x_n}\\\\[1mm]\\vdots&\\ddots&\\vdots\\\\\\dfrac{\\partial y_m}{\\partial x_1}&\\cdots&\\dfrac{\\partial y_m}{\\partial x_n}\\end{bmatrix}&\n",
    "\\dfrac{\\partial\\mathbf{Y}}{\\partial\\boldsymbol{x}}=\\begin{bmatrix}\\dfrac{\\partial y_{11}}{\\partial\\boldsymbol{x}}&\\cdots&\\dfrac{\\partial y_{1n}}{\\partial\\boldsymbol{x}}\\\\[1mm]\\vdots&\\ddots&\\vdots\\\\\\dfrac{\\partial y_{m1}}{\\partial\\boldsymbol{x}}&\\cdots&\\dfrac{\\partial y_{mn}}{\\partial\\boldsymbol{x}}\\end{bmatrix}\\text{3-tensor}\\\\\n",
    "\\mathbf{X}\\in\\mathbb{R}^{p\\times q}&\n",
    "\\dfrac{\\partial y}{\\partial\\mathbf{X}}=\\begin{bmatrix}\\dfrac{\\partial y}{\\partial x_{11}}&\\cdots&\\dfrac{\\partial y}{\\partial x_{p1}}\\\\[1mm]\\vdots&\\ddots&\\vdots\\\\\\dfrac{\\partial y}{\\partial x_{1q}}&\\cdots&\\dfrac{\\partial y}{\\partial x_{pq}}\\end{bmatrix}&\n",
    "\\dfrac{\\partial\\boldsymbol{y}}{\\partial\\mathbf{X}}=\\begin{bmatrix}\\dfrac{\\partial y_1}{\\partial\\mathbf{X}}\\\\[1mm]\\vdots\\\\\\dfrac{\\partial y_m}{\\partial\\mathbf{X}}\\end{bmatrix}\\text{3-tensor}&\n",
    "\\dfrac{\\partial\\mathbf{Y}}{\\partial\\mathbf{X}}=\\begin{bmatrix}\\dfrac{\\partial y_{11}}{\\partial\\mathbf{X}}&\\cdots&\\dfrac{\\partial y_{1n}}{\\partial\\mathbf{X}}\\\\[1mm]\\vdots&\\ddots&\\vdots\\\\\\dfrac{\\partial y_{m1}}{\\partial\\mathbf{X}}&\\cdots&\\dfrac{\\partial y_{mn}}{\\partial\\mathbf{X}}\\end{bmatrix}\\text{4-tensor}\n",
    "\\end{array}$$"
   ]
  },
  {
   "cell_type": "markdown",
   "metadata": {},
   "source": [
    "<p style=\"page-break-after:always;\"></p>\n",
    "\n",
    "### 6.1.2 Otros formatos\n",
    "\n",
    "**Formato denominador, gradiente o Hessiana:** $\\;$ primero el formato del denominador y luego el del numerador transpuesto, si puede acodomarse en una matriz\n",
    "* El resultado es el mismo que en formato numerador, aunque transpuesto\n",
    "\n",
    "**Origen de los dos formatos:** $\\;$ se halla, sobre todo, en el formato que se da a $\\;\\dfrac{\\partial\\boldsymbol{y}}{\\partial\\boldsymbol{x}}$\n",
    "\n",
    "**Formato mixto:** $\\;$ consiste en escribir $\\;\\dfrac{\\partial\\boldsymbol{y}}{\\partial\\boldsymbol{x}^t}\\;$ y seguir el formato numerador"
   ]
  },
  {
   "cell_type": "markdown",
   "metadata": {},
   "source": [
    "<p style=\"page-break-after:always;\"></p>\n",
    "\n",
    "## 6.2 Identidades básicas"
   ]
  },
  {
   "cell_type": "markdown",
   "metadata": {},
   "source": [
    "**Identidades para escalares:** $\\;a\\,$ constante; $\\;u\\,$ y $\\,v\\,$ funciones reales de $\\,x\\in\\mathbb{R}^{1\\times 1},\\,$ $\\boldsymbol{x}\\in\\mathbb{R}^{n\\times 1}\\,$ o $\\,\\mathbf{X}\\in\\mathbb{R}^{p\\times q}$\n",
    "\n",
    "|$y\\in\\mathbb{R}^{1\\times 1}$|$\\dfrac{\\partial y}{\\partial x}\\in\\mathbb{R}^{1\\times 1}$|$\\dfrac{\\partial y}{\\partial\\boldsymbol{x}}\\in\\mathbb{R}^{1\\times n}$|$\\dfrac{\\partial y}{\\partial\\mathbf{X}}\\in\\mathbb{R}^{q\\times p}$|\n",
    "|:-:|:-:|:-:|:-:|\n",
    "|$a$|$0$|$\\boldsymbol{0}$|$\\mathbf{0}$|\n",
    "|$au$|$a\\dfrac{\\partial u}{\\partial x}$|$a\\dfrac{\\partial u}{\\partial\\boldsymbol{x}}$|$a\\dfrac{\\partial u}{\\partial\\mathbf{X}}$|\n",
    "|$u+v$|$\\dfrac{\\partial u}{\\partial x}+\\dfrac{\\partial v}{\\partial x}$|$\\dfrac{\\partial u}{\\partial\\boldsymbol{x}}+\\dfrac{\\partial v}{\\partial\\boldsymbol{x}}$|$\\dfrac{\\partial u}{\\partial\\mathbf{X}}+\\dfrac{\\partial v}{\\partial\\mathbf{X}}$|\n",
    "|$uv$|$u\\dfrac{\\partial v}{\\partial x}+v\\dfrac{\\partial u}{\\partial x}$|$u\\dfrac{\\partial v}{\\partial\\boldsymbol{x}}+v\\dfrac{\\partial u}{\\partial\\boldsymbol{x}}$|$u\\dfrac{\\partial v}{\\partial\\mathbf{X}}+v\\dfrac{\\partial u}{\\partial\\mathbf{X}}$|\n",
    "|$g(u)$|$\\dfrac{\\partial g(u)}{\\partial u}\\dfrac{\\partial u}{\\partial x}$|$\\dfrac{\\partial g(u)}{\\partial u}\\dfrac{\\partial u}{\\partial\\boldsymbol{x}}$|$\\dfrac{\\partial g(u)}{\\partial u}\\dfrac{\\partial u}{\\partial\\mathbf{X}}$|\n",
    "|$f(g(u))$|$\\dfrac{\\partial f(g)}{\\partial g}\\dfrac{\\partial g(u)}{\\partial u}\\dfrac{\\partial u}{\\partial x}$|$\\dfrac{\\partial f(g)}{\\partial g}\\dfrac{\\partial g(u)}{\\partial u}\\dfrac{\\partial u}{\\partial\\boldsymbol{x}}$|$\\dfrac{\\partial f(g)}{\\partial g}\\dfrac{\\partial g(u)}{\\partial u}\\dfrac{\\partial u}{\\partial\\mathbf{X}}$|"
   ]
  },
  {
   "cell_type": "markdown",
   "metadata": {},
   "source": [
    "<p style=\"page-break-after:always;\"></p>\n",
    "\n",
    "**Identidades para vectores:** $\\;\\boldsymbol{a}\\,$ constante; $\\;\\boldsymbol{u}\\,$ y $\\,\\boldsymbol{v}\\,$ funciones vectoriales de $\\,x\\in\\mathbb{R}^{1\\times 1}\\,$ o $\\,\\boldsymbol{x}\\in\\mathbb{R}^{n\\times 1}$\n",
    "\n",
    "|$\\boldsymbol{y}\\in\\mathbb{R}^{m\\times 1}$|$\\dfrac{\\partial\\boldsymbol{y}}{\\partial x}\\in\\mathbb{R}^{m\\times 1}$|$\\dfrac{\\partial\\boldsymbol{y}}{\\partial\\boldsymbol{x}}\\in\\mathbb{R}^{m\\times n}$|\n",
    "|:-:|:-:|:-:|\n",
    "|$\\boldsymbol{a}$|$\\boldsymbol{0}$|$\\mathbf{0}$|\n",
    "|$a\\boldsymbol{u}$|$a\\dfrac{\\partial\\boldsymbol{u}}{\\partial x}$|$a\\dfrac{\\partial\\boldsymbol{u}}{\\partial\\boldsymbol{x}}$|\n",
    "|$\\boldsymbol{u}+\\boldsymbol{v}$|$\\dfrac{\\partial\\boldsymbol{u}}{\\partial x}+\\dfrac{\\partial\\boldsymbol{v}}{\\partial x}$|$\\dfrac{\\partial\\boldsymbol{u}}{\\partial\\boldsymbol{x}}+\\dfrac{\\partial\\boldsymbol{v}}{\\partial\\boldsymbol{x}}$|\n",
    "|$\\boldsymbol{g}(\\boldsymbol{u})$|$\\dfrac{\\partial\\boldsymbol{g}(\\boldsymbol{u})}{\\partial\\boldsymbol{u}}\\dfrac{\\partial \\boldsymbol{u}}{\\partial x}$|$\\dfrac{\\partial\\boldsymbol{g}(\\boldsymbol{u})}{\\partial \\boldsymbol{u}}\\dfrac{\\partial\\boldsymbol{u}}{\\partial\\boldsymbol{x}}$|\n",
    "|$\\boldsymbol{f}(\\boldsymbol{g}(\\boldsymbol{u}))$|$\\dfrac{\\partial\\boldsymbol{f}(\\boldsymbol{g})}{\\partial\\boldsymbol{g}}\\dfrac{\\partial\\boldsymbol{g}(\\boldsymbol{u})}{\\partial\\boldsymbol{u}}\\dfrac{\\partial\\boldsymbol{u}}{\\partial x}$|$\\dfrac{\\partial\\boldsymbol{f}(\\boldsymbol{g})}{\\partial\\boldsymbol{g}}\\dfrac{\\partial\\boldsymbol{g}(\\boldsymbol{u})}{\\partial\\boldsymbol{u}}\\dfrac{\\partial\\boldsymbol{u}}{\\partial\\boldsymbol{x}}$|"
   ]
  },
  {
   "cell_type": "markdown",
   "metadata": {},
   "source": [
    "<p style=\"page-break-after:always;\"></p>\n",
    "\n",
    "**Identidades para matrices:** $\\;a\\,$ y $\\,\\mathbf{A}\\,$ constantes; $\\;\\mathbf{U}\\,$ y $\\,\\mathbf{V}\\,$ funciones matriciales de $x$\n",
    "\n",
    "|$\\mathbf{Y}\\in\\mathbb{R}^{m\\times n}$|$\\dfrac{\\partial\\mathbf{Y}}{\\partial x}\\in\\mathbb{R}^{m\\times n}$|\n",
    "|:-:|:-:|\n",
    "|$\\mathbf{A}$|$\\mathbf{0}$|\n",
    "|$a\\mathbf{U}$|$a\\dfrac{\\partial\\mathbf{U}}{\\partial x}$|\n",
    "|$\\mathbf{U}+\\mathbf{V}$|$\\dfrac{\\partial\\mathbf{U}}{\\partial x}+\\dfrac{\\partial\\mathbf{V}}{\\partial x}$|\n",
    "|$\\mathbf{U}\\mathbf{V}$|$\\mathbf{U}\\dfrac{\\partial\\mathbf{V}}{\\partial x}+\\dfrac{\\partial\\mathbf{U}}{\\partial x}\\mathbf{V}$|"
   ]
  },
  {
   "cell_type": "markdown",
   "metadata": {},
   "source": [
    "<p style=\"page-break-after:always;\"></p>\n",
    "\n",
    "## 6.3 Derivadas básicas"
   ]
  },
  {
   "cell_type": "markdown",
   "metadata": {},
   "source": [
    "**Sigmoide:** $\\displaystyle\\quad\\sigma(x)=\\frac{1}{1+e^{-x}}$\n",
    "$$\\frac{\\partial\\sigma(x)}{\\partial x}%\n",
    "%=-\\frac{1}{(1+e^{-x})^2}e^{-x}(-1)%\n",
    "=\\frac{e^{-x}}{(1+e^{-x})^2}%\n",
    "=\\frac{1+e^{-x}-1}{(1+e^{-x})^2}%\n",
    "=\\frac{1}{1+e^{-x}}-\\frac{1}{(1+e^{-x})^2}%\n",
    "=\\frac{1}{1+e^{-x}}\\left(1-\\frac{1}{1+e^{-x}}\\right)%\n",
    "=\\sigma(x)(1-\\sigma(x))%\n",
    "=\\sigma(x)\\sigma(-x)$$"
   ]
  },
  {
   "cell_type": "markdown",
   "metadata": {},
   "source": [
    "**Pérdida cuadrática:** $\\quad\\ell_2(y,\\hat{y})=\\frac{1}{2}(y-\\hat{y})^2$\n",
    "$$\\dfrac{\\partial\\ell_2(y,\\hat{y})}{\\partial\\hat{y}}=\\hat{y}-y$$"
   ]
  },
  {
   "cell_type": "markdown",
   "metadata": {},
   "source": [
    "**Log-pérdida:** $\\quad\\ell(\\boldsymbol{y},\\hat{\\boldsymbol{y}})=-\\sum_cy_c\\log\\hat{y}_c$\n",
    "$$\\dfrac{\\partial\\ell(\\boldsymbol{y},\\hat{\\boldsymbol{y}})}{\\partial\\hat{\\boldsymbol{y}}}=\\left(\\dfrac{\\partial\\ell(\\boldsymbol{y},\\hat{\\boldsymbol{y}})}{\\partial\\hat{y}_1},\\cdots,\\dfrac{\\partial\\ell(\\boldsymbol{y},\\hat{\\boldsymbol{y}})}{\\partial\\hat{y}_C}\\right)=\\left(-\\dfrac{y_1}{\\hat{y}_1},\\dotsc,-\\dfrac{y_C}{\\hat{y}_C}\\right)$$"
   ]
  },
  {
   "cell_type": "markdown",
   "metadata": {},
   "source": [
    "<p style=\"page-break-after:always;\"></p>\n",
    "\n",
    "## 6.4 Softmax"
   ]
  },
  {
   "cell_type": "markdown",
   "metadata": {},
   "source": [
    "**Softmax:** $\\displaystyle\\quad\\boldsymbol{\\mu}=\\mathcal{S}(\\boldsymbol{a})=\\left(\\frac{e^{a_1}}{\\sum_{\\tilde{c}}e^{a_{\\tilde{c}}}},\\dotsc,\\frac{e^{a_C}}{\\sum_{\\tilde{c}}e^{a_{\\tilde{c}}}}\\right)^t$\n",
    "\n",
    "$$\\small\\begin{align*}\n",
    "\\frac{\\partial\\mu_i}{\\partial a_j}%\n",
    "&=e^{a_i}\\frac{\\partial\\left(\\sum_{\\tilde{c}}e^{a_{\\tilde{c}}}\\right)^{-1}}{\\partial a_j}\n",
    "+\\frac{1}{\\sum_{\\tilde{c}}e^{a_{\\tilde{c}}}}\\frac{\\partial e^{a_i}}{\\partial a_j}\n",
    "=-\\frac{e^{a_i}e^{a_j}}{\\left(\\sum_{\\tilde{c}}e^{a_{\\tilde{c}}}\\right)^2}\n",
    "+\\frac{e^{a_i}\\mathbb{I}(i=j)}{\\sum_{\\tilde{c}}e^{a_{\\tilde{c}}}}\n",
    "=\\mu_i(\\mathbb{I}(i=j)-\\mu_j)\\\\\n",
    "\\frac{\\partial\\boldsymbol{\\mu}}{\\partial\\boldsymbol{a}}%\n",
    "&=\\begin{pmatrix}\\frac{\\partial\\mu_1}{\\partial\\boldsymbol{a}}\\\\\\frac{\\partial\\mu_2}{\\partial\\boldsymbol{a}}\\\\\\vdots\\\\\\frac{\\partial\\mu_C}{\\partial\\boldsymbol{a}}\\end{pmatrix}%\n",
    "=\\begin{pmatrix}\\frac{\\partial\\mu_1}{\\partial a_1}&\\frac{\\partial\\mu_1}{\\partial a_2}&\\cdots&\\frac{\\partial\\mu_1}{\\partial a_C}\\\\\n",
    "\\frac{\\partial\\mu_2}{\\partial a_1}&\\frac{\\partial\\mu_2}{\\partial a_2}&\\cdots&\\frac{\\partial\\mu_2}{\\partial a_C}\\\\\n",
    "\\vdots&\\vdots&\\ddots&\\vdots\\\\%\n",
    "\\frac{\\partial\\mu_C}{\\partial a_1}&\\frac{\\partial\\mu_C}{\\partial a_2}&\\cdots&\\frac{\\partial\\mu_C}{\\partial a_C}\\end{pmatrix}\n",
    "=\\begin{pmatrix}\n",
    "\\mu_1(1-\\mu_1)&-\\mu_1\\mu_2&\\cdots&-\\mu_1\\mu_C\\\\\n",
    "-\\mu_2\\mu_1&\\mu_2(1-\\mu_2)&\\cdots&-\\mu_2\\mu_C\\\\\n",
    "\\vdots&\\vdots&\\ddots&\\vdots\\\\%\n",
    "-\\mu_C\\mu_1&-\\mu_C\\mu_2&\\cdots&\\mu_C(1-\\mu_C)\n",
    "\\end{pmatrix}\n",
    "=\\operatorname{diag}(\\boldsymbol{\\mu})-\\boldsymbol{\\mu}^t\\boldsymbol{\\mu}\\\\\\\\\n",
    "\\frac{\\partial\\log\\mu_i}{\\partial a_j}%\n",
    "&=\\frac{\\partial\\log\\mu_i}{\\partial\\mu_i}%\n",
    "\\frac{\\partial\\mu_i}{\\partial a_j}\n",
    "=\\frac{1}{\\mu_i}\\mu_i(\\mathbb{I}(i=j)-\\mu_j)\n",
    "=\\mathbb{I}(i=j)-\\mu_j\\\\\n",
    "\\frac{\\partial\\log\\boldsymbol{\\mu}}{\\partial\\boldsymbol{a}}%\n",
    "&=\\begin{pmatrix}\n",
    "\\frac{\\partial\\log\\mu_1}{\\partial\\boldsymbol{a}}\\\\\n",
    "\\frac{\\partial\\log\\mu_2}{\\partial\\boldsymbol{a}}\\\\\n",
    "\\vdots\\\\\n",
    "\\frac{\\partial\\log\\mu_C}{\\partial\\boldsymbol{a}}\\end{pmatrix}%\n",
    "=\\begin{pmatrix}\n",
    "\\frac{\\partial\\log\\mu_1}{\\partial a_1}%\n",
    "&\\frac{\\partial\\log\\mu_1}{\\partial a_2}\n",
    "&\\cdots\n",
    "&\\frac{\\partial\\log\\mu_1}{\\partial a_C}\\\\\n",
    "\\frac{\\partial\\log\\mu_2}{\\partial a_1}%\n",
    "&\\frac{\\partial\\log\\mu_2}{\\partial a_2}\n",
    "&\\cdots\n",
    "&\\frac{\\partial\\log\\mu_2}{\\partial a_C}\\\\\n",
    "\\vdots&\\vdots&\\ddots&\\vdots\\\\%\n",
    "\\frac{\\partial\\log\\mu_C}{\\partial a_1}%\n",
    "&\\frac{\\partial\\log\\mu_C}{\\partial a_2}\n",
    "&\\cdots\n",
    "&\\frac{\\partial\\log\\mu_C}{\\partial a_C}\n",
    "\\end{pmatrix}\n",
    "=\\begin{pmatrix}\n",
    "1-\\mu_1&-\\mu_2&\\cdots&-\\mu_C\\\\\n",
    "-\\mu_1&1-\\mu_2&\\cdots&-\\mu_C\\\\\n",
    "\\vdots&\\vdots&\\ddots&\\vdots\\\\%\n",
    "-\\mu_1&-\\mu_2&\\cdots&1-\\mu_C\n",
    "\\end{pmatrix}\n",
    "=\\operatorname{diag}(\\boldsymbol{1}_C)-\\boldsymbol{1}_C\\boldsymbol{\\mu}^t\\end{align*}$$"
   ]
  }
 ],
 "metadata": {
  "kernelspec": {
   "display_name": "Python 3",
   "language": "python",
   "name": "python3"
  },
  "language_info": {
   "codemirror_mode": {
    "name": "ipython",
    "version": 3
   },
   "file_extension": ".py",
   "mimetype": "text/x-python",
   "name": "python",
   "nbconvert_exporter": "python",
   "pygments_lexer": "ipython3",
   "version": "3.10.6"
  }
 },
 "nbformat": 4,
 "nbformat_minor": 2
}
