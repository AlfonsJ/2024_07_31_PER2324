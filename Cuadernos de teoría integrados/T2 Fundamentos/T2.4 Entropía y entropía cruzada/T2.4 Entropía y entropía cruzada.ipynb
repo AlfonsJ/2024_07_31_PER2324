{
 "cells": [
  {
   "cell_type": "markdown",
   "metadata": {},
   "source": [
    "# T2.4 Entropía y entropía cruzada"
   ]
  },
  {
   "cell_type": "markdown",
   "metadata": {},
   "source": [
    "**Índice**\n",
    "\n",
    "> 1 Entropía para variables aleatorias discretas<br>\n",
    ">> 1.1 Definición<br>\n",
    ">> 1.2 Distribución de máxima entropía<br>\n",
    ">> 1.3 Distribución de mínima entropía<br>\n",
    ">> 1.4 Función entropía binaria<br>\n",
    ">\n",
    "> 2 Entropía cruzada<br>"
   ]
  },
  {
   "attachments": {},
   "cell_type": "markdown",
   "metadata": {},
   "source": [
    "<p style=\"page-break-after:always;\"></p>\n",
    "\n",
    "# 1 Entropía para variables aleatorias discretas"
   ]
  },
  {
   "attachments": {},
   "cell_type": "markdown",
   "metadata": {},
   "source": [
    "## 1.1 Definición\n",
    "\n",
    "**Entropía de una variable aleatoria discreta $X$:** $\\;$ con distribución $p$ sobre $K$ estados\n",
    "$$\\mathbb{H}(X)=-\\sum_kp(X=k)\\log_2p(X=k)=-\\mathbb{E}_X[\\log p(X)]$$\n",
    "\n",
    "**Unidades de medida:** $\\;$ **bits** si usamos logaritmos binarios; $\\;$ **nats** si usamos logaritmos naturales\n",
    "\n",
    "**Ejemplo:** $\\;X\\in\\{1,\\dotsc,5\\}\\,$ con $\\,p=[0.25,0.25,0.2,0.15,0.15]$\n",
    "$$\\begin{align*}\n",
    "\\mathbb{H}(X)%\n",
    "&=-2\\frac{1}{4}\\log_2\\frac{1}{4}-\\frac{1}{5}\\log_2\\frac{1}{5}-2\\frac{3}{20}\\log_2\\frac{3}{20}\\\\%\n",
    "&=-\\frac{1}{2}(-2)+\\frac{1}{5}\\log_25 -\\frac{3}{10}(\\log_23-\\log_220)\\\\%\n",
    "&=1+0.2\\cdot 2.3219-0.3\\,(1.5850-4.3219)\\\\%\n",
    "&=2.29 \\;\\text{bits}%\n",
    "\\end{align*}$$"
   ]
  },
  {
   "attachments": {},
   "cell_type": "markdown",
   "metadata": {},
   "source": [
    "<p style=\"page-break-after:always;\"></p>\n",
    "\n",
    "## 1.2 Distribución de máxima entropía\n",
    "\n",
    "**Distribución de máxima entropía:** $\\;$ es la uniforme\n",
    "$$p(X=k)=\\frac{1}{K}\\qquad\\text{para $X$ $K$-aria}$$\n",
    "$$\\mathbb{H}(X)=-\\sum_{k=1}^K\\frac{1}{K}\\log\\frac{1}{K}=-\\log\\frac{1}{K}=\\log K$$"
   ]
  },
  {
   "attachments": {},
   "cell_type": "markdown",
   "metadata": {},
   "source": [
    "## 1.3 Distribución de mínima entropía\n",
    "\n",
    "**Distribución de mínima entropía:** $\\;$ cualquier función delta que asigne toda la masa en un estado $k^*$\n",
    "$$p(X=k)=\\delta(X=x^*)$$\n",
    "$$\\mathbb{H}(X)=-1\\log 1-\\sum_{k\\neq k^*}0\\,\\log 0=0$$"
   ]
  },
  {
   "attachments": {},
   "cell_type": "markdown",
   "metadata": {},
   "source": [
    "<p style=\"page-break-after:always;\"></p>\n",
    "\n",
    "## 1.4 Función entropía binaria\n",
    "\n",
    "**Función entropía binaria:** $\\;$ sea la variable binaria $\\;X\\in\\{0,1\\}\\,$ tal que $\\,p(X=1)=\\theta\\,$ y $\\,p(X=0)=1-\\theta$\n",
    "$$\\begin{align*}\n",
    "\\mathbb{H}(\\theta)&=\\mathbb{H}(X)\\\\\n",
    "&=-[p(X=1)\\log_2p(X=1)+p(X=0)\\log_2p(X=0)]\\\\\n",
    "&=-[\\theta\\log_2\\theta+(1-\\theta)\\log_2(1-\\theta)]%\n",
    "\\end{align*}$$\n",
    "\n",
    "**$\\mathbb{H}(\\theta)$ alcanza su máximo de $1$ bit con $\\theta=0.5$:**"
   ]
  },
  {
   "cell_type": "code",
   "execution_count": 4,
   "metadata": {},
   "outputs": [
    {
     "data": {
      "image/png": "[encoded data removed]",
      "text/plain": [
       "<Figure size 300x300 with 1 Axes>"
      ]
     },
     "metadata": {},
     "output_type": "display_data"
    }
   ],
   "source": [
    "import numpy as np; import matplotlib.pyplot as plt\n",
    "plt.rcParams['text.usetex'] = True; x = np.linspace(1e-4, 1-1e-4, 1000)\n",
    "H = lambda x: -(x*np.log2(x) + (1-x) * np.log2(1-x))\n",
    "plt.figure(figsize=(3, 3)); plt.plot(x, H(x), '-b', lw=3); plt.grid();\n",
    "ticks = np.linspace(0, 1, 11); plt.xticks(ticks); plt.yticks(ticks);\n",
    "plt.xlabel(r'$\\theta$'); plt.ylabel(r'$H(\\theta)$');"
   ]
  },
  {
   "attachments": {},
   "cell_type": "markdown",
   "metadata": {},
   "source": [
    "<p style=\"page-break-after:always;\"></p>\n",
    "\n",
    "# 2 Entropía cruzada"
   ]
  },
  {
   "cell_type": "markdown",
   "metadata": {},
   "source": [
    "\n",
    "**Entropía cruzada:** $\\;$ entre una distribución $p$ y otra $q$ es\n",
    "$$\\mathbb{H}(p,q)=-\\sum_k\\;p_k\\log q_k$$\n",
    "\n",
    "**Interpretación:** $\\;$ número esperado de bits necesario para comprimir muestras de $p$ mediante un cuantificador basado en $q$\n",
    "\n",
    "**Mínimo:** $\\;$ con $q=p$, cumpliéndose $\\mathbb{H}(p,p)=\\mathbb{H}(p)$"
   ]
  }
 ],
 "metadata": {
  "kernelspec": {
   "display_name": "Python 3",
   "language": "python",
   "name": "python3"
  },
  "language_info": {
   "codemirror_mode": {
    "name": "ipython",
    "version": 3
   },
   "file_extension": ".py",
   "mimetype": "text/x-python",
   "name": "python",
   "nbconvert_exporter": "python",
   "pygments_lexer": "ipython3",
   "version": "3.10.6"
  }
 },
 "nbformat": 4,
 "nbformat_minor": 2
}
