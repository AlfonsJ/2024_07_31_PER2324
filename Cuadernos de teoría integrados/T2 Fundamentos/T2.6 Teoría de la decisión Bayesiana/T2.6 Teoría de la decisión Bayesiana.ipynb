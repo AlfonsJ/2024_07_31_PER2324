{
 "cells": [
  {
   "cell_type": "markdown",
   "metadata": {},
   "source": [
    "# T2.6 Teoría de la decisión Bayesiana"
   ]
  },
  {
   "cell_type": "markdown",
   "metadata": {},
   "source": [
    "**Índice**\n",
    "\n",
    "> 1 Conceptos básicos<br>\n",
    ">> 1.1 Conceptos básicos<br>\n",
    ">> 1.2 Conceptos (un poco menos) básicos<br>\n",
    ">\n",
    "> 2 Problemas de clasificación<br>\n",
    ">> 2.1 Problemas de clasificación: pérdida 01<br>\n",
    ">> 2.2 Matrices de confusión multiclase<br>\n",
    ">\n",
    "> 3 Problemas de regresión<br>\n",
    "> 4 Problemas de predicción probabilística<br>"
   ]
  },
  {
   "attachments": {},
   "cell_type": "markdown",
   "metadata": {},
   "source": [
    "<p style=\"page-break-after:always;\"></p>\n",
    "\n",
    "# 1 Conceptos básicos"
   ]
  },
  {
   "cell_type": "markdown",
   "metadata": {},
   "source": [
    "**Inferencia Bayesiana:** $\\;$ cálculo de la **posterior** $p(H\\mid \\boldsymbol{x})$ mediante la regla de Bayes actualizar nuestras creencias sobre cantidades ocultas $H$ a partir de datos $\\boldsymbol{x}$\n",
    "\n",
    "**Teoría de la decisión Bayesiana:** $\\;$ usa la inferencia para decidir cuál es la mejor de las posibles **acciones** a realizar"
   ]
  },
  {
   "cell_type": "markdown",
   "metadata": {},
   "source": [
    "## 1.1 Conceptos básicos\n",
    "\n",
    "**Agente:** $\\;$ debe escoger una acción de un conjunto de acciones posibles, $\\,\\mathcal{A}$\n",
    "\n",
    "**Estado de la naturaleza:** $\\;$ $h\\in\\mathcal{H}$, condiciona los costes y beneficios que se derivan de tomar cada acción posible\n",
    "\n",
    "**Función de pérdida:** $\\;$ indica el coste incurrido al tomar la acción $a\\in\\mathcal{A}$ cuando el estado de la naturaleza es $h\\in\\mathcal{H}$\n",
    "$$\\ell(h,a)$$\n",
    "\n",
    "**Riesgo (pérdida) esperado a posteriori:** $\\;$ de $a$ tras observar $\\boldsymbol{x}$\n",
    "$$R(a\\mid\\boldsymbol{x})=\\mathbb{E}_{p(h\\mid\\boldsymbol{x})}[\\ell(h,a)]%\n",
    "=\\sum_{h\\in\\mathcal{H}} \\ell(h,a)\\,p(h\\mid\\boldsymbol{x})$$\n",
    "\n",
    "**Política óptima o estimador de Bayes:** $\\;$ obtiene una acción de mínimo riesgo por cada observación posible\n",
    "$$\\pi^*(\\boldsymbol{x})=\\operatorname*{argmin}_{a\\in\\mathcal{A}}\\;R(a\\mid\\boldsymbol{x})$$"
   ]
  },
  {
   "cell_type": "markdown",
   "metadata": {},
   "source": [
    "<p style=\"page-break-after:always;\"></p>\n",
    "\n",
    "## 1.2 Conceptos (un poco menos) básicos\n",
    "\n",
    "**Función de utilidad:** $\\;$ deseabilidad de cada acción posible en cada posible estado, esto es, riesgo con signo cambiado\n",
    "$$U(h,a)=-\\ell(h,a)$$\n",
    "\n",
    "**Principio de utilidad esperada máxima:** $\\;$ estimador de Bayes expresado en términos de utilidad\n",
    "$$\\pi^*(\\boldsymbol{x})=\\operatorname*{argmax}_{a\\in\\mathcal{A}}\\;\\mathbb{E}_h[U(h,a)]$$\n",
    "\n",
    "**Sensibilidad al riesgo:** $\\;$ asumimos que el agente es **neutral,** esto es, insensible al riesgo, pero podría no ser así; por ejemplo, nos da igual obtener $50$ EUR con seguridad, o con $50\\%$ de probabilidad de $0$ y $100$ EUR"
   ]
  },
  {
   "attachments": {},
   "cell_type": "markdown",
   "metadata": {},
   "source": [
    "<p style=\"page-break-after:always;\"></p>\n",
    "\n",
    "# 2 Problemas de clasificación"
   ]
  },
  {
   "cell_type": "markdown",
   "metadata": {},
   "source": [
    "## 2.1 Problemas de clasificación: pérdida 01"
   ]
  },
  {
   "cell_type": "markdown",
   "metadata": {},
   "source": [
    "**Estados de la naturaleza y acciones:** $\\;$ etiquetas de clase, $\\,\\mathcal{H}=\\mathcal{Y}=\\{1,\\dotsc,C\\}\\qquad\\text{y}\\qquad\\mathcal{A}=\\mathcal{Y}$\n",
    "\n",
    "**Pérdida 01 para dos clases:** $\\;\\mathcal{Y}=\\{0,1\\}$\n",
    "$$\\ell_{01}(y^*,\\hat{y})=\\left[%\n",
    "\\begin{array}{c|cc}\n",
    "    & \\hat{y}=0 & \\hat{y}=1\\\\\\hline%\n",
    "    y^*=0 & 0 & 1\\\\%\n",
    "    y^*=1 & 1 & 0\n",
    "\\end{array}\\right]=\\;\\mathbb{I}(y^*\\neq\\hat{y})$$\n",
    "\n",
    "**Pérdida esperada a posteriori:** $\\;$ la probabilidad de error a posteriori es uno menos la de acertar a posteriori\n",
    "$$R(\\hat{y}\\mid\\boldsymbol{x})%\n",
    "=\\sum_y\\ell_{01}(y,\\hat{y})\\,p(y\\mid\\boldsymbol{x})\n",
    "=\\sum_{y\\neq\\hat{y}}p(y\\mid\\boldsymbol{x})\n",
    "=1-p(\\hat{y}\\mid\\boldsymbol{x})$$\n",
    "\n",
    "**Esstimador de Bayes:** $\\;$ **estimador máximo a posteriori (MAP),** esto es, la etiqueta más probable o **moda** de la probabilidad a posteriori\n",
    "$$\\pi(\\boldsymbol{x})=\\operatorname*{argmax}_{y\\in\\mathcal{Y}}\\;p(y\\mid\\boldsymbol{x})$$ \n"
   ]
  },
  {
   "attachments": {},
   "cell_type": "markdown",
   "metadata": {},
   "source": [
    "<p style=\"page-break-after:always;\"></p>\n",
    "\n",
    "## 2.2 Matrices de confusión multiclase"
   ]
  },
  {
   "attachments": {},
   "cell_type": "markdown",
   "metadata": {},
   "source": [
    "**Datos:** $\\; $ conjunto de pares etiqueta real-predicha, $\\,\\mathcal{D}=\\{(y_m,\\hat{y}_m)\\}_{m=1}^M,\\,$ obtenidos al clasificar $M$ muestras (de test)\n",
    "\n",
    "**Matriz de confusión para $C$ clases:** $\\quad\\mathbf{M}=[M_{y,\\hat{y}}]\\;$ con $\\;M_{y,\\hat{y}}=\\sum_m\\mathbb{I}(y_m=y)\\mathbb{I}(\\hat{y}_m=\\hat{y})$\n",
    "\n",
    "<div align=\"center\">\n",
    "\n",
    "|    $y$    |    $\\hat{1}$    |    $\\hat{2}$    |  $\\cdots$ |    $\\hat{C}$    |  Suma fila |\n",
    "|:---------:|:---------------:|:---------------:|:---------:|:---------------:|:----------:|\n",
    "|         1 | $M_{1,\\hat{1}}$ | $M_{1,\\hat{2}}$ |  $\\cdots$ | $M_{1,\\hat{C}}$ |  $M_{1,:}$ |\n",
    "|         2 | $M_{2,\\hat{1}}$ | $M_{2,\\hat{2}}$ |  $\\cdots$ | $M_{2,\\hat{C}}$ |  $M_{2,:}$ |\n",
    "|  $\\vdots$ |     $\\vdots$    |     $\\vdots$    |  $\\vdots$ |     $\\vdots$    |   $\\vdots$ |\n",
    "|         C | $M_{C,\\hat{1}}$ | $M_{C,\\hat{2}}$ |  $\\cdots$ | $M_{C,\\hat{C}}$ |  $M_{C,:}$ |\n",
    "| **Suma:** | $M_{:,\\hat{1}}$ | $M_{:,\\hat{2}}$ |  $\\cdots$ | $M_{:,\\hat{C}}$ |        $M$ |\n",
    "\n",
    "</div>\n",
    "\n",
    "**Normalización por filas:** $\\;$ estimación empírica de $\\,p(\\hat{y}\\mid y)$\n",
    "\n",
    "**Normalización por columnas:** $\\;$ estimación empírica de $\\,p(y\\mid\\hat{y})$\n",
    "\n",
    "**Normalización por filas y columnas:** $\\;$ estimación empírica de $\\,p(y, \\hat{y})$\n",
    "\n",
    "**Análisis de una clase específica:** $\\;$ se reduce a matriz binaria considerando el resto de clases como una única clase (negativa)"
   ]
  },
  {
   "attachments": {},
   "cell_type": "markdown",
   "metadata": {},
   "source": [
    "<p style=\"page-break-after:always;\"></p>\n",
    "\n",
    "# 3 Problemas de regresión"
   ]
  },
  {
   "cell_type": "markdown",
   "metadata": {},
   "source": [
    "**Estados de la naturaleza y acciones:** $\\;$ reales, $\\,\\mathcal{H}=\\mathcal{A}=\\mathcal{Y}=\\mathbb{R}$\n",
    "\n",
    "**Pérdida L2 ($\\ell_2$, cuadrática o error cuadrático):** \n",
    "$$\\ell_2(h,a)=(h-a)^2$$\n",
    "\n",
    "**Pérdida L1 ($\\ell_1$):**\n",
    "$$\\ell_1(h,a)=\\lvert{h-a}\\rvert$$\n",
    "\n",
    "**Pérdida Huber:** $\\;$ combina L1 y L2 con un parámetro $\\,\\delta\\geq 0$\n",
    "$$\\ell_{\\delta}(h,a)=\\begin{cases}\n",
    "\\frac{(h-a)^2}{2} & \\text{si $\\lvert{h-a}\\rvert\\leq\\delta$}\\\\[3mm]%\n",
    "\\delta\\lvert{h-a}\\rvert-\\frac{\\delta^2}{2} & \\text{si $\\lvert{h-a}\\rvert>\\delta$}%\n",
    "\\end{cases}$$\n",
    "\n",
    "<p style=\"page-break-after:always;\"></p>\n",
    "\n",
    "**Comparación gráfica:** $\\;$ L2, L1 y Huber en función de la desviación de la verdad, $\\,h-a$"
   ]
  },
  {
   "cell_type": "code",
   "execution_count": 1,
   "metadata": {},
   "outputs": [
    {
     "data": {
      "image/png": "[encoded data removed]",
      "text/plain": [
       "<Figure size 300x300 with 1 Axes>"
      ]
     },
     "metadata": {},
     "output_type": "display_data"
    }
   ],
   "source": [
    "import numpy as np; import matplotlib.pyplot as plt \n",
    "e = np.linspace(-3.0, 3.0, 100) # e = h - a (error)\n",
    "L1 = abs(e); L2 = np.square(e); delta = 1.5; i = abs(e) <= delta\n",
    "Huber = (abs(e)<=delta) * 0.5*L2 + (abs(e)>delta) * delta*(L1-delta/2);\n",
    "plt.figure(figsize=(3, 3)); plt.xlim((-2, 2)); plt.ylim((-0.1, 4)); plt.grid(); \n",
    "plt.plot(e, L1, 'b'); plt.plot(e, L2, 'r'); plt.plot(e, Huber, 'g'); plt.legend(['L1', 'L2', 'Huber']);"
   ]
  },
  {
   "attachments": {},
   "cell_type": "markdown",
   "metadata": {},
   "source": [
    "**Observaciones que se derivan de la comparación gráfica:**\n",
    "* L1 penaliza **linealmente** las desviaciones de la verdad\n",
    "* L2 penaliza **cuadráticamente** las desviaciones de la verdad, por lo que es **más sensible a outliers** que L1\n",
    "* Huber representa un compromiso entre L1 y L2\n",
    "\n",
    "<p style=\"page-break-after:always;\"></p>\n",
    "\n",
    "**Pérdida L2 esperada a posteriori:**\n",
    "$$R(a\\mid\\boldsymbol{x})%\n",
    "=\\mathbb{E}[(h-a)^2\\mid\\boldsymbol{x}]%\n",
    "=\\mathbb{E}[h^2\\mid\\boldsymbol{x}]-2a\\mathbb{E}[h\\mid\\boldsymbol{x}]+a^2$$\n",
    "\n",
    "**Regresor de Bayes L2 o minimum mean squared error (MMSE):** $\\;$ **media a posteriori** \n",
    "$$\\frac{\\partial}{\\partial a}R(a\\mid\\boldsymbol{x})%\n",
    "=-2\\mathbb{E}[h\\mid\\boldsymbol{x}]+2a=0%\n",
    "\\quad\\Rightarrow\\quad%\n",
    "\\pi(\\boldsymbol{x})=\\mathbb{E}[h\\mid\\boldsymbol{x}]=\\int h \\,p(h\\mid\\boldsymbol{x})\\,dh$$\n",
    "\n",
    "**Pérdida L1 esperada a posteriori:**\n",
    "$$R(a\\mid\\boldsymbol{x})%\n",
    "=\\mathbb{E}[\\lvert{h-a}\\rvert\\mid\\boldsymbol{x}]%\n",
    "=\\int\\lvert{h-a}\\rvert\\,p(h\\mid\\boldsymbol{x})\\,dh%\n",
    "=\\int_{\\infty}^a(a-h)\\,p(h\\mid\\boldsymbol{x})\\,dh%\n",
    "+\\int_a^{\\infty}(h-a)\\,p(h\\mid\\boldsymbol{x})\\,dh$$\n",
    "\n",
    "**Regresor de Bayes L1:** $\\;$ **mediana a posteriori**\n",
    "$$a:\\;P(h<a\\mid\\boldsymbol{x})=P(h\\geq a\\mid\\boldsymbol{x})=0.5$$\n",
    "\n",
    "**Pérdidas para $\\mathbb{R}^D$:** $\\;$ las pérdidas usuales para $\\mathbb{R}$ pueden extenderse fácilmente a $\\mathbb{R}^D$ y usarse para calcular los parámetros óptimos que debe devolver un estimador, la acción óptima que debe realizar un robot, etc."
   ]
  },
  {
   "attachments": {},
   "cell_type": "markdown",
   "metadata": {},
   "source": [
    "<p style=\"page-break-after:always;\"></p>\n",
    "\n",
    "# 4 Problemas de predicción probabilística"
   ]
  },
  {
   "cell_type": "markdown",
   "metadata": {},
   "source": [
    "**Estados de la naturaleza y acciones:** $\\;$ distribuciones de probabilidad; $h=p(Y\\mid \\boldsymbol{x})$ y buscamos una $a=q(Y\\mid \\boldsymbol{x})$ que minimice $\\mathbb{E}[\\ell(p,q)]$ para un $\\boldsymbol{x}$ dado\n",
    "\n",
    "**Función de pérdida:** $\\;$ **divergencia de Kullback-Leibler (KL),** en función de la entropía de $p$, $\\mathbb{H}(p)$, y la entropía cruzada entre $p$ y $q$, $\\,\\mathbb{H}(p,q)$\n",
    "$$\\mathbb{KL}(p\\Vert q)=-\\mathbb{H}(p)+\\mathbb{H}(p,q)$$\n",
    "\n",
    "**La minimización de KL equivale a minizar la entropía cruzada:**\n",
    "$$\\begin{align*}\n",
    "q^*(Y\\mid \\boldsymbol{x})%\n",
    "&=\\operatorname*{argmin}_q\\;\\mathbb{KL}(p(Y\\Vert\\boldsymbol{x}),q(Y\\mid\\boldsymbol{x}))\\\\%\n",
    "&=\\operatorname*{argmin}_q\\;-\\mathbb{H}(p) + \\mathbb{H}(p(Y\\mid \\boldsymbol{x}),q(Y\\mid\\boldsymbol{x}))\\\\%\n",
    "&=\\operatorname*{argmin}_q\\;\\mathbb{H}(p(Y\\mid\\boldsymbol{x}),q(Y\\mid \\boldsymbol{x}))\\\\%\n",
    "&=\\operatorname*{argmin}_q\\;-\\sum_{y\\in\\mathcal{Y}} p(y\\mid\\boldsymbol{x})\\log q(y\\mid\\boldsymbol{x})%\n",
    "\\end{align*}$$\n",
    "\n",
    "**En clasificación equivale a usar la log-pérdida:** $\\;$ si $h$ es one-hot, $h=p(Y\\mid\\boldsymbol{x})=\\delta(Y=c)$\n",
    "$$\\mathbb{H}(\\delta(Y=c),q)=-\\sum_{y\\in\\mathcal{Y}} \\delta(y=c)\\log q(y\\mid\\boldsymbol{x})=-\\log q(c\\mid\\boldsymbol{x})$$\n",
    "\n",
    "**Regla de puntuación propia:** $\\;$ pérdida $\\ell(p, q)$ cuya minimización en $q$ converge a $p$\n",
    "\n",
    "**Puntuación de Brier:** $\\;$ regla propia menos sensible a eventos raros que la entropía cruzada\n",
    "$$\\ell(p,q)=\\frac{1}{C}\\sum_{c=1}^C\\;(q(y=c\\mid \\boldsymbol{x})-p(y=c\\mid \\boldsymbol{x}))^2$$"
   ]
  }
 ],
 "metadata": {
  "kernelspec": {
   "display_name": "Python 3",
   "language": "python",
   "name": "python3"
  },
  "language_info": {
   "codemirror_mode": {
    "name": "ipython",
    "version": 3
   },
   "file_extension": ".py",
   "mimetype": "text/x-python",
   "name": "python",
   "nbconvert_exporter": "python",
   "pygments_lexer": "ipython3",
   "version": "3.10.6"
  }
 },
 "nbformat": 4,
 "nbformat_minor": 2
}
