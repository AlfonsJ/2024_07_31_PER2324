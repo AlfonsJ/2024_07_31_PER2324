{
 "cells": [
  {
   "cell_type": "markdown",
   "metadata": {},
   "source": [
    "# T1 Introducción"
   ]
  },
  {
   "cell_type": "markdown",
   "metadata": {},
   "source": [
    "**Índice**\n",
    "\n",
    "> 1 Definición de aprendizaje automático<br>\n",
    ">\n",
    "> 2 Aprendizaje supervisado<br>\n",
    ">> 2.1 Clasificación<br>\n",
    ">>> 2.1.1 Ejemplo: clasificación de flores iris<br>\n",
    ">>> 2.1.2 Análisis exploratorio de datos<br>\n",
    ">>> 2.1.3 Aprendizaje de un clasificador<br>\n",
    ">>> 2.1.4 Minimización del riesgo empírico<br>\n",
    ">>> 2.1.5 Incertidumbre<br>\n",
    ">>> 2.1.6 Estimación por máxima verosimilitud<br>\n",
    ">>\n",
    ">> 2.2 Regresión<br>\n",
    ">>> 2.2.1 Regresión lineal<br>\n",
    ">>> 2.2.2 Regresión polinómica<br>\n",
    ">>> 2.2.3 Redes neuronales profundas<br>\n",
    ">>\n",
    ">> 2.3 Sobre-entrenamiento y generalización<br>\n",
    ">> 2.4 El teorema *no free lunch*<br>\n",
    ">\n",
    "> 3 Aprendizaje no supervisado<br>\n",
    ">> 3.1 Clustering<br>\n",
    ">> 3.2 Descubriendo \"factores de variación\" latentes<br>\n",
    ">> 3.3 Evaluación del aprendizaje no supervisado<br>\n",
    ">\n",
    "> 4 Aprendizaje por refuerzo<br>\n",
    ">\n",
    "> 5 Datos<br>\n",
    ">> 5.1 Algunos conjuntos de imágenes comunes<br>\n",
    ">>> 5.1.1 MNIST<br>\n",
    ">>> 5.1.2 EMNIST<br>\n",
    ">>> 5.1.3 Fashion-MNIST<br>\n",
    ">>> 5.1.4 CIFAR-10 y CIFAR-100<br>\n",
    ">>> 5.1.5 ImageNet<br>\n",
    ">>\n",
    ">> 5.2 Algunos conjuntos de texto comunes<br>\n",
    ">>> 5.2.1 Clasificación de texto<br>\n",
    ">>> 5.2.2 Traducción automática<br>\n",
    ">>> 5.2.3 Otras tareas seq2seq<br>\n",
    ">>> 5.2.4 Modelado del lenguaje<br>\n",
    ">>\n",
    ">> 5.3 Preproceso de datos de entrada discretos<br>\n",
    ">>> 5.3.1 Codificación one-hot<br>\n",
    ">>> 5.3.2 Cruce de variables<br>\n",
    ">>\n",
    ">> 5.4 Preproceso de texto<br>\n",
    ">>> 5.4.1 El modelo bolsa de palabras<br>\n",
    ">>> 5.4.2 Representación TF-IDF<br>\n",
    ">>> 5.4.3 Word embeddings<br>\n",
    ">>> 5.4.4 Palabras fuera de vocabulario<br>\n",
    ">>\n",
    ">> 5.5 Datos perdidos<br>\n",
    ">\n",
    "> 6 Discusión<br>\n",
    ">> 6.1 El aprendizaje automático y otras áreas<br>\n",
    ">> 6.2 Consideraciones"
   ]
  }
 ],
 "metadata": {
  "kernelspec": {
   "display_name": "Python 3 (ipykernel)",
   "language": "python",
   "name": "python3"
  },
  "language_info": {
   "codemirror_mode": {
    "name": "ipython",
    "version": 3
   },
   "file_extension": ".py",
   "mimetype": "text/x-python",
   "name": "python",
   "nbconvert_exporter": "python",
   "pygments_lexer": "ipython3",
   "version": "3.11.6"
  },
  "vscode": {
   "interpreter": {
    "hash": "e7370f93d1d0cde622a1f8e1c04877d8463912d04d973331ad4851f04de6915a"
   }
  }
 },
 "nbformat": 4,
 "nbformat_minor": 4
}
