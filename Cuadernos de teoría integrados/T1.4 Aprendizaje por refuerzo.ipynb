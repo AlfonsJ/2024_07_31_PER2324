{
 "cells": [
  {
   "attachments": {},
   "cell_type": "markdown",
   "metadata": {},
   "source": [
    "# 4 Aprendizaje por refuerzo\n",
    "\n",
    "**Aprendizaje por refuerzo (RL, reinforcement learning):** $\\;$ el sistema o **agente** interactúa con su entorno mediante una **política** $\\boldsymbol{a}=\\pi(\\boldsymbol{x})$ que especifica qué acción tomar en respuesta a cada entrada posible $\\boldsymbol{x}$ (derivada del estado del entorno)\n",
    "* **También llamado learning with a critic:** $\\;$ por comparación con el **aprendizaje supervisado** o **learning with a teacher,** pues al sistema no se le enseña la acción óptima a tomar en cada paso, sino que recibe una **recompensa (o castigo)** ocasional en respuesta a las acciones que toma\n",
    "* *Ejemplos:* $\\;$ movimiento de la nave en Space Invaders o el control motor de un robot que debe realizar cierta tarea\n",
    "\n",
    "**Gran aplicabilidad y dificultad:** $\\;$ aunque es muy popular por su gran aplicabilidad, es muy difícil pues la recompensa solo se obtiene ocasionalmente y el agente puede no conocer cuáles de sus múltiples acciones la originaron\n",
    "* Para compensar la poca información aportada por la recompensa, se suelen explotar otras fuentes de información como **demostraciones expertas** usadas de manera supervisada y **datos no supervisados** de un sistema no supervisado para descubrir la estructura del entorno"
   ]
  }
 ],
 "metadata": {
  "kernelspec": {
   "display_name": "Python 3 (ipykernel)",
   "language": "python",
   "name": "python3"
  },
  "language_info": {
   "codemirror_mode": {
    "name": "ipython",
    "version": 3
   },
   "file_extension": ".py",
   "mimetype": "text/x-python",
   "name": "python",
   "nbconvert_exporter": "python",
   "pygments_lexer": "ipython3",
   "version": "3.11.6"
  },
  "vscode": {
   "interpreter": {
    "hash": "e7370f93d1d0cde622a1f8e1c04877d8463912d04d973331ad4851f04de6915a"
   }
  }
 },
 "nbformat": 4,
 "nbformat_minor": 4
}
