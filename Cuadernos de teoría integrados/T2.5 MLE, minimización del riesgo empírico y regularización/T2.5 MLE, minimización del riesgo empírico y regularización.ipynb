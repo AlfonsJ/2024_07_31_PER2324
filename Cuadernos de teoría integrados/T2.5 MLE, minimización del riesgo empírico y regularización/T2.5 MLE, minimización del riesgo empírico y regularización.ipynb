{
 "cells": [
  {
   "cell_type": "markdown",
   "metadata": {},
   "source": [
    "# T2.5 MLE, minimización del riesgo empírico y regularización"
   ]
  },
  {
   "cell_type": "markdown",
   "metadata": {},
   "source": [
    "**Índice**\n",
    "\n",
    "> 1 Estimación máximo-verosímil<br>\n",
    ">> 1.1 Definición<br>\n",
    ">>> 1.1.1 Estimador máximo-verosímil (MLE)<br>\n",
    ">>> 1.1.2 MLE con la conjunta<br>\n",
    ">>\n",
    ">> 1.2 MLE para la Bernoulli (incondicional)<br>\n",
    ">> 1.3 MLE para la categórica (incondicional)<br>\n",
    ">> 1.4 MLE para la Gaussiana univariada (incondicional)<br>\n",
    ">> 1.5 MLE para la Gaussiana multivariada (incondicional)<br>\n",
    ">> 1.6 MLE para regresión (homocedástica) lineal (condicional)<br>\n",
    ">\n",
    "> 2 Minimización del riesgo empírico<br>\n",
    ">> 2.1 Definición y ejemplo: minimizar el error de clasificación<br>\n",
    ">>> 2.1.1 Definición<br>\n",
    ">>> 2.1.2 Ejemplo: minimizar el error de clasificación<br>\n",
    ">>\n",
    ">> 2.2 Pérdida subrogada<br>\n",
    ">>> 2.2.1 Caso binario<br>\n",
    ">\n",
    "> 3 Regularización<br>\n",
    ">> 3.1 Definición<br>\n",
    ">>> 3.1.1 Regularización<br>\n",
    ">>> 3.1.2 Estimación maximum a posteriori (MAP)<br>\n",
    ">>\n",
    ">> 3.2 Elección del regularizador mediante validación<br>\n",
    ">> 3.3 Validación cruzada<br>\n",
    ">>> 3.3.1 La regla \"un error estándar\"<br>\n",
    ">>> 3.3.2 Ejemplo: regresión de cresta<br>\n",
    ">>\n",
    ">> 3.4 Terminación temprana<br>\n",
    ">> 3.5 Uso de más datos<br>"
   ]
  },
  {
   "cell_type": "markdown",
   "metadata": {},
   "source": [
    "# 1 Estimación máximo-verosímil"
   ]
  },
  {
   "attachments": {},
   "cell_type": "markdown",
   "metadata": {},
   "source": [
    "## 1.1 Definición"
   ]
  },
  {
   "cell_type": "markdown",
   "metadata": {},
   "source": [
    "### 1.1.1 Estimador máximo-verosímil (MLE)\n",
    "\n",
    "**Estimador máximo-verosímil (MLE):**  $\\;$ de un vector de parámetros $\\;\\boldsymbol{\\theta}$ con respecto a un conjunto de $N$ datos $\\;\\mathcal{D}=\\{(\\boldsymbol{x}_n,\\boldsymbol{y}_n)\\}$ independientes e idénticamente distribuidos según una fdp (o fp) $\\;p(\\boldsymbol{y}\\mid\\boldsymbol{x}, \\boldsymbol{\\theta})$\n",
    "$$\\begin{align*}\n",
    "\\hat{\\boldsymbol{\\theta}}_{\\text{mle}}%\n",
    "&=\\operatorname*{argmax}\\limits_{\\boldsymbol{\\theta}}\\; \\operatorname{L}(\\boldsymbol{\\theta})%\n",
    "\\quad\\text{con}\\quad%\n",
    "\\operatorname{L}(\\boldsymbol{\\theta})%\n",
    "=p(\\mathcal{D}\\mid\\boldsymbol{\\theta})%\n",
    "=\\prod_{n=1}^N \\;p(\\boldsymbol{y}_n\\mid\\boldsymbol{x}_n, \\boldsymbol{\\theta})\\\\%\n",
    "&=\\operatorname*{argmax}\\limits_{\\boldsymbol{\\theta}}\\; \\operatorname{LL}(\\boldsymbol{\\theta})%\n",
    "\\quad\\text{con}\\quad%\n",
    "\\operatorname{LL}(\\boldsymbol{\\theta})%\n",
    "=\\log \\operatorname{L}(\\boldsymbol{\\theta})%\n",
    "=\\sum_{n=1}^N \\;\\log p(\\boldsymbol{y}_n\\mid\\boldsymbol{x}_n, \\boldsymbol{\\theta})\\\\%\n",
    "&=\\operatorname*{argmin}\\limits_{\\boldsymbol{\\theta}}\\; \\operatorname{NLL}(\\boldsymbol{\\theta})%\n",
    "\\quad\\text{con}\\quad%\n",
    "\\operatorname{NLL}(\\boldsymbol{\\theta})%\n",
    "=-\\operatorname{LL}(\\boldsymbol{\\theta})%\n",
    "=-\\sum_{n=1}^N \\;\\log p(\\boldsymbol{y}_n\\mid\\boldsymbol{x}_n, \\boldsymbol{\\theta})\n",
    "\\end{align*}$$"
   ]
  },
  {
   "cell_type": "markdown",
   "metadata": {},
   "source": [
    "### 1.1.2 MLE con la conjunta\n",
    "\n",
    "**MLE con la conjunta:** $\\;$ de un vector de parámetros $\\;\\boldsymbol{\\theta}$ con respecto a un conjunto de $N$ datos $\\;\\mathcal{D}=\\{(\\boldsymbol{x}_n,\\boldsymbol{y}_n)\\}$ independientes e idénticamente distribuidos según una fdp (o fp) $\\;p(\\boldsymbol{x}, \\boldsymbol{y}\\mid\\boldsymbol{\\theta})$\n",
    "$$\\hat{\\boldsymbol{\\theta}}_{\\text{mle}}=\\operatorname*{argmin}\\limits_{\\boldsymbol{\\theta}}-\\sum_{n=1}^N \\log p(\\boldsymbol{x}_n,\\boldsymbol{y}_n\\mid\\boldsymbol{\\theta})$$\n",
    "\n",
    "**El MLE con la conjunta es distinto del MLE (con la condicional):**\n",
    "$$\\begin{align*}\n",
    "\\hat{\\boldsymbol{\\theta}}_{\\text{mle}}%\n",
    "&=\\operatorname*{argmin}\\limits_{\\boldsymbol{\\theta}} -\\sum_{n=1}^N \\log p(\\boldsymbol{y}_n\\mid\\boldsymbol{x}_n,\\boldsymbol{\\theta})\\\\%\n",
    "&=\\operatorname*{argmin}\\limits_{\\boldsymbol{\\theta}} -\\sum_{n=1}^N \\log %\n",
    "\\frac{p(\\boldsymbol{x}_n,\\boldsymbol{y}_n\\mid\\boldsymbol{\\theta})}{p(\\boldsymbol{x}_n\\mid\\boldsymbol{\\theta})}\\\\%\n",
    "&=\\operatorname*{argmin}\\limits_{\\boldsymbol{\\theta}} -\\sum_{n=1}^N \\log p(\\boldsymbol{x}_n,\\boldsymbol{y}_n\\mid\\boldsymbol{\\theta})%\n",
    "\\underbrace{-\\log p(\\boldsymbol{x}_n\\mid\\boldsymbol{\\theta})}_{\\text{depende de toda $\\boldsymbol{y}$}}%\n",
    "\\end{align*}$$\n",
    "\n",
    "**Cálculo del MLE con la conjunta para clasificación en clases de parámetros independientes:** $\\;1+C\\,$ problemas independientes\n",
    "\n",
    "Si $\\,y\\in\\{1,\\dotsc,C\\}\\;$ y $\\;\\boldsymbol{\\theta}=(\\{\\pi_c\\},\\{\\boldsymbol{\\theta}_c\\})\\;$ con $\\;p(y=c\\mid\\boldsymbol{\\theta})=\\pi_c\\;$ y $\\;p(\\boldsymbol{x}\\mid y=c,\\boldsymbol{\\theta})=p(\\boldsymbol{x}\\mid\\boldsymbol{\\theta}_c),\\;$ entonces:\n",
    "$$\\begin{align*}\n",
    "\\hat{\\boldsymbol{\\theta}}_{\\text{mle}}%\n",
    "&=\\operatorname*{argmin}\\limits_{\\boldsymbol{\\theta}} %\n",
    "-\\sum_{n=1}^N \\log p(\\boldsymbol{x}_n,y_n\\mid\\boldsymbol{\\theta})\\\\%\n",
    "&=\\operatorname*{argmin}\\limits_{\\boldsymbol{\\theta}} %\n",
    "-\\sum_{n=1}^N \\log p(y_n\\mid\\{\\pi_c\\})-\\sum_{c=1}^C\\sum_{n:y_n=c}\\log p(\\boldsymbol{x}_n\\mid\\boldsymbol{\\theta}_c)%\n",
    "=\\{\\hat{\\pi}_c\\},\\{\\hat{\\boldsymbol{\\theta}}_c\\}\\\\[5mm]%\n",
    "\\{\\hat{\\pi}_c\\}%\n",
    "&=\\operatorname*{argmin}\\limits_{\\{\\pi_c\\}}-\\sum_{n=1}^N \\log p(y_n\\mid\\{\\pi_c\\})%\n",
    "\\;\\to\\;\\hat{\\pi}_c=\\frac{N_c}{N}\\\\\n",
    "\\hat{\\boldsymbol{\\theta}}_c%\n",
    "&=\\operatorname*{argmin}\\limits_{\\boldsymbol{\\theta}_c} %\n",
    "-\\sum_{n:y_n=c}\\log p(\\boldsymbol{x}_n\\mid\\boldsymbol{\\theta}_c) \\qquad(c=1,\\dotsc,C)\n",
    "\\end{align*}$$"
   ]
  },
  {
   "attachments": {},
   "cell_type": "markdown",
   "metadata": {},
   "source": [
    "## 1.2 MLE para la Bernoulli (incondicional)"
   ]
  },
  {
   "cell_type": "markdown",
   "metadata": {},
   "source": [
    "**Datos:** $\\quad\\mathcal{D}=\\{y_1,\\ldots,y_N\\},\\quad p(y_n\\mid\\theta)=\\operatorname{Ber}(y\\mid\\theta)$\n",
    "\n",
    "**NLL:** $\\;$ de $\\theta$ con respecto a $\\mathcal{D}$\n",
    "$$\\begin{align*}\n",
    "\\operatorname{NLL}(\\theta)&=-\\log\\prod_{n=1}^N p(y_n\\mid\\theta)%\n",
    "=-\\log\\prod_{n=1}^N \\theta^{\\mathbb{I}(y_n=1)}(1-\\theta)^{\\mathbb{I}(y_n=0)}\\\\%\n",
    "&=-\\sum_{n=1}^N \\mathbb{I}(y_n=1)\\log\\theta + \\mathbb{I}(y_n=0)\\log(1-\\theta)\\\\%\n",
    "&=-[N_1\\log\\theta+N_0\\log(1-\\theta)]%\n",
    "\\quad\\text{con}\\quad%\n",
    "N_1=\\sum_n\\mathbb{I}(y_n=1)%\n",
    "\\quad\\text{y}\\quad%\n",
    "N_0=\\sum_n\\mathbb{I}(y_n=0)\n",
    "\\end{align*}$$\n",
    "\n",
    "**Estadísticos suficientes (de los datos):** $\\;N_1$ y $N_0$ resumen todo lo que necesitamos saber sobre $\\mathcal{D}$\n",
    "\n",
    "**Derivada de la NLL:**\n",
    "$$\\frac{d}{d\\theta}\\operatorname{NLL}(\\theta)=\\frac{-N_1}{\\theta}+\\frac{N_0}{1-\\theta}$$\n",
    "\n",
    "**MLE:** $\\;$ se obtiene igualando la derivada a cero\n",
    "$$\\hat{\\theta}=\\dfrac{N_1}{N}$$\n",
    "\n",
    "**Ejemplo:** $\\;$ MLE de $\\,\\theta\\,$ con $\\,N=100\\,$ datos iid según una $\\,\\operatorname{Ber}(y\\mid\\theta=0.20)$"
   ]
  },
  {
   "cell_type": "code",
   "execution_count": 1,
   "metadata": {},
   "outputs": [
    {
     "name": "stdout",
     "output_type": "stream",
     "text": [
      "Y = [0 1 0 0 0 0 0 0 0 0 0 1 1 0 0 1 1 0 0 0 1 0 0 0 1 0 0 0 1 0 1 0 0 0 0 0 1\n",
      " 0 0 0 0 0 0 0 0 0 0 0 0 1 1 0 1 1 0 0 0 1 0 0 1 0 1 0 0 1 0 0 1 0 0 0 1 0\n",
      " 0 0 0 0 0 1 0 0 0 0 0 0 0 0 0 0 0 0 0 0 0 0 0 0 1 0]\n",
      "ht = 0.22\n"
     ]
    }
   ],
   "source": [
    "from scipy.stats import bernoulli\n",
    "t, N = 0.20, 100; Y = bernoulli(t).rvs(N, random_state=23); print(f'Y = {Y}')\n",
    "ht = Y.mean(); print(f'ht = {ht:.2f}')"
   ]
  },
  {
   "attachments": {},
   "cell_type": "markdown",
   "metadata": {},
   "source": [
    "## 1.3 MLE para la categórica (incondicional)"
   ]
  },
  {
   "cell_type": "markdown",
   "metadata": {},
   "source": [
    "**Datos:** $\\quad\\mathcal{D}=\\{y_1,\\ldots,y_N\\},\\quad p(y_n\\mid\\boldsymbol{\\theta})=\\operatorname{Cat}(y\\mid\\boldsymbol{\\theta})$\n",
    "\n",
    "**NLL:** $\\;$ de $\\theta$ con respecto a $\\mathcal{D}$\n",
    "$$\\begin{align*}\n",
    "\\operatorname{NLL}(\\boldsymbol{\\theta})&=-\\log\\prod_{n=1}^N p(y_n\\mid\\boldsymbol{\\theta})%\n",
    "=-\\log\\prod_{n=1}^N\\prod_{c=1}^C \\theta_c^{\\mathbb{I}(y_n=c)}\\\\%\n",
    "&=-\\sum_{n=1}^N\\sum_{c=1}^C \\mathbb{I}(y_n=c)\\log\\theta_c%\n",
    "=-\\sum_{c=1}^C N_c\\log\\theta_c%\n",
    "\\quad\\text{con}\\quad%\n",
    "N_c=\\sum_n\\mathbb{I}(y_n=c)%\n",
    "\\end{align*}$$\n",
    "\n",
    "**Estadísticos suficientes (de los datos):** $\\;\\{N_c\\}$\n",
    "\n",
    "**Lagrangiana:** $\\;$ NLL y la restricción \"$1-\\sum_c\\theta_c=0$\" añadida junto con un multiplicador de Lagrange $\\lambda$\n",
    "$$\\mathcal{L}(\\boldsymbol{\\theta},\\lambda)=-\\sum_c N_c\\log\\theta_c-\\lambda\\left(1-\\sum_c\\theta_c\\right)$$\n",
    "\n",
    "**Gradiente de la Lagrangiana:**\n",
    "$$\\frac{\\partial\\mathcal{L}}{\\partial\\theta_c}=-\\frac{N_c}{\\theta_c}%\n",
    "\\quad\\text{y}\\quad%\n",
    "\\frac{\\partial\\mathcal{L}}{\\lambda}=-1+\\sum_c\\theta_c$$\n",
    "\n",
    "**MLE:** $\\;$ se obtiene igualando el gradiente de la Lagrangiana a cero\n",
    "$$\\hat{\\theta}_c=\\dfrac{N_c}{N}$$\n",
    "\n",
    "**Ejemplo:** $\\;$ MLE de $\\,\\boldsymbol{\\theta}\\,$ con $\\,N=100\\,$ datos iid según una $\\,\\operatorname{Cat}(y\\mid\\boldsymbol{\\theta}),\\,\\boldsymbol{\\theta}=(0.3, 0.2, 0.5)^t$"
   ]
  },
  {
   "cell_type": "code",
   "execution_count": 1,
   "metadata": {},
   "outputs": [
    {
     "name": "stdout",
     "output_type": "stream",
     "text": [
      "Y[:5,:] = [[30 26 44]\n",
      " [33 17 50]\n",
      " [26 23 51]\n",
      " [26 20 54]\n",
      " [31 19 50]]\n",
      "ht = [0.2983 0.1992 0.5025]\n"
     ]
    }
   ],
   "source": [
    "from scipy.stats import multinomial\n",
    "t, N = [0.3, 0.2, 0.5], 100; Y = multinomial(N, t).rvs(N, random_state=23)\n",
    "ht = Y.mean(axis=0) / N; print(f'Y[:5,:] = {Y[:5,:]}\\nht = {ht}')"
   ]
  },
  {
   "attachments": {},
   "cell_type": "markdown",
   "metadata": {},
   "source": [
    "## 1.4 MLE para la Gaussiana univariada (incondicional)"
   ]
  },
  {
   "cell_type": "markdown",
   "metadata": {},
   "source": [
    "**Datos:** $\\quad\\mathcal{D}=\\{y_1,\\ldots,y_N\\},\\quad p(y_n\\mid\\boldsymbol{\\theta})=\\mathcal{N}(y\\mid\\mu, \\sigma^2)$\n",
    "\n",
    "**NLL:** $\\;$ de $\\boldsymbol{\\theta}=(\\mu, \\sigma^2)^t$ con respecto a $\\mathcal{D}$\n",
    "$$\\begin{align*}\n",
    "\\operatorname{NLL}(\\mu, \\sigma^2)&=-\\sum_n\\log\\left[\\left(\\frac{1}{2\\pi\\sigma^2}\\right)^{\\frac{1}{2}}%\n",
    "    \\exp\\left(-\\frac{1}{2\\sigma^2}(y_n-\\mu)^2\\right)\\right]\\\\%\n",
    "  &=\\frac{N}{2}\\log(2\\pi\\sigma^2)+\\frac{1}{2\\sigma^2}\\sum_n(y_n-\\mu)^2\n",
    "\\end{align*}$$\n",
    "\n",
    "**MLE:** $\\;$ se obtiene igualando el gradiente de la NLL a cero\n",
    "$$\\begin{align*}\n",
    "\\frac{\\partial\\operatorname{NLL}}{\\partial\\mu}%\n",
    "&=\\frac{1}{\\sigma^2}\\sum_n(\\mu-y_n)%\n",
    "=\\frac{N}{\\sigma^2}(\\mu-\\bar{y})\\Bigr\\vert_{\\hat{\\boldsymbol{\\theta}}}=0%\n",
    "\\;\\to\\;\\hat{\\mu}=\\bar{y}\\\\%\n",
    "\\frac{\\partial\\operatorname{NLL}}{\\partial\\sigma}%\n",
    "&=\\frac{N}{\\sigma}-\\frac{1}{\\sigma^3}\\sum_n(y_n-\\mu)^2\\Bigr\\vert_{\\hat{\\boldsymbol{\\theta}}}=0%\n",
    "\\;\\to\\;\\hat{\\sigma}^2=\\frac{1}{N}\\sum_n(y_n-\\hat{\\mu})^2%\n",
    "\\end{align*}$$\n",
    "\n",
    "**Estadísticos suficientes:** $\\;$ la media empírica $\\,\\bar{y}\\,$ y la media de cuadrados empírica, $\\,s^2,\\,$ pues $\\,\\hat{\\sigma}^2=s^2-\\bar{y}^2$\n",
    "\n",
    "**Ejemplo:** $\\;$ MLE de $\\,\\boldsymbol{\\theta}\\,$ con $\\,N=100\\,$ datos iid según una $\\,\\mathcal{N}(y\\mid\\mu,\\sigma^2),\\,\\mu=0, \\sigma^2=1$"
   ]
  },
  {
   "cell_type": "code",
   "execution_count": 1,
   "metadata": {},
   "outputs": [
    {
     "name": "stdout",
     "output_type": "stream",
     "text": [
      "m = 0.0000  v = 1.0000  hm = 0.0011  hv = 0.9063\n"
     ]
    }
   ],
   "source": [
    "import numpy as np; from scipy.stats import norm\n",
    "m, v, N = 0.0, 1.0, 100; Y = norm(m, v).rvs(N, random_state=23)\n",
    "hm = Y.mean() / N; s2 = np.square(Y).mean(); hv = s2 - hm * hm\n",
    "print(f'm = {m:.4f}  v = {v:.4f}  hm = {hm:.4f}  hv = {hv:.4f}')"
   ]
  },
  {
   "attachments": {},
   "cell_type": "markdown",
   "metadata": {},
   "source": [
    "## 1.5 MLE para la Gaussiana multivariada (incondicional)"
   ]
  },
  {
   "cell_type": "markdown",
   "metadata": {},
   "source": [
    "**Datos:** $\\quad\\mathcal{D}=\\{\\boldsymbol{y}_1,\\ldots,\\boldsymbol{y}_N\\},\\quad p(\\boldsymbol{y}_n\\mid\\boldsymbol{\\theta})=\\mathcal{N}(\\boldsymbol{y}\\mid\\boldsymbol{\\mu}, \\mathbf{\\Sigma})$\n",
    "\n",
    "**NLL:** $\\;$ de $\\boldsymbol{\\theta}=(\\operatorname{vec}(\\boldsymbol{\\mu});\\operatorname{vec}(\\mathbf{\\Sigma}))$ con respecto a $\\mathcal{D}$\n",
    "$$\\begin{align*}\n",
    "\\operatorname{NLL}(\\boldsymbol{\\theta})%\n",
    "&=-\\sum_n\\log\\left[(2\\pi)^{-D/2}\\lvert\\mathbf{\\Sigma}\\rvert^{-1/2}\\exp\\left(%\n",
    "-\\frac{1}{2}(\\boldsymbol{y}_n-\\boldsymbol{\\mu})^t\\mathbf{\\Sigma}^{-1}(\\boldsymbol{y}_n-\\boldsymbol{\\mu})\\right)\\right]\\\\\n",
    "&=\\underbrace{-\\frac{ND}{2}\\log(2\\pi)}_{\\text{constante irrelevante}}+\\frac{N}{2}\\log\\lvert\\mathbf{\\Sigma}\\rvert%\n",
    "+\\frac{1}{2}\\sum_n(\\boldsymbol{y}_n-\\boldsymbol{\\mu})^t\\mathbf{\\Sigma}^{-1}(\\boldsymbol{y}_n-\\boldsymbol{\\mu})\n",
    "\\end{align*}$$\n",
    "\n",
    "**MLE de $\\boldsymbol{\\mu}$:** $\\;$ ver [Scalar-by-vector identities (en formato numerador)](https://en.wikipedia.org/wiki/Matrix_calculus#Scalar-by-vector_identities)\n",
    "$$\\begin{align*}\n",
    "\\frac{\\partial\\operatorname{NLL}}{\\partial\\boldsymbol{\\mu}^t}&=\\frac{1}{2}\\sum_n\\frac{\\partial(\\boldsymbol{y}_n-\\boldsymbol{\\mu})^t\\mathbf{\\Sigma}^{-1}(\\boldsymbol{y}_n-\\boldsymbol{\\mu})}{\\partial\\boldsymbol{\\mu}^t}\\\\\n",
    "&=\\frac{1}{2}\\sum_n(\\boldsymbol{y}_n-\\boldsymbol{\\mu})^t\\mathbf{\\Sigma}^{-1}\\frac{\\partial(\\boldsymbol{y}_n-\\boldsymbol{\\mu})}{\\partial\\boldsymbol{\\mu}^t}+(\\boldsymbol{y}_n-\\boldsymbol{\\mu})^t\\mathbf{\\Sigma}^{-t}\\frac{\\partial(\\boldsymbol{y}_n-\\boldsymbol{\\mu})}{\\partial\\boldsymbol{\\mu}^t}\\\\\n",
    "&=\\frac{1}{2}\\sum_n-2\\mathbf{\\Sigma}^{-1}(\\boldsymbol{y}_n-\\boldsymbol{\\mu})\\\\%\n",
    "&=-\\mathbf{\\Sigma}^{-1}\\sum_n(\\boldsymbol{y}_n-\\boldsymbol{\\mu})\\Bigr\\vert_{\\hat{\\boldsymbol{\\theta}}}=\\boldsymbol{0}%\n",
    "\\;\\to\\;\\hat{\\boldsymbol{\\mu}}=\\bar{\\boldsymbol{y}}%\n",
    "\\end{align*}$$\n",
    "\n",
    "**MLE de $\\mathbf{\\Sigma}$:** $\\;$ ver [Scalar-by-matrix identities (en formato numerador)](https://en.wikipedia.org/wiki/Matrix_calculus#Scalar-by-matrix_identities)\n",
    "$$\\begin{align*}\n",
    "\\frac{\\partial\\operatorname{NLL}}{\\partial\\mathbf{\\Sigma}}%\n",
    "&=\\frac{N}{2}\\mathbf{\\Sigma}^{-1}+\\frac{1}{2}\\sum_n\\frac{\\partial(\\boldsymbol{y}_n-\\boldsymbol{\\mu})^t\\mathbf{\\Sigma}^{-1}(\\boldsymbol{y}_n-\\boldsymbol{\\mu})}{\\partial\\mathbf{\\Sigma}}\\\\\n",
    "&=\\frac{N}{2}\\mathbf{\\Sigma}^{-1}+\\frac{1}{2}\\sum_n\\frac{\\partial\\operatorname{tr}(\\mathbf{\\Sigma}^{-1}(\\boldsymbol{y}_n-\\boldsymbol{\\mu})(\\boldsymbol{y}_n-\\boldsymbol{\\mu})^t)}{\\partial\\mathbf{\\Sigma}}\\\\\n",
    "&=\\frac{N}{2}\\mathbf{\\Sigma}^{-1}+\\frac{1}{2}\\sum_n-\\mathbf{\\Sigma}^{-1}(\\boldsymbol{y}_n-\\boldsymbol{\\mu})(\\boldsymbol{y}_n-\\boldsymbol{\\mu})^t\\mathbf{\\Sigma}^{-1}\\Bigr\\vert_{\\hat{\\boldsymbol{\\theta}}}=\\mathbf{0}\\\\%\n",
    "&\\to\\;N\\hat{\\mathbf{\\Sigma}}^{-1}=\\hat{\\mathbf{\\Sigma}}^{-1}\\sum_n(\\boldsymbol{y}_n-\\hat{\\boldsymbol{\\mu}})(\\boldsymbol{y}_n-\\hat{\\boldsymbol{\\mu}})^t\\hat{\\mathbf{\\Sigma}}^{-1}\\\\\n",
    "&\\to\\;\\hat{\\mathbf{\\Sigma}}=\\frac{1}{N}\\sum_n(\\boldsymbol{y}_n-\\hat{\\boldsymbol{\\mu}})(\\boldsymbol{y}_n-\\hat{\\boldsymbol{\\mu}})^t\n",
    "\\end{align*}$$\n",
    "\n",
    "**Estadísticos suficientes:** $\\;\\,\\bar{y}\\,$ y $\\,\\displaystyle\\sum_n\\boldsymbol{y}_n\\boldsymbol{y}_n^t\\,$ pues $\\,\\displaystyle\\hat{\\mathbf{\\Sigma}}=\\frac{1}{N}\\sum_n\\boldsymbol{y}_n\\boldsymbol{y}_n^t-\\hat{\\boldsymbol{\\mu}}\\hat{\\boldsymbol{\\mu}}^t$\n",
    "\n",
    "**Ejemplo:** $\\;$ MLE de $\\,\\boldsymbol{\\theta}\\,$ con $\\,N=10000\\,$ datos iid según una $\\,\\mathcal{N}(\\boldsymbol{y}\\mid\\boldsymbol{\\mu},\\mathbf{\\Sigma}),\\,\\boldsymbol{\\mu}=\\boldsymbol{0},\\,\\mathbf{\\Sigma}=[2, 1.8; 1.8, 2]$"
   ]
  },
  {
   "cell_type": "code",
   "execution_count": 1,
   "metadata": {},
   "outputs": [
    {
     "name": "stdout",
     "output_type": "stream",
     "text": [
      "hm = [0.03462052 0.0341259 ]\n",
      "hS = [[1.97661038 1.77726855]\n",
      " [1.77726855 1.98550169]]\n",
      "np.cov = [[1.97777495 1.77845025]\n",
      " [1.77845025 1.98670027]]\n"
     ]
    }
   ],
   "source": [
    "import numpy as np; from scipy.stats import multivariate_normal\n",
    "m = np.array([.0, .0]); S = np.array([[2., 1.8], [1.8, 2.]]); N = 10000\n",
    "Y = multivariate_normal(mean=m, cov=S).rvs(N, random_state=23)\n",
    "hm = Y.mean(axis=0); hS = np.dot(Y.T, Y) / N - np.dot(hm.T, hm)\n",
    "print(f'hm = {hm}\\nhS = {hS}\\nnp.cov = {np.cov(Y, rowvar=False, bias=True)}')"
   ]
  },
  {
   "attachments": {},
   "cell_type": "markdown",
   "metadata": {},
   "source": [
    "## 1.6 MLE para regresión (homocedástica) lineal (condicional)"
   ]
  },
  {
   "cell_type": "markdown",
   "metadata": {},
   "source": [
    "**Datos:** $\\quad\\mathcal{D}=\\{(\\boldsymbol{x}_n,y_n)\\},\\quad p(y_n\\mid\\boldsymbol{x}_n,\\boldsymbol{\\theta})=\\mathcal{N}(y_n\\mid\\boldsymbol{w}^t\\boldsymbol{x}_n, \\sigma^2),\\;\\sigma^2\\,$ fija \n",
    "\n",
    "**NLL:** $\\;$ de $\\boldsymbol{w}$ con respecto a $\\mathcal{D}$\n",
    "$$\\begin{align*}\n",
    "\\operatorname{NLL}(\\boldsymbol{w})&=-\\sum_n\\log\\left[\\left(\\frac{1}{2\\pi\\sigma^2}\\right)^{\\frac{1}{2}}%\n",
    "    \\exp\\left(-\\frac{1}{2\\sigma^2}(y_n-\\boldsymbol{w}^t\\boldsymbol{x}_n)^2\\right)\\right]\\\\%\n",
    "  &=\\frac{N}{2}\\log(2\\pi\\sigma^2)+\\frac{1}{2\\sigma^2}\\sum_n(y_n-\\boldsymbol{w}^t\\boldsymbol{x}_n)^2\n",
    "\\end{align*}$$\n",
    "\n",
    "**Residual sum of squares (RSS):** $\\;$ equivalente a la NLL\n",
    "$$\\operatorname{RSS}(\\boldsymbol{w})=\\sum_n r_n^2%\n",
    "\\quad\\text{con}\\quad r_n=y_n-\\boldsymbol{w}^t\\boldsymbol{x}_n$$\n",
    "\n",
    "**Mean squared error (MSE) y root MSE (RMSE):** $\\;$ equivalentes a la NLL y RSS\n",
    "$$\\operatorname{MSE}(\\boldsymbol{w})=\\frac{1}{N}\\operatorname{RSS}(\\boldsymbol{w})%\n",
    "\\quad\\text{y}\\quad%\n",
    "\\operatorname{RMSE}(\\boldsymbol{w})=\\sqrt{\\operatorname{MSE}(\\boldsymbol{w})}$$\n",
    "\n",
    "**MLE de $\\boldsymbol{w}$:** $\\;$ con notación matricial, $\\,\\mathbf{X}=[\\boldsymbol{x}_1^t;\\ldots;\\boldsymbol{x}_N^t]\\;$ y $\\;\\boldsymbol{y}=(y_1,\\dotsc,y_N)^t$ \n",
    "$$\\begin{align*}\n",
    "\\frac{\\partial\\operatorname{RSS}}{\\partial\\boldsymbol{w}^t}%\n",
    "&=\\frac{\\partial(\\boldsymbol{y}-\\mathbf{X}\\boldsymbol{w})^t(\\boldsymbol{y}-\\mathbf{X}\\boldsymbol{w})}{\\partial\\boldsymbol{w}^t}\\\\\n",
    "&=\\frac{\\partial(\\boldsymbol{y}^t-\\boldsymbol{w}^t\\mathbf{X}^t)(\\boldsymbol{y}-\\mathbf{X}\\boldsymbol{w})}{\\partial\\boldsymbol{w}^t}\\\\\n",
    "&=\\frac{\\partial(\\boldsymbol{y}^t\\boldsymbol{y}-2\\boldsymbol{w}^t\\mathbf{X}^t\\boldsymbol{y}+\\boldsymbol{w}^t\\mathbf{X}^t\\mathbf{X}\\boldsymbol{w})}{\\partial\\boldsymbol{w}^t}\\\\\n",
    "&=-2\\mathbf{X}^t\\boldsymbol{y}+2\\mathbf{X}^t\\mathbf{X}\\boldsymbol{w}\\vert_{\\hat{\\boldsymbol{w}}}=\\boldsymbol{0}\\\\%\n",
    "&\\;\\to\\mathbf{X}^t\\mathbf{X}\\hat{\\boldsymbol{w}}=\\mathbf{X}^t\\boldsymbol{y}\\;\\to\\hat{\\boldsymbol{w}}=(\\mathbf{X}^t\\mathbf{X})^{-1}\\mathbf{X}^t\\boldsymbol{y}\n",
    "\\end{align*}$$\n",
    "\n",
    "**Ordinary least squares (OLS):** $\\;$ nombre usual que se la da al MLE de $\\boldsymbol{w}$"
   ]
  },
  {
   "attachments": {},
   "cell_type": "markdown",
   "metadata": {},
   "source": [
    "**Ejemplo:** $\\;p(y_n\\mid x_n,m,c,\\sigma^2)=\\mathcal{N}(y_n\\mid mx_n + c, \\sigma^2),\\,\\mathcal{D}=\\{(x_n,y_n)\\}=\\{(0,0),(1,0.5),(1,1.5),(2,2)\\}$"
   ]
  },
  {
   "cell_type": "markdown",
   "metadata": {},
   "source": [
    "$$\\begin{align*}\n",
    "\\boldsymbol{w}&=(c, m)^t\\qquad\\mathbf{X}=[1, 0; 1, 1; 1, 1; 1, 2]\\qquad\\boldsymbol{y}=(0,1/2,3/2,2)\\\\\n",
    "\\mathbf{X}^t\\mathbf{X}&=\\begin{pmatrix}1&1&1&1\\\\0&1&1&2\\end{pmatrix}\\begin{pmatrix}1&0\\\\1&1\\\\1&1\\\\1&2\\end{pmatrix}=\\begin{pmatrix}4&4\\\\4&6\\end{pmatrix}\\\\\n",
    "(\\mathbf{X}^t\\mathbf{X})^{-1}&=\\frac{1}{8}\\begin{pmatrix}4&4\\\\4&6\\end{pmatrix}=\\begin{pmatrix}3/4&-1/2\\\\1/2&1/2\\end{pmatrix}\\\\\n",
    "(\\mathbf{X}^t\\mathbf{X})^{-1}\\mathbf{X}^t&=\\begin{pmatrix}3/4&-1/2\\\\1/2&1/2\\end{pmatrix}\\begin{pmatrix}1&1&1&1\\\\0&1&1&2\\end{pmatrix}=\\begin{pmatrix}3/4&1/4&1/4&-1/4\\\\-1/2&0&0&-1/2\\end{pmatrix}\\\\\n",
    "\\hat{\\boldsymbol{w}}&=\\begin{pmatrix}3/4&1/4&1/4&-1/4\\\\-1/2&0&0&-1/2\\end{pmatrix}\\begin{pmatrix}0\\\\1/2\\\\3/2\\\\2\\end{pmatrix}=(0,1)^t\\\\\n",
    "\\hat{\\boldsymbol{y}}&=\\mathbf{X}\\hat{\\boldsymbol{w}}=\\begin{pmatrix}1&0\\\\1&1\\\\1&1\\\\1&2\\end{pmatrix}\\begin{pmatrix}0\\\\1\\end{pmatrix}=\\begin{pmatrix}0\\\\1\\\\1\\\\2\\end{pmatrix}\\\\\n",
    "\\operatorname{RSS}(\\hat{\\boldsymbol{w}})&=(\\boldsymbol{y}-\\hat{\\boldsymbol{y}})^t(\\boldsymbol{y}-\\hat{\\boldsymbol{y}})=(0,1/2,-1/2,0)(0,1/2,-1/2,0)^t=1/2\n",
    "\\end{align*}$$"
   ]
  },
  {
   "cell_type": "code",
   "execution_count": 1,
   "metadata": {},
   "outputs": [
    {
     "name": "stdout",
     "output_type": "stream",
     "text": [
      "hw = [0. 1.] RSS = 0.5\n",
      "np.linalg.lstsq: hw = [0. 1.] RSS = 0.5\n"
     ]
    },
    {
     "data": {
      "image/png": "[encoded data removed]",
      "text/plain": [
       "<Figure size 640x480 with 1 Axes>"
      ]
     },
     "metadata": {},
     "output_type": "display_data"
    }
   ],
   "source": [
    "import numpy as np; import matplotlib.pyplot as plt\n",
    "X = np.array([0.0, 1.0, 1.0, 2.0]); N = len(X); Xh = np.c_[np.ones(N), X]\n",
    "y = np.array([0.0, 0.5, 1.5, 2.0]); hw = np.linalg.inv(Xh.T @ Xh) @ Xh.T @ y\n",
    "y_pred = Xh @ hw; RSS = np.square(y - y_pred).sum(); print(f'hw = {hw} RSS = {RSS}')\n",
    "[m, c], [r], _, _ = np.linalg.lstsq(np.c_[X, np.ones(N)], y, rcond=None)\n",
    "print(f'np.linalg.lstsq: hw = {hw} RSS = {RSS}')\n",
    "plt.plot(X, y, 'o', markersize=10); plt.plot(X, m*X + c, 'r'); plt.grid(True)"
   ]
  },
  {
   "cell_type": "markdown",
   "metadata": {},
   "source": [
    "# 2 Minimización del riesgo empírico"
   ]
  },
  {
   "attachments": {},
   "cell_type": "markdown",
   "metadata": {},
   "source": [
    "## 2.1 Definición y ejemplo: minimizar el error de clasificación"
   ]
  },
  {
   "cell_type": "markdown",
   "metadata": {},
   "source": [
    "### 2.1.1 Definición\n",
    "\n",
    "**MLE:** $\\;$ minimiza la neg-log-verosimilitud\n",
    "$$\\hat{\\boldsymbol{\\theta}}_{\\text{mle}}=\\operatorname*{argmin}_{\\boldsymbol{\\theta}}\\mathcal{L}(\\boldsymbol{\\theta})%\n",
    "\\quad\\text{con}\\quad%\n",
    "\\mathcal{L}(\\boldsymbol{\\theta})%\n",
    "=\\frac{1}{N}\\sum_{n=1}^N \\;-\\log p(\\boldsymbol{y}_n\\mid\\boldsymbol{x}_n, \\boldsymbol{\\theta})$$\n",
    "**Empirical risk minimization (ERM):** $\\;$ generaliza MLE sustituyendo la log-pérdida por una pérdida genérica\n",
    "$$\\hat{\\boldsymbol{\\theta}}_{\\text{erm}}=\\operatorname*{argmin}_{\\boldsymbol{\\theta}}\\mathcal{L}(\\boldsymbol{\\theta})%\n",
    "\\quad\\text{con}\\quad%\n",
    "\\mathcal{L}(\\boldsymbol{\\theta})%\n",
    "=\\frac{1}{N}\\sum_{n=1}^N\\ell(\\boldsymbol{y}_n, \\boldsymbol{\\theta}; \\boldsymbol{x}_n)$$"
   ]
  },
  {
   "cell_type": "markdown",
   "metadata": {},
   "source": [
    "### 2.1.2 Ejemplo: minimizar el error de clasificación\n",
    "\n",
    "**Pérdida 01 de un clasificador $f(\\boldsymbol{x}_n; \\boldsymbol{\\theta}):$**\n",
    "$$\\ell_{01}(\\boldsymbol{y}_n, \\boldsymbol{\\theta}; \\boldsymbol{x}_n)%\n",
    "=\\begin{cases}\n",
    "0 & \\text{si $\\boldsymbol{y}_n=f(\\boldsymbol{x}_n; \\boldsymbol{\\theta}$})\\\\%\n",
    "1 & \\text{si $\\boldsymbol{y}_n\\neq f(\\boldsymbol{x}_n;\\boldsymbol{\\theta})$}%\n",
    "\\end{cases}$$\n",
    "\n",
    "**Riesgo empírico con pérdida 01:** $\\;$ es el **error de clasificación** (en entrenamiento)\n",
    "$$\\mathcal{L}_{01}(\\boldsymbol{\\theta})%\n",
    "=\\frac{1}{N}\\sum_{n=1}^N\\ell_{01}(\\boldsymbol{y}_n, \\boldsymbol{\\theta}; \\boldsymbol{x}_n)$$\n",
    "\n",
    "**Caso binario:** $\\;$ si las clases son $\\{-1,+1\\}\\,$ y la predicción $\\,\\hat{y}_n=f(\\boldsymbol{x}_n;\\boldsymbol{\\theta})$\n",
    "$$\\mathcal{L}_{01}(\\boldsymbol{\\theta})%\n",
    "=\\frac{1}{N}\\sum_{n=1}^N\\ell_{01}(y_n,\\hat{y}_n)%\n",
    "=\\frac{1}{N}\\sum_{n=1}^N\\mathbb{I}(y_n\\hat{y}_n<0)$$"
   ]
  },
  {
   "attachments": {},
   "cell_type": "markdown",
   "metadata": {},
   "source": [
    "## 2.2 Pérdida subrogada"
   ]
  },
  {
   "cell_type": "markdown",
   "metadata": {},
   "source": [
    "**Surrogate loss function:** $\\;$ cota superior de la pérdida 01 que sea ajustada y más fácil de optimizar"
   ]
  },
  {
   "cell_type": "markdown",
   "metadata": {},
   "source": [
    "### 2.2.1 Caso binario\n",
    "\n",
    "**Clasificador binario:** $\\;$ de log-odds $\\,\\eta=f(\\boldsymbol{x}; \\boldsymbol{\\theta})$ para etiquetas $\\,\\tilde{y}\\in\\{-1, 1\\}$\n",
    "$$p(\\tilde{y}\\mid\\boldsymbol{x},\\boldsymbol{\\theta})=\\sigma(\\tilde{y}\\eta)=\\frac{1}{1+e^{-\\tilde{y}\\eta}}$$\n",
    "\n",
    "**Pérdida 01 en el caso binario:** $\\;\\ell_{01}(\\tilde{y},\\eta)=\\mathbb{I}(\\tilde{y}\\eta<0)$\n",
    "\n",
    "**Margen de seguridad $\\,\\tilde{y}\\eta$:** $\\;$ positivo para que no haya error de clasificación; cuanto mayor sea, mayor seguridad del clasificador"
   ]
  },
  {
   "cell_type": "code",
   "execution_count": 1,
   "metadata": {},
   "outputs": [
    {
     "data": {
      "image/png": "[encoded data removed]",
      "text/plain": [
       "<Figure size 500x300 with 1 Axes>"
      ]
     },
     "metadata": {},
     "output_type": "display_data"
    }
   ],
   "source": [
    "import numpy as np; import matplotlib.pyplot as plt\n",
    "x = np.arange(-3, 3, .01); fig = plt.figure(figsize=(5, 3))\n",
    "plt.axis([-3.1, 3.1, -0.1, 1.1]); plt.plot(x, x <= 0, linewidth=2);"
   ]
  },
  {
   "attachments": {},
   "cell_type": "markdown",
   "metadata": {},
   "source": [
    "**Incovenientes de la pérdida 01:** $\\;$ discontinua en $0$ e ignora el margen de seguridad\n",
    "\n",
    "**Pérdidas subrogadas:** $\\;$ continuas y tienen en cuenta el margen\n",
    "$$\\begin{align*}\n",
    "&\\text{Log-pérdida:}     &&\\ell_{ll}(\\tilde{y},\\eta)=-\\log_2 p(\\tilde{y}\\mid\\eta)=\\log_2(1+e^{-\\tilde{y}\\eta})\\\\%\n",
    "&\\text{Hinge (bisagra):} &&\\ell_{\\text{hinge}}(\\tilde{y},\\eta)=\\max(0,1-\\tilde{y}\\eta)=(1-\\tilde{y}\\eta)_+\\\\%\n",
    "&\\text{Exponencial:}     &&\\ell_{\\text{exp}}(\\tilde{y},\\eta)=e^{-\\tilde{y}\\eta}\\\\%\n",
    "\\end{align*}$$"
   ]
  },
  {
   "cell_type": "code",
   "execution_count": 2,
   "metadata": {},
   "outputs": [
    {
     "data": {
      "image/png": "[encoded data removed]",
      "text/plain": [
       "<Figure size 500x300 with 1 Axes>"
      ]
     },
     "metadata": {},
     "output_type": "display_data"
    }
   ],
   "source": [
    "import numpy as np; import matplotlib.pyplot as plt\n",
    "x = np.arange(-3, 3, .01); fig = plt.figure(figsize=(5, 3))\n",
    "plt.axis([-3.1, 3.1, -0.1, 5.1]); plt.grid()\n",
    "plt.plot(x, x<=0, linewidth=2, label='01')\n",
    "plt.plot(x, np.log2(1 + np.exp(-x)), label='log2')\n",
    "plt.plot(x, (1-x).clip(min=0), label='bisagra')\n",
    "plt.plot(x, np.exp(-x), label='exp'); plt.legend();"
   ]
  },
  {
   "cell_type": "markdown",
   "metadata": {},
   "source": [
    "# 3 Regularización"
   ]
  },
  {
   "cell_type": "markdown",
   "metadata": {},
   "source": [
    "## 3.1 Definición"
   ]
  },
  {
   "cell_type": "markdown",
   "metadata": {},
   "source": [
    "### 3.1.1 Regularización\n",
    "\n",
    "**Sobre-entrenamiento (overfitting):** $\\;$ problema fundamental de MLE y, en general, ERM, asociado a la minimización de la pérdida sobre los datos de entrenamiento, ya que conduce a modelos **sobre-entrenados** que **no generalizan** (bien)\n",
    "\n",
    "**Ejemplo de overfitting:** $\\;$ probabilidad de obtener cara al lanzar una moneda\n",
    "* Lanzamos la moneda $N=3$ veces y obtenemos $3$ caras\n",
    "* El MLE es $\\,\\hat{\\theta}_{\\text{mle}}=N_1/(N_0+N_1)=3/(0+3)=1$\n",
    "* Si usamos $\\operatorname{Ber}(y\\mid\\hat{\\theta}_{\\text{mle}})$ para predecir, predeciremos cara en todos los lanzamientos futuros, cosa bastante inverosímil\n",
    "\n",
    "**Muchos parámetros suele conducir a overfitting:** $\\;$ ya que el modelo tiene suficientes parámetros para explicar los datos, por lo que acaba pareciéndose mucho a la empírica y no es capaz de generalizar\n",
    "\n",
    "**Regularización:** $\\;$ añade una **penalización (penalty)** a la pérdida mediante alguna forma de **penalización de complejidad** $C(\\boldsymbol{\\theta})$ cuyo peso depende de un **parámetro de regularización** $\\,\\lambda\\geq 0$\n",
    "$$\\mathcal{L}(\\boldsymbol{\\theta};\\lambda)=\\left[\\frac{1}{N}\\sum_n \\ell(\\boldsymbol{y}_n,\\boldsymbol{\\theta};\\boldsymbol{x}_n)\\right]+\\lambda\\,C(\\boldsymbol{\\theta})$$\n",
    "\n",
    "**Penalización de complejidad usual:** $\\;C(\\boldsymbol{\\theta})=-\\log p(\\boldsymbol{\\theta})\\,$ donde $p(\\boldsymbol{\\theta})$ es un **prior** más o menos plano"
   ]
  },
  {
   "cell_type": "markdown",
   "metadata": {},
   "source": [
    "### 3.1.2 Estimación maximum a posteriori (MAP)\n",
    "\n",
    "$$\\begin{align*}\n",
    "\\hat{\\boldsymbol{\\theta}}_{\\text{map}}%\n",
    "&=\\operatorname*{argmax}_{\\boldsymbol{\\theta}}\\;\\log p(\\boldsymbol{\\theta}\\mid\\mathcal{D})%\n",
    "&&\\text{asumimos}\\quad p(\\boldsymbol{\\theta}\\mid\\mathcal{D})=\\delta(\\boldsymbol{\\theta}-\\hat{\\boldsymbol{\\theta}}_{\\text{map}})\\\\%\n",
    "&=\\operatorname*{argmax}_{\\boldsymbol{\\theta}}\\;\\log p(\\mathcal{D}\\mid\\boldsymbol{\\theta})+\\log p(\\boldsymbol{\\theta})\\\\\n",
    "&=\\operatorname*{argmin}_{\\boldsymbol{\\theta}}\\;-\\frac{1}{N}\\log p(\\mathcal{D}\\mid\\boldsymbol{\\theta})-\\frac{1}{N}\\log p(\\boldsymbol{\\theta})\\\\\n",
    "&=\\operatorname*{argmin}_{\\boldsymbol{\\theta}}\\;\\operatorname{NLL}(\\boldsymbol{\\theta})-\\lambda\\log p(\\boldsymbol{\\theta})%\n",
    "&&\\text{con log-pérdida y}\\,\\lambda=\\frac{1}{N}\n",
    "\\end{align*}$$"
   ]
  },
  {
   "cell_type": "markdown",
   "metadata": {},
   "source": [
    "## 3.2 Elección del regularizador mediante validación"
   ]
  },
  {
   "cell_type": "markdown",
   "metadata": {},
   "source": [
    "**Efecto del parámetro de regularización $\\lambda$:**\n",
    "* **$\\lambda$ demasiado pequeño:** $\\;$ equivale a minimizar el riesgo empírico y acabar con un modelo **sobre-ajustado**\n",
    "* **$\\lambda$ demasiado grande:** $\\;$ equivale a no desviarse mucho del prior y acabar con un modelo **sub-ajustado**\n",
    "\n",
    "**Validación:** $\\;$ método más popular y sencillo para escoger $\\lambda$\n",
    "* Dividimos los datos en un conjunto de **entrenamiento** $\\,\\mathcal{D}_{\\text{train}}\\,$ y otro de **validación o desarrollo** $\\,\\mathcal{D}_{\\text{valid}}$\n",
    "* Por cada valor de interés de $\\lambda$, el modelo se ajusta con $\\mathcal{D}_{\\text{train}}$ y se evalúa en validación\n",
    "* Elegimos el $\\lambda$ que proporciona mejor rendimiento en validación\n",
    "\n",
    "**Validación con más detalle:**\n",
    "* Riesgo empírico regularizado con un conjunto de datos $\\mathcal{D}$: $\\quad R_{\\lambda}(\\boldsymbol{\\theta},\\mathcal{D})=\\frac{1}{\\lvert\\mathcal{D}\\rvert}\\sum_{(\\boldsymbol{x},\\boldsymbol{y})\\in\\mathcal{D}}\\ell(\\boldsymbol{y},f(\\boldsymbol{x};\\boldsymbol{\\theta}))+\\lambda\\,C(\\boldsymbol{\\theta})$\n",
    "* Por cada valor de interés de $\\lambda$, obtenemos el estimador: $\\quad\\hat{\\boldsymbol{\\theta}}_{\\lambda}(\\mathcal{D}_{\\text{train}})=\\operatorname*{argmin}\\nolimits_{\\boldsymbol{\\theta}} R_{\\lambda}(\\boldsymbol{\\theta},\\mathcal{D}_{\\text{train}})$\n",
    "* **Riesgo poblacional estimado como riesgo en validación:** $\\quad R_{\\lambda}^{\\text{val}}=R_0(\\hat{\\boldsymbol{\\theta}}_{\\lambda}(\\mathcal{D}_{\\text{train}}),\\mathcal{D}_{\\text{valid}})$\n",
    "* Escogemos el regularizador óptimo en validación: $\\quad\\lambda^*=\\operatorname*{argmin}\\nolimits_{\\lambda\\in\\mathcal{S}}\\;R_{\\lambda}^{\\text{val}}$\n",
    "* Finalmente reajustamos el modelo con todo $\\mathcal{D}=\\mathcal{D}_{\\text{train}}\\cup\\mathcal{D}_{\\text{valid}}$: $\\quad\\hat{\\boldsymbol{\\theta}}^*=\\operatorname*{argmin}_{\\boldsymbol{\\theta}}\\;R_{\\lambda^*}(\\boldsymbol{\\theta},\\mathcal{D})$"
   ]
  },
  {
   "cell_type": "markdown",
   "metadata": {},
   "source": [
    "## 3.3 Validación cruzada"
   ]
  },
  {
   "cell_type": "markdown",
   "metadata": {},
   "source": [
    "**Cross validation (CV):** $\\;$ divide los datos en $K$ bloques y, por cada bloque $k\\in\\{1,\\dotsc,K\\}$, ajusta el modelo con todos los bloques menos el $k$-ésimo, el cual se usa como conjunto de validación\n",
    "$$R_{\\lambda}^{\\text{CV}}=\\frac{1}{K}\\sum\\nolimits_k R_0(\\hat{\\boldsymbol{\\theta}}_{\\lambda}(\\mathcal{D}_{-k}),\\mathcal{D}_k)$$\n",
    "\n",
    "**Ejemplo:** $\\;$ validación cruzada con $K=5$ bloques\n",
    "<div><img src=\"Figure_4.6.png\" width=\"400\"></div>\n",
    "\n",
    "**Leave-one-out (LOO) cross validation:** $\\;$ CV con $K=N$\n",
    "\n",
    "**Uso de CV:** $\\;$ hallamos un $\\lambda$ òptimo, $\\hat{\\lambda}$, y luego re-estimamos $\\boldsymbol{\\theta}$ con todos los datos y $\\hat{\\lambda}$\n",
    "$$\\hat{\\lambda}=\\operatorname*{argmin}_{\\lambda}\\;R_{\\lambda}^{\\text{CV}}%\n",
    "\\qquad\\text{y, luego,}\\qquad%\n",
    "\\hat{\\boldsymbol{\\theta}}=\\operatorname*{argmin}_{\\boldsymbol{\\theta}}\\;R_{\\hat{\\lambda}}(\\boldsymbol{\\theta},\\mathcal{D})$$"
   ]
  },
  {
   "cell_type": "markdown",
   "metadata": {},
   "source": [
    "### 3.3.1 La regla \"un error estándar\"\n",
    "\n",
    "**Propósito:** $\\;$ añadir una medida de incertidumbre el estimador CV del riesgo\n",
    "\n",
    "**Error estándar de la media:** $\\;$ a partir del estimador CV del riesgo de cada muestra $n$, $\\,L_n=\\ell(\\boldsymbol{y}_n,f(\\boldsymbol{x}_n;\\hat{\\boldsymbol{\\theta}}_{\\lambda}(\\mathcal{D}_{-n})))$\n",
    "$$\\operatorname{se}(\\hat{\\mu})=\\frac{\\hat{\\sigma}}{\\sqrt{N}}%\n",
    "\\qquad\\text{donde}\\qquad%\n",
    "\\hat{\\mu}=\\frac{1}{N}\\sum\\nolimits_n L_n%\n",
    "\\quad\\text{y}\\quad%\n",
    "\\hat{\\sigma}^2=\\frac{1}{N}\\sum\\nolimits_n (L_n-\\hat{\\mu})^2$$\n",
    "\n",
    "**One-standard error rule:** $\\;$ se emplea para la selección de un modelo entre varios candidatos\n",
    "* Primero se aplica CV a cada modelo, obteniéndose la media y error estándar (de la media) a partir de sus riesgos estimados\n",
    "* Se selecciona el modelo más simple cuyo riesgo no sea mayor que un error estándar por encima del riesgo del mejor modelo"
   ]
  },
  {
   "cell_type": "markdown",
   "metadata": {},
   "source": [
    "### 3.3.2 Ejemplo: regresión de cresta\n",
    "\n",
    "* Izquierda: el MSE de test tiene forma de U; primero decrece al aumentar $\\lambda$, pero luego crece a causa del subajuste\n",
    "* Derecha: MSE estimado con $5$-bloques CV y error estándar de la media en barras verticales; mínimo cercano al óptimo en test\n",
    "\n",
    "<div><img src=\"polyfitRidgeUcurve.png\" width=\"400\"><img src=\"polyfitRidgeCV.png\" width=\"400\"></div>"
   ]
  },
  {
   "cell_type": "markdown",
   "metadata": {},
   "source": [
    "## 3.4 Terminación temprana"
   ]
  },
  {
   "cell_type": "markdown",
   "metadata": {},
   "source": [
    "**Asunción:** $\\;$ el ajuste de parámetros se realiza mediante un algoritmo de optimización iterativa\n",
    "\n",
    "**Early stopping:** $\\;$ valida el rendimiento del modelo tras cada iteración y termina antes de convergencia si se observa sobre-entrenamiento\n",
    "\n",
    "**Ejemplo:** $\\;$ pérdida y precisión de un clasificador de texto en IMDB\n",
    "\n",
    "<div><img src=\"imdb-loss.png\" width=\"400\"><img src=\"imdb-acc.png\" width=\"400\"></div>"
   ]
  },
  {
   "cell_type": "markdown",
   "metadata": {},
   "source": [
    "## 3.5 Uso de más datos"
   ]
  },
  {
   "cell_type": "markdown",
   "metadata": {},
   "source": [
    "**Datos y sobre-ajuste:** $\\;$ dado un un modelo de complejidad fija, la posibilidad de sobre-ajuste decrece al aumentar los datos\n",
    "\n",
    "**Ejemplo:** $\\;$ MSE en train y test de en función de $N$, para regresión de cresta con modelos de diferente complejidad\n",
    "\n",
    "<div><img src=\"polyfitN1.png\" width=\"400\"><img src=\"polyfitN2.png\" width=\"400\"></div>\n",
    "<div><img src=\"polyfitN10.png\" width=\"400\"><img src=\"polyfitN20.png\" width=\"400\"></div>"
   ]
  }
 ],
 "metadata": {
  "kernelspec": {
   "display_name": "Python 3",
   "language": "python",
   "name": "python3"
  },
  "language_info": {
   "codemirror_mode": {
    "name": "ipython",
    "version": 3
   },
   "file_extension": ".py",
   "mimetype": "text/x-python",
   "name": "python",
   "nbconvert_exporter": "python",
   "pygments_lexer": "ipython3",
   "version": "3.10.6"
  }
 },
 "nbformat": 4,
 "nbformat_minor": 2
}
