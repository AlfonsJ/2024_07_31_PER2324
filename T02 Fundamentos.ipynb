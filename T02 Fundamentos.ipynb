{
 "cells": [
  {
   "cell_type": "markdown",
   "metadata": {},
   "source": [
    "# T02 Fundamentos"
   ]
  },
  {
   "cell_type": "markdown",
   "metadata": {},
   "source": [
    "## 0. Recordatorio opcional de algebra lineal\n",
    "\n",
    "1. **Notación:** $\\;$ [vectores, matrices y tensores](https://github.com/AlfonsJ/PML1/blob/main/P01%20Fundamentos/T07%20Algebra%20lineal/7.1%20Introducci%C3%B3n/7.1.1%20Notaci%C3%B3n.ipynb)\n",
    "2. **Espacios vectoriales:** $\\;$ [espacio vectorial, transformaciones lineales y matrices, rango y espacio nulo, y proyección lineal](https://github.com/AlfonsJ/PML1/blob/main/P01%20Fundamentos/T07%20Algebra%20lineal/7.1%20Introducci%C3%B3n/7.1.2%20Espacios%20vectoriales.ipynb)\n",
    "3. **Normas vectoriales:** $\\;$ [L2, L1, L $\\!\\infty$](https://github.com/AlfonsJ/PML1/blob/main/P01%20Fundamentos/T07%20Algebra%20lineal/7.1%20Introducci%C3%B3n/7.1.3a%20Normas%20vectoriales.ipynb)\n",
    "4. **Propiedades de una matriz:** $\\;$ [traza, determinante, rango y número de condición](https://github.com/AlfonsJ/PML1/blob/main/P01%20Fundamentos/T07%20Algebra%20lineal/7.1%20Introducci%C3%B3n/7.1.4%20Propiedades%20de%20una%20matriz.ipynb)\n",
    "5. **Tipos de matrices especiales:** $\\;$ [diagonal, triangular, definida positiva y ortogonal](https://github.com/AlfonsJ/PML1/blob/main/P01%20Fundamentos/T07%20Algebra%20lineal/7.1%20Introducci%C3%B3n/7.1.5%20Tipos%20de%20matrices%20especiales.ipynb)\n",
    "6. **Multiplicación de matrices:** $\\;$ [definición](https://github.com/AlfonsJ/PML1/blob/main/P01%20Fundamentos/T07%20Algebra%20lineal/7.2%20Multiplicaci%C3%B3n%20de%20matrices/7.2.0%20Definici%C3%B3n%20y%20propiedades.ipynb), [productos vector-vector](https://github.com/AlfonsJ/PML1/blob/main/P01%20Fundamentos/T07%20Algebra%20lineal/7.2%20Multiplicaci%C3%B3n%20de%20matrices/7.2.1%20Productos%20vector-vector.ipynb), [matriz-vector](https://github.com/AlfonsJ/PML1/blob/main/P01%20Fundamentos/T07%20Algebra%20lineal/7.2%20Multiplicaci%C3%B3n%20de%20matrices/7.2.2%20Productos%20matriz-vector.ipynb) y [matriz-matriz](https://github.com/AlfonsJ/PML1/blob/main/P01%20Fundamentos/T07%20Algebra%20lineal/7.2%20Multiplicaci%C3%B3n%20de%20matrices/7.2.3%20Productos%20matriz-matriz.ipynb)\n",
    "4. **Inversión de matrices:** $\\;$ [inversa de una matriz cuadrada](https://github.com/AlfonsJ/PML1/blob/main/P01%20Fundamentos/T07%20Algebra%20lineal/7.3%20Inversi%C3%B3n%20de%20matrices/7.3.1%20Inversa%20de%20una%20matriz%20cuadrada.ipynb)"
   ]
  },
  {
   "cell_type": "markdown",
   "metadata": {},
   "source": [
    "## 1. Algebra lineal\n",
    "\n",
    "1. **Matrices de datos:** $\\;$ [suma y escalado de filas y columnas; matrices de suma de cuadrados, dispersión, Gram y distancias](https://github.com/AlfonsJ/PML1/blob/main/P01%20Fundamentos/T07%20Algebra%20lineal/7.2%20Multiplicaci%C3%B3n%20de%20matrices/7.2.4%20Manipulaci%C3%B3n%20de%20matrices%20de%20datos.ipynb)\n",
    "2. **Descomposición en valores propios:** $\\;$ [conceptos básicos](https://github.com/AlfonsJ/PML1/blob/main/P01%20Fundamentos/T07%20Algebra%20lineal/7.4%20Descomposici%C3%B3n%20en%20valores%20propios/7.4.1%20Conceptos%20b%C3%A1sicos.ipynb), [diagonalización](https://github.com/AlfonsJ/PML1/blob/main/P01%20Fundamentos/T07%20Algebra%20lineal/7.4%20Descomposici%C3%B3n%20en%20valores%20propios/7.4.2%20Diagonalizaci%C3%B3n.ipynb), [matrices reales y simétricas](https://github.com/AlfonsJ/PML1/blob/main/P01%20Fundamentos/T07%20Algebra%20lineal/7.4%20Descomposici%C3%B3n%20en%20valores%20propios/7.4.3%20Valores%20y%20vectores%20propios%20de%20matrices%20reales%20y%20sim%C3%A9tricas.ipynb), [geometría de las formas cuadráticas](https://github.com/AlfonsJ/PML1/blob/main/P01%20Fundamentos/T07%20Algebra%20lineal/7.4%20Descomposici%C3%B3n%20en%20valores%20propios/7.4.4%20Geometr%C3%ADa%20de%20las%20formas%20cuadr%C3%A1ticas.ipynb) y [estandarización, blanqueado y PCA](https://github.com/AlfonsJ/PML1/blob/main/P01%20Fundamentos/T07%20Algebra%20lineal/7.4%20Descomposici%C3%B3n%20en%20valores%20propios/7.4.5%20Estandarizaci%C3%B3n%20y%20blanqueado%20de%20datos.ipynb)\n",
    "2. **Descomposición en valores singulares:** $\\;$ [conceptos básicos](https://github.com/AlfonsJ/PML1/blob/main/P01%20Fundamentos/T07%20Algebra%20lineal/7.5%20Descomposici%C3%B3n%20en%20valores%20singulares/7.5.1%20Conceptos%20b%C3%A1sicos.ipynb) y [conexión entre la SVD y la EVD](https://github.com/AlfonsJ/PML1/blob/main/P01%20Fundamentos/T07%20Algebra%20lineal/7.5%20Descomposici%C3%B3n%20en%20valores%20singulares/7.5.2%20Conexi%C3%B3n%20entre%20la%20SVD%20y%20la%20EVD.ipynb)\n",
    "3. **Cálculo matricial:** $\\;$ [gradientes de funciones comunes](https://github.com/AlfonsJ/PML1/blob/main/P01%20Fundamentos/T07%20Algebra%20lineal/7.8%20C%C3%A1lculo%20matricial/7.8.7%20Gradientes%20de%20funciones%20comunes.ipynb) y [la Jacobiana](https://github.com/AlfonsJ/PML1/blob/main/P01%20Fundamentos/T07%20Algebra%20lineal/7.8%20C%C3%A1lculo%20matricial/7.8.5%20La%20Jacobiana.ipynb)"
   ]
  },
  {
   "cell_type": "markdown",
   "metadata": {},
   "source": [
    "## 2. Optimización\n",
    "\n",
    "1. **Introducción:** $\\;$ [optimización local vs global](https://github.com/AlfonsJ/PML1/blob/main/P01%20Fundamentos/T08%20Optimizaci%C3%B3n/8.1%20Introducci%C3%B3n/8.1.1%20Optimizaci%C3%B3n%20local%20vs%20global.ipynb) y [con o sin restricciones](https://github.com/AlfonsJ/PML1/blob/main/P01%20Fundamentos/T08%20Optimizaci%C3%B3n/8.1%20Introducci%C3%B3n/8.1.2%20Optimizaci%C3%B3n%20con%20o%20sin%20restricciones.ipynb)\n",
    "2. **Métodos de primer orden:** $\\;$ [método básico](https://github.com/AlfonsJ/PML1/blob/main/P01%20Fundamentos/T08%20Optimizaci%C3%B3n/8.2%20M%C3%A9todos%20de%20primer%20orden/8.2.0%20Introducci%C3%B3n.ipynb), [dirección de descenso](https://github.com/AlfonsJ/PML1/blob/main/P01%20Fundamentos/T08%20Optimizaci%C3%B3n/8.2%20M%C3%A9todos%20de%20primer%20orden/8.2.1%20Direcci%C3%B3n%20de%20descenso.ipynb), [factor de aprendizaje](https://github.com/AlfonsJ/PML1/blob/main/P01%20Fundamentos/T08%20Optimizaci%C3%B3n/8.2%20M%C3%A9todos%20de%20primer%20orden/8.2.2%20Tama%C3%B1o%20de%20paso%20o%20factor%20de%20aprendizaje.ipynb) y [momentum](https://github.com/AlfonsJ/PML1/blob/main/P01%20Fundamentos/T08%20Optimizaci%C3%B3n/8.2%20M%C3%A9todos%20de%20primer%20orden/8.2.4%20Momentum.ipynb)\n",
    "3. **Descenso por gradiente estocástico:** $\\;$ [método básico](https://github.com/AlfonsJ/PML1/blob/main/P01%20Fundamentos/T08%20Optimizaci%C3%B3n/8.4%20Descenso%20por%20gradiente%20estoc%C3%A1stico/8.4.0%20Introducci%C3%B3n.ipynb), [aplicación a problemas de sumas finitas](https://github.com/AlfonsJ/PML1/blob/main/P01%20Fundamentos/T08%20Optimizaci%C3%B3n/8.4%20Descenso%20por%20gradiente%20estoc%C3%A1stico/8.4.1%20Aplicaci%C3%B3n%20a%20problemas%20de%20sumas%20finitas.ipynb), [ elección del factor de aprendizaje](https://github.com/AlfonsJ/PML1/blob/main/P01%20Fundamentos/T08%20Optimizaci%C3%B3n/8.4%20Descenso%20por%20gradiente%20estoc%C3%A1stico/8.4.3%20Elecci%C3%B3n%20del%20tama%C3%B1o%20de%20paso.ipynb) y [SGD precondicionado](https://github.com/AlfonsJ/PML1/blob/main/P01%20Fundamentos/T08%20Optimizaci%C3%B3n/8.4%20Descenso%20por%20gradiente%20estoc%C3%A1stico/8.4.6%20SGD%20precondicionado.ipynb)"
   ]
  },
  {
   "cell_type": "markdown",
   "metadata": {},
   "source": [
    "## 3. Probabilidad\n",
    "\n",
    "1. **Introducción:** $\\;$ [conceptos básicos (opcional)](https://github.com/AlfonsJ/PML1/blob/main/P01%20Fundamentos/T02%20Probabilidad%3A%20modelos%20univariados/2.1%20Introducci%C3%B3n/2.1%20Introducci%C3%B3n.ipynb), [variables aleatorias (opcional)](https://github.com/AlfonsJ/PML1/blob/main/P01%20Fundamentos/T02%20Probabilidad%3A%20modelos%20univariados/2.2%20Variables%20aleatorias/2.2%20Variables%20aleatorias.ipynb) y [regla de Bayes](https://github.com/AlfonsJ/PML1/blob/main/P01%20Fundamentos/T02%20Probabilidad%3A%20modelos%20univariados/2.3%20Regla%20de%20Bayes/2.3%20Regla%20de%20Bayes.ipynb)\n",
    "2. **Distribuciones discretas:** $\\;$ [Bernoulli](https://github.com/AlfonsJ/PML1/blob/main/P01%20Fundamentos/T02%20Probabilidad%3A%20modelos%20univariados/2.4%20Distribuciones%20Bernoulli%20y%20binomial/2.4.1a%20Distribuci%C3%B3n%20de%20Bernoulli.ipynb), [función sigmoide](https://github.com/AlfonsJ/PML1/blob/main/P01%20Fundamentos/T02%20Probabilidad%3A%20modelos%20univariados/2.4%20Distribuciones%20Bernoulli%20y%20binomial/2.4.2%20Funci%C3%B3n%20log%C3%ADstica%20o%20sigmoide.ipynb), [codificación one-hot y categórica](https://github.com/AlfonsJ/PML1/blob/main/P01%20Fundamentos/T02%20Probabilidad%3A%20modelos%20univariados/2.5%20Distribuciones%20categ%C3%B3rica%20y%20multinomial/2.5.1a%20Codificaci%C3%B3n%20one-hot%20y%20distribuci%C3%B3n%20categ%C3%B3rica.ipynb) y [función softmax](https://github.com/AlfonsJ/PML1/blob/main/P01%20Fundamentos/T02%20Probabilidad%3A%20modelos%20univariados/2.5%20Distribuciones%20categ%C3%B3rica%20y%20multinomial/2.5.2%20La%20funci%C3%B3n%20softmax.ipynb)\n",
    "3. **Distribuciones continuas:** $\\;$ [Gaussiana univariada](https://github.com/AlfonsJ/PML1/blob/main/P01%20Fundamentos/T02%20Probabilidad%3A%20modelos%20univariados/2.6%20Distribuci%C3%B3n%20Gaussiana%20univariada/2.6.2%20Funci%C3%B3n%20de%20densidad%20de%20probabilidad.ipynb), [covarianza](https://github.com/AlfonsJ/PML1/blob/main/P01%20Fundamentos/T03%20Probabilidad%3A%20modelos%20multivariados/3.1%20Distribuciones%20conjuntas%20para%20variables%20aleatorias%20m%C3%BAltiples/3.1.1%20Covarianza.ipynb), [Gaussiana multivariada](https://github.com/AlfonsJ/PML1/blob/main/P01%20Fundamentos/T03%20Probabilidad%3A%20modelos%20multivariados/3.2%20La%20Gaussiana%20multivariada/3.2.1%20Definici%C3%B3n.ipynb) y [distancia de Mahalanobis](https://github.com/AlfonsJ/PML1/blob/main/P01%20Fundamentos/T03%20Probabilidad%3A%20modelos%20multivariados/3.2%20La%20Gaussiana%20multivariada/3.2.2%20Mahalanobis.ipynb)"
   ]
  },
  {
   "cell_type": "markdown",
   "metadata": {},
   "source": [
    "## 4. Teoría de la información\n",
    "\n",
    "1. **Entropía:** $\\;$ [entropía para variables aleatorias discretas](https://github.com/AlfonsJ/PML1/blob/main/P01%20Fundamentos/T06%20Teor%C3%ADa%20de%20la%20informaci%C3%B3n/6.1%20Entrop%C3%ADa/6.1.1%20Entrop%C3%ADa%20para%20variables%20aleatorias%20discretas.ipynb) y [entropía cruzada](https://github.com/AlfonsJ/PML1/blob/main/P01%20Fundamentos/T06%20Teor%C3%ADa%20de%20la%20informaci%C3%B3n/6.1%20Entrop%C3%ADa/6.1.2%20Entrop%C3%ADa%20cruzada.ipynb)"
   ]
  },
  {
   "cell_type": "markdown",
   "metadata": {},
   "source": [
    "## 5. Estadística\n",
    "\n",
    "1. **Estimación máximo-verosímil (MLE):** $\\;$ [definición](https://github.com/AlfonsJ/PML1/blob/main/P01%20Fundamentos/T04%20Estad%C3%ADstica/4.2%20Estimaci%C3%B3n%20m%C3%A1ximo-veros%C3%ADmil/4.2.1%20Definici%C3%B3n.ipynb), [Bernoulli](https://github.com/AlfonsJ/PML1/blob/main/P01%20Fundamentos/T04%20Estad%C3%ADstica/4.2%20Estimaci%C3%B3n%20m%C3%A1ximo-veros%C3%ADmil/4.2.3%20MLE%20para%20la%20Bernoulli.ipynb), [categórica](https://github.com/AlfonsJ/PML1/blob/main/P01%20Fundamentos/T04%20Estad%C3%ADstica/4.2%20Estimaci%C3%B3n%20m%C3%A1ximo-veros%C3%ADmil/4.2.4%20MLE%20para%20la%20categ%C3%B3rica.ipynb), [Gaussiana](https://github.com/AlfonsJ/PML1/blob/main/P01%20Fundamentos/T04%20Estad%C3%ADstica/4.2%20Estimaci%C3%B3n%20m%C3%A1ximo-veros%C3%ADmil/4.2.5%20MLE%20para%20la%20Gaussiana%20univariada.ipynb), [Gaussiana multivariada](https://github.com/AlfonsJ/PML1/blob/main/P01%20Fundamentos/T04%20Estad%C3%ADstica/4.2%20Estimaci%C3%B3n%20m%C3%A1ximo-veros%C3%ADmil/4.2.6%20MLE%20para%20la%20Gaussiana%20multivariada.ipynb) y [regresión lineal](https://github.com/AlfonsJ/PML1/blob/main/P01%20Fundamentos/T04%20Estad%C3%ADstica/4.2%20Estimaci%C3%B3n%20m%C3%A1ximo-veros%C3%ADmil/4.2.7%20MLE%20para%20regresi%C3%B3n%20lineal.ipynb)\n",
    "2. **Minimización del riesgo empírico:** $\\;$ [definición](https://github.com/AlfonsJ/PML1/blob/main/P01%20Fundamentos/T04%20Estad%C3%ADstica/4.3%20Minimizaci%C3%B3n%20del%20riesgo%20emp%C3%ADrico/4.3.1%20Definici%C3%B3n%20y%20ejemplo.ipynb) y [pérdida subrogada](https://github.com/AlfonsJ/PML1/blob/main/P01%20Fundamentos/T04%20Estad%C3%ADstica/4.3%20Minimizaci%C3%B3n%20del%20riesgo%20emp%C3%ADrico/4.3.2%20P%C3%A9rdida%20subrogada.ipynb)\n",
    "3. **Regularización:** $\\;$ [definición](https://github.com/AlfonsJ/PML1/blob/main/P01%20Fundamentos/T04%20Estad%C3%ADstica/4.5%20Regularizaci%C3%B3n/4.5.0%20Regularizaci%C3%B3n.ipynb), [validación](https://github.com/AlfonsJ/PML1/blob/main/P01%20Fundamentos/T04%20Estad%C3%ADstica/4.5%20Regularizaci%C3%B3n/4.5.4%20Elecci%C3%B3n%20del%20regularizador%20mediante%20validaci%C3%B3n.ipynb), [validación cruzada](https://github.com/AlfonsJ/PML1/blob/main/P01%20Fundamentos/T04%20Estad%C3%ADstica/4.5%20Regularizaci%C3%B3n/4.5.5%20Validaci%C3%B3n%20cruzada.ipynb), [terminación temprana](https://github.com/AlfonsJ/PML1/blob/main/P01%20Fundamentos/T04%20Estad%C3%ADstica/4.5%20Regularizaci%C3%B3n/4.5.6%20Terminaci%C3%B3n%20temprana.ipynb) y [uso de más datos](https://github.com/AlfonsJ/PML1/blob/main/P01%20Fundamentos/T04%20Estad%C3%ADstica/4.5%20Regularizaci%C3%B3n/4.5.7%20Uso%20de%20m%C3%A1s%20datos.ipynb)"
   ]
  },
  {
   "cell_type": "markdown",
   "metadata": {},
   "source": [
    "## 6. Teoría de la decisión Bayesiana\n",
    "\n",
    "1. **Conceptos básicos:** $\\;$ [estados de la naturaleza, acciones, pérdida, pérdida esperada, estimador de Bayes](https://github.com/AlfonsJ/PML1/blob/main/P01%20Fundamentos/T05%20Teor%C3%ADa%20de%20la%20decisi%C3%B3n/5.1%20Teor%C3%ADa%20de%20la%20decisi%C3%B3n%20Bayesiana/5.1.1a%20Conceptos%20b%C3%A1sicos.ipynb)\n",
    "2. **Problemas de clasificación:** $\\;$ [pérdida 01 y estimador de Bayes](https://github.com/AlfonsJ/PML1/blob/main/P01%20Fundamentos/T05%20Teor%C3%ADa%20de%20la%20decisi%C3%B3n/5.1%20Teor%C3%ADa%20de%20la%20decisi%C3%B3n%20Bayesiana/5.1.2a%20Problemas%20de%20clasificaci%C3%B3n%3A%20p%C3%A9rdida%2001.ipynb) y [matrices de confusión multiclase](https://github.com/AlfonsJ/PML1/blob/main/P01%20Fundamentos/T05%20Teor%C3%ADa%20de%20la%20decisi%C3%B3n/5.1%20Teor%C3%ADa%20de%20la%20decisi%C3%B3n%20Bayesiana/5.1.3a%20Matrices%20de%20confusi%C3%B3n%20multiclase.ipynb)\n",
    "3. **Problemas de regresión:** $\\;$ [pérdidas y estimadores de Bayes](https://github.com/AlfonsJ/PML1/blob/main/P01%20Fundamentos/T05%20Teor%C3%ADa%20de%20la%20decisi%C3%B3n/5.1%20Teor%C3%ADa%20de%20la%20decisi%C3%B3n%20Bayesiana/5.1.5%20Problemas%20de%20regresi%C3%B3n.ipynb)\n",
    "4. **Problemas de predicción probabilística:** $\\;$ [pérdida KL (entropía cruzada) y otras reglas de puntuación propias](https://github.com/AlfonsJ/PML1/blob/main/P01%20Fundamentos/T05%20Teor%C3%ADa%20de%20la%20decisi%C3%B3n/5.1%20Teor%C3%ADa%20de%20la%20decisi%C3%B3n%20Bayesiana/5.1.6%20Problemas%20de%20predicci%C3%B3n%20probabil%C3%ADstica.ipynb)"
   ]
  }
 ],
 "metadata": {
  "language_info": {
   "name": "python"
  }
 },
 "nbformat": 4,
 "nbformat_minor": 2
}
